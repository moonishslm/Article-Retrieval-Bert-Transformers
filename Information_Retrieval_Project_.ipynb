{
  "cells": [
    {
      "cell_type": "markdown",
      "metadata": {
        "id": "ZAa6Nc2GebpE"
      },
      "source": [
        "# Article Retrieval Project"
      ]
    },
    {
      "cell_type": "code",
      "execution_count": null,
      "metadata": {
        "colab": {
          "base_uri": "https://localhost:8080/"
        },
        "id": "G2Si_XZFAB9R",
        "outputId": "69cd0d75-23e2-4260-ddc5-62c08f77c79d"
      },
      "outputs": [
        {
          "output_type": "stream",
          "name": "stdout",
          "text": [
            "Requirement already satisfied: sentence-transformers in /usr/local/lib/python3.10/dist-packages (2.2.2)\n",
            "Requirement already satisfied: transformers<5.0.0,>=4.6.0 in /usr/local/lib/python3.10/dist-packages (from sentence-transformers) (4.30.2)\n",
            "Requirement already satisfied: tqdm in /usr/local/lib/python3.10/dist-packages (from sentence-transformers) (4.65.0)\n",
            "Requirement already satisfied: torch>=1.6.0 in /usr/local/lib/python3.10/dist-packages (from sentence-transformers) (2.0.1+cu118)\n",
            "Requirement already satisfied: torchvision in /usr/local/lib/python3.10/dist-packages (from sentence-transformers) (0.15.2+cu118)\n",
            "Requirement already satisfied: numpy in /usr/local/lib/python3.10/dist-packages (from sentence-transformers) (1.25.0)\n",
            "Requirement already satisfied: scikit-learn in /usr/local/lib/python3.10/dist-packages (from sentence-transformers) (1.2.2)\n",
            "Requirement already satisfied: scipy in /usr/local/lib/python3.10/dist-packages (from sentence-transformers) (1.10.1)\n",
            "Requirement already satisfied: nltk in /usr/local/lib/python3.10/dist-packages (from sentence-transformers) (3.8.1)\n",
            "Requirement already satisfied: sentencepiece in /usr/local/lib/python3.10/dist-packages (from sentence-transformers) (0.1.99)\n",
            "Requirement already satisfied: huggingface-hub>=0.4.0 in /usr/local/lib/python3.10/dist-packages (from sentence-transformers) (0.16.2)\n",
            "Requirement already satisfied: filelock in /usr/local/lib/python3.10/dist-packages (from huggingface-hub>=0.4.0->sentence-transformers) (3.12.2)\n",
            "Requirement already satisfied: fsspec in /usr/local/lib/python3.10/dist-packages (from huggingface-hub>=0.4.0->sentence-transformers) (2023.6.0)\n",
            "Requirement already satisfied: requests in /usr/local/lib/python3.10/dist-packages (from huggingface-hub>=0.4.0->sentence-transformers) (2.27.1)\n",
            "Requirement already satisfied: pyyaml>=5.1 in /usr/local/lib/python3.10/dist-packages (from huggingface-hub>=0.4.0->sentence-transformers) (6.0)\n",
            "Requirement already satisfied: typing-extensions>=3.7.4.3 in /usr/local/lib/python3.10/dist-packages (from huggingface-hub>=0.4.0->sentence-transformers) (4.6.3)\n",
            "Requirement already satisfied: packaging>=20.9 in /usr/local/lib/python3.10/dist-packages (from huggingface-hub>=0.4.0->sentence-transformers) (23.1)\n",
            "Requirement already satisfied: sympy in /usr/local/lib/python3.10/dist-packages (from torch>=1.6.0->sentence-transformers) (1.11.1)\n",
            "Requirement already satisfied: networkx in /usr/local/lib/python3.10/dist-packages (from torch>=1.6.0->sentence-transformers) (3.1)\n",
            "Requirement already satisfied: jinja2 in /usr/local/lib/python3.10/dist-packages (from torch>=1.6.0->sentence-transformers) (3.1.2)\n",
            "Requirement already satisfied: triton==2.0.0 in /usr/local/lib/python3.10/dist-packages (from torch>=1.6.0->sentence-transformers) (2.0.0)\n",
            "Requirement already satisfied: cmake in /usr/local/lib/python3.10/dist-packages (from triton==2.0.0->torch>=1.6.0->sentence-transformers) (3.25.2)\n",
            "Requirement already satisfied: lit in /usr/local/lib/python3.10/dist-packages (from triton==2.0.0->torch>=1.6.0->sentence-transformers) (16.0.6)\n",
            "Requirement already satisfied: regex!=2019.12.17 in /usr/local/lib/python3.10/dist-packages (from transformers<5.0.0,>=4.6.0->sentence-transformers) (2022.10.31)\n",
            "Requirement already satisfied: tokenizers!=0.11.3,<0.14,>=0.11.1 in /usr/local/lib/python3.10/dist-packages (from transformers<5.0.0,>=4.6.0->sentence-transformers) (0.13.3)\n",
            "Requirement already satisfied: safetensors>=0.3.1 in /usr/local/lib/python3.10/dist-packages (from transformers<5.0.0,>=4.6.0->sentence-transformers) (0.3.1)\n",
            "Requirement already satisfied: click in /usr/local/lib/python3.10/dist-packages (from nltk->sentence-transformers) (8.1.3)\n",
            "Requirement already satisfied: joblib in /usr/local/lib/python3.10/dist-packages (from nltk->sentence-transformers) (1.2.0)\n",
            "Requirement already satisfied: threadpoolctl>=2.0.0 in /usr/local/lib/python3.10/dist-packages (from scikit-learn->sentence-transformers) (3.1.0)\n",
            "Requirement already satisfied: pillow!=8.3.*,>=5.3.0 in /usr/local/lib/python3.10/dist-packages (from torchvision->sentence-transformers) (8.4.0)\n",
            "Requirement already satisfied: MarkupSafe>=2.0 in /usr/local/lib/python3.10/dist-packages (from jinja2->torch>=1.6.0->sentence-transformers) (2.1.3)\n",
            "Requirement already satisfied: urllib3<1.27,>=1.21.1 in /usr/local/lib/python3.10/dist-packages (from requests->huggingface-hub>=0.4.0->sentence-transformers) (1.26.16)\n",
            "Requirement already satisfied: certifi>=2017.4.17 in /usr/local/lib/python3.10/dist-packages (from requests->huggingface-hub>=0.4.0->sentence-transformers) (2023.5.7)\n",
            "Requirement already satisfied: charset-normalizer~=2.0.0 in /usr/local/lib/python3.10/dist-packages (from requests->huggingface-hub>=0.4.0->sentence-transformers) (2.0.12)\n",
            "Requirement already satisfied: idna<4,>=2.5 in /usr/local/lib/python3.10/dist-packages (from requests->huggingface-hub>=0.4.0->sentence-transformers) (3.4)\n",
            "Requirement already satisfied: mpmath>=0.19 in /usr/local/lib/python3.10/dist-packages (from sympy->torch>=1.6.0->sentence-transformers) (1.3.0)\n"
          ]
        }
      ],
      "source": [
        "!pip install -U sentence-transformers"
      ]
    },
    {
      "cell_type": "code",
      "execution_count": null,
      "metadata": {
        "colab": {
          "base_uri": "https://localhost:8080/"
        },
        "id": "6HIfqIwweVoZ",
        "outputId": "4dc90840-f9a8-4ae3-8bfb-687d08a42e86"
      },
      "outputs": [
        {
          "output_type": "stream",
          "name": "stderr",
          "text": [
            "[nltk_data] Downloading package punkt to /root/nltk_data...\n",
            "[nltk_data]   Unzipping tokenizers/punkt.zip.\n"
          ]
        },
        {
          "output_type": "stream",
          "name": "stdout",
          "text": [
            "Mounted at /content/drive\n"
          ]
        }
      ],
      "source": [
        "import json,glob,nltk,copy,torch,time,sentence_transformers,pickle\n",
        "import numpy as np\n",
        "from scipy import spatial\n",
        "from queue import PriorityQueue\n",
        "from sentence_transformers import SentenceTransformer,util\n",
        "from transformers import AutoModelForMaskedLM\n",
        "from sklearn.metrics.pairwise import cosine_similarity\n",
        "from IPython import display\n",
        "nltk.download('punkt')\n",
        "from google.colab import drive\n",
        "drive.mount('/content/drive')"
      ]
    },
    {
      "cell_type": "markdown",
      "metadata": {
        "id": "WJWakMCMt5Fn"
      },
      "source": [
        " Hazm is a natural language processing library for the Persian language"
      ]
    },
    {
      "cell_type": "code",
      "execution_count": null,
      "metadata": {
        "colab": {
          "base_uri": "https://localhost:8080/"
        },
        "id": "7yJoWMxxrz2B",
        "outputId": "74844091-f844-4cea-f434-9e591c1e266a"
      },
      "outputs": [
        {
          "output_type": "stream",
          "name": "stdout",
          "text": [
            "Requirement already satisfied: hazm in /usr/local/lib/python3.10/dist-packages (0.9.1)\n",
            "Requirement already satisfied: gensim<5.0.0,>=4.3.1 in /usr/local/lib/python3.10/dist-packages (from hazm) (4.3.1)\n",
            "Requirement already satisfied: nltk<4.0.0,>=3.8.1 in /usr/local/lib/python3.10/dist-packages (from hazm) (3.8.1)\n",
            "Requirement already satisfied: numpy<2.0.0,>=1.24.3 in /usr/local/lib/python3.10/dist-packages (from hazm) (1.25.0)\n",
            "Requirement already satisfied: python-crfsuite<0.10.0,>=0.9.9 in /usr/local/lib/python3.10/dist-packages (from hazm) (0.9.9)\n",
            "Requirement already satisfied: scikit-learn<2.0.0,>=1.2.2 in /usr/local/lib/python3.10/dist-packages (from hazm) (1.2.2)\n",
            "Requirement already satisfied: scipy>=1.7.0 in /usr/local/lib/python3.10/dist-packages (from gensim<5.0.0,>=4.3.1->hazm) (1.10.1)\n",
            "Requirement already satisfied: smart-open>=1.8.1 in /usr/local/lib/python3.10/dist-packages (from gensim<5.0.0,>=4.3.1->hazm) (6.3.0)\n",
            "Requirement already satisfied: click in /usr/local/lib/python3.10/dist-packages (from nltk<4.0.0,>=3.8.1->hazm) (8.1.3)\n",
            "Requirement already satisfied: joblib in /usr/local/lib/python3.10/dist-packages (from nltk<4.0.0,>=3.8.1->hazm) (1.2.0)\n",
            "Requirement already satisfied: regex>=2021.8.3 in /usr/local/lib/python3.10/dist-packages (from nltk<4.0.0,>=3.8.1->hazm) (2022.10.31)\n",
            "Requirement already satisfied: tqdm in /usr/local/lib/python3.10/dist-packages (from nltk<4.0.0,>=3.8.1->hazm) (4.65.0)\n",
            "Requirement already satisfied: threadpoolctl>=2.0.0 in /usr/local/lib/python3.10/dist-packages (from scikit-learn<2.0.0,>=1.2.2->hazm) (3.1.0)\n"
          ]
        }
      ],
      "source": [
        "!pip install hazm"
      ]
    },
    {
      "cell_type": "markdown",
      "metadata": {
        "id": "QEUqkFTuHCBZ"
      },
      "source": [
        "### GPU Cuda"
      ]
    },
    {
      "cell_type": "code",
      "execution_count": null,
      "metadata": {
        "colab": {
          "base_uri": "https://localhost:8080/"
        },
        "id": "yDQ0rCQ2BAaI",
        "outputId": "ba865c3c-8e57-40c3-96f7-440b446c0784"
      },
      "outputs": [
        {
          "output_type": "stream",
          "name": "stdout",
          "text": [
            "Device available for running: cpu\n"
          ]
        }
      ],
      "source": [
        "device = torch.device(\"cuda\" if torch.cuda.is_available() else \"cpu\")\n",
        "print(f\"Device available for running: {device}\")"
      ]
    },
    {
      "cell_type": "code",
      "execution_count": null,
      "metadata": {
        "id": "SMQSiOUOBXn4"
      },
      "outputs": [],
      "source": [
        "data = []\n",
        "with open('/content/drive/MyDrive/nasi_mashi/IR Final Project/dataset.json', 'r') as f:\n",
        "    jsonData = json.loads(f.read())\n",
        "\n",
        "# make a dictionary from json\n",
        "for line in jsonData:\n",
        "    title = line['Title'].replace(\"\\u200c\", \" \")\n",
        "    abstract = line['Abstract'].replace(\"\\u200c\", \" \")\n",
        "    keywords = line['Keyword'].replace(\"\\u200c\", \" \")\n",
        "    text = line['Text'].replace(\"\\u200c\", \" \")\n",
        "\n",
        "    data.append({\n",
        "        \"title\": title,\n",
        "        \"abstract\": abstract,\n",
        "        \"keywords\": keywords,\n",
        "        \"text\": text\n",
        "    })"
      ]
    },
    {
      "cell_type": "code",
      "execution_count": null,
      "metadata": {
        "id": "6AmxvwMEEC8i"
      },
      "outputs": [],
      "source": [
        "# tokenizing each paragraph to a sentence\n",
        "for i in range(len(data)):\n",
        "    data[i]['abstract'] = nltk.sent_tokenize(data[i]['abstract'])\n",
        "    data[i]['text'] = nltk.sent_tokenize(data[i]['text'])\n",
        "    data[i]['keywords'] = data[i]['keywords'].split('، ')"
      ]
    },
    {
      "cell_type": "code",
      "execution_count": null,
      "metadata": {
        "id": "wbG3WkidaxeN"
      },
      "outputs": [],
      "source": [
        "# creat a list of empty sublist of len data(number of articles)\n",
        "flatten_data = [[] for i in range(len(data))]\n",
        "\n",
        "# fill flatten with sentences.\n",
        "# flatten i is representer of all the sentences from article i(including abstract,text and keywords\n",
        "for i in range(len(data)):\n",
        "    abstract = data[i]['abstract']\n",
        "    body = data[i]['text']\n",
        "    keywords = data[i]['keywords']\n",
        "\n",
        "    for sentence in abstract:\n",
        "        flatten_data[i].append(sentence)\n",
        "    for sentence in body:\n",
        "        flatten_data[i].append(sentence)\n",
        "    for word in keywords:\n",
        "        flatten_data[i].append(word)"
      ]
    },
    {
      "cell_type": "code",
      "execution_count": null,
      "metadata": {
        "colab": {
          "base_uri": "https://localhost:8080/"
        },
        "id": "KuNyPGMQ77aU",
        "outputId": "f4644bf1-3656-47ce-8f4b-15e4215af2d1"
      },
      "outputs": [
        {
          "output_type": "execute_result",
          "data": {
            "text/plain": [
              "['هدف متناسب سازی نظریه های علوم اجتماعی با فضای بسترهای رسانه ای اجتماعی، موجب ارائه تحلیل های دقیق تری برای درک چرایی و چگونگی تغییر رفتار کاربران بسترهای رسانه ای می شود.',\n",
              " 'هدف پژوهش حاضر، استخراج الگوهای موجود در محتوای تولید شده توسط کاربران توییتر بود که برای تحقق آن از نظریه تمرکز نظارتی بهره برده شده است.',\n",
              " 'روش: این پژوهش از روش های متن کاوی استفاده کرده و جامعه آماری آن، شامل متن های انتشار یافته در توییتر طی بازه ی زمانی تیرماه ۱۳۹۹ تا تیرماه ۱۴۰۰ بوده است.',\n",
              " 'داده های مورد استفاده در این پژوهش با تمرکز بر کلیدواژه های مرتبط با موضوع حجاب گردآوری شده است.',\n",
              " 'یافته ها: داده های استخراج شده، تعداد ۳۳۱۹۲ توییت بود که پس از پاکسازی، ۱۹۶۷ توییت نمونه بر مبنای نظریه تمرکز نظارتی برچسب گذاری شد.',\n",
              " 'در این پژوهش، توییت های نمونه با توجه به پیش فرض مثبت یا منفی، به دو دسته توییت های پیشبردی و اجتنابی دسته بندی شدند.',\n",
              " 'بر این اساس، تعداد ۸۱۵ توییت پیشبردی و ۱۱۵۲ توییت اجتنابی شناسایی شد.',\n",
              " 'سپس توییت های پیشبردی در دو دسته توییت های برخورداری و محرومیتی و توییت های اجتنابی در دو دسته توییت های گریزی و مواجهه ای دسته بندی و الگوسازی شدند.',\n",
              " 'در ادامه، برای تشخیص گفتمان های موجود در حوزه ی حجاب در توییتر، با استفاده از روش های متن کاوی، مدل سازی انجام گرفت.',\n",
              " 'نتیجه گیری: چهار گفتمان برخورداری، محرومیت، گریز و مواجهه، در توییت های بررسی شده تشخیص داده شد که نشان از تکرار بالای کدها در الگوی مواجهه دارد.',\n",
              " 'از این تکرار بالای کدها می توان انسجام معنایی در الگوی مواجهه در توییتر وسپس جامعه را استنتاج کرد.',\n",
              " 'انسجام معنایی، جهت دهی به افکار عمومی را تسهیل می کند و انسجام رویکردی نیز بسیج عمومی برای تحول خواهی در موضوعات فرهنگی را ایجاد خواهد کرد.',\n",
              " 'ظهور بسترهای رسانه ای اجتماعی، ساختار جوامع انسانی را دگرگون کرده است.',\n",
              " 'انقلاب این بسترهای اجتماعی در علوم انسانی، به معنای گذر از ساخت اجتماعی واقعیت زمان مند و مکان مند به ساخت اجتماعی واقعیت غیر زمان مند و غیر مکان مند است.',\n",
              " 'با این حال، حذف قید زمان و مکان از ساخت اجتماعی واقعیت، به معنای یک دست شدن تمام جوامع انسانی نیست.',\n",
              " 'بسترهای رسانه ای اجتماعی از یک سو با حذف قید مکان و زمان، امکان همگرایی بیشتر را فراهم می کنند.',\n",
              " 'در واقع، نمادهای فرهنگی در قالب محتوای قابل ذخیره بدون قید زمان و مکان، امکان مشارکت در ساخت اجتماعی واقعیت را برای همگان فراهم می کنند.',\n",
              " 'از سوی دیگر، این بسترها با شبکه سازی، امکان واگرایی بیشتر را فراهم می کنند.',\n",
              " 'کاربران بسترهای رسانه ای اجتماعی تمایل بیشتری به قرار گرفتن در شبکه هایی از نمادهای فرهنگی را دارند که با عقاید شخصی آن ها همخوانی داشته باشد.',\n",
              " 'در بسترهای رسانه ای اجتماعی، شبکه سازی بر پایه نمادهای فرهنگی موجب هر چه متعصب تر شدن اعضای شبکه می شود.',\n",
              " 'خطر وحدت در تناقض، وحشت گسست اجتماعی را ایجاد می کند.',\n",
              " 'احساس خطر از گسست اجتماعی، نقطه شروع فعالیت برای تحلیل محتوای بسترهای رسانه ای اجتماعی است.',\n",
              " 'نظریه تمرکز نظارتی از جدیدترین و مهمترین نظریه های علوم انسانی در حوزه تبیین رفتار انسان ها در دنبال کردن اهداف انسانی است.',\n",
              " 'امروزه، از این نظریه در حوزه های متفاوتی مانند رفتار مصرف کننده، رفتار سازمانی، رفتار شهروندی و غیره استفاده می شود.',\n",
              " 'موفقیت توری هیگینز در استفاده از نظریه تمرکز نظارتی برای تبیین جنبه های مختلف رفتارهای انسانی بر مبنای هدف های انسانی، موجبشده است که این نظریه برای تحلیل رفتار انسانی در بسترهای رسانه ای اجتماعی نیز مورد استفاده قرار گیرد.',\n",
              " 'به طور خلاصه، نظریه تمرکز نظارتی در بسترهای رسانه ای اجتماعی به معنای تلاش افراد برای دستیابی به هدف های انسانی خود است.',\n",
              " 'این هدف ها ممکن است شامل ایجاد ارتباط با دیگران، گسترش دانش و اطلاعات، ارتقای جایگاه اجتماعی و غیره باشند.',\n",
              " 'در این فرایند، افراد تلاش می کنند تا با انتخاب و پرداختن به محتوایی که با هدف های انسانی خود همخوانی دارد، به دستیابی به اهدافشان برسند.',\n",
              " 'بسترهای رسانه ای اجتماعی امکانات فراوانی برای تأثیرگذاری بر رفتار افراد در جهت دستیابی به هدف های انسانی فراهم می کنند.',\n",
              " 'از جمله این امکانات می توان به الگوریتم های پیشنهاد دهنده، تبلیغات هدفمند، ارزیابی اجتماعی و غیره اشاره کرد.',\n",
              " 'با استفاده از این امکانات، بسترهای رسانه ای اجتماعی می توانند به شکل قابل توجهی بر رفتار افراد در جهت دستیابی به هدف های انسانی تاثیر بگذارند.',\n",
              " 'از این رو، تحلیل و بررسی رفتار افراد در بسترهای رسانه ای اجتماعی با استفاده از نظریه تمرکز نظارتی، می تواند به شناخت بهتری از رفتار افراد در این بسترها و همچنین بهبود کاربردهای آن ها در جهت دستیابی به هدف های انسانی کمک کند.',\n",
              " 'د رفتاری در الگوی گریز نیز به عنوان یکی از عوامل موثر در رفتار افراد مورد بررسی قرار می گیرد.',\n",
              " 'در این الگو، افراد به دلیل فشارها و شرایطی که در مورد حجاب برای آنها پیش می آیند، تمایل به فرار از این شرایط دارند.',\n",
              " 'بعد رفتاری در الگوی مواجهه نیز به عنوان یکی از عوامل موثر در رفتار افراد در مواجهه با مسئله حجاب، مورد بررسی قرار می گیرد.',\n",
              " 'در این الگو، افراد تلاش می کنند با شرایط موجود در مورد حجاب مواجه شوند و برای حل مشکلات و ایجاد تغییر در وضعیت کنونی، فعالیت می کنند.',\n",
              " 'به طور کلی، بررسی الگوهای برخورداری، محرومیت، گریز و مواجهه در توییت های حوزه حجاب، نشان می دهد که این موضوع همچنان یکی از مهمترین موضوعات اجتماعی در جامعه ایران است و تاثیرات گسترده ای بر رفتار و ادراک افراد دارد.',\n",
              " 'در آینده نیز، این موضوع به عنوان یکی از چالش های مهم حاکمیت در جامعه ایران و ایرانیان باقی خواهد ماند.',\n",
              " 'بین الگوی مواجهه با الگوهای محرومیت و گریز، تعامل برقرار است.',\n",
              " 'این در حالی است که بُعد های نتایج منفی و مثبت در الگوی برخورداری، به طور بالقوه تنها توانایی ترسیم وضعیت ایده آل برای دو بُعد امنیت و فشار امنیتی در الگوی گریز را دارند.',\n",
              " 'بر این اساس، می توان نتیجه گرفت که بین الگوی برخورداری با الگوی محرومیت، تعامل برقرار نیست؛ در حالی که بین الگوی برخورداری با الگوی گریز، تعامل برقرار است.',\n",
              " 'بر اساس یافته ها، توییت های حاوی کلمات کلیدی (زیر مقولات استخراج شده) مرتبط با نافرمانی مدنی و مداخله قانونی یا توییت های حاوی زیر مقولات مشارکت زنان، همراه با یکی از زیر مقولات این دو کلید واژه، می توانند هدایتگر توییت ها به سمت تسهیل جریان های تحول خواهی در این حوزه ها باشند.',\n",
              " 'اینگز اینکه الگوهای برخورداری، محرومیت، گریز و مواجهه در توییت های حوزه حجاب نشان می دهد که این مسئله همچنان یکی از مهمترین موضوعات اجتماعی در جامعه ایران است، بهتر است که دولت و مسئولان مختلف در جامعه برای حل مشکلات و ایجاد تغییر در وضعیت کنونی، فعالیت کنند و به جامعه پاسخگو باشند.',\n",
              " 'همچنین، برای تسهیل جریان های تحول خواهی در حوزه حجاب، نیاز است که زنان در این حوزه ها مشارکت بیشتری داشته باشند و نقش آن ها در جامعه توسعه یابد.',\n",
              " 'در نهایت، آگاهی و آموزش افراد درباره حقوق زنان و مفاهیمی مانند تربیت جنسی و حریم شخصی به عنوان پایه های اصلی برای حل مشکلات موجود، بسیار مهم است.',\n",
              " 'نظريه تمركز نظارتي',\n",
              " 'بستر توييتر',\n",
              " 'حجاب',\n",
              " 'الگوهای رفتاری كاربران',\n",
              " 'متن كاوی']"
            ]
          },
          "metadata": {},
          "execution_count": 9
        }
      ],
      "source": [
        "# for intance, it reperesents all the sentences for first article in JSON file\n",
        "flatten_data[0]"
      ]
    },
    {
      "cell_type": "code",
      "execution_count": null,
      "metadata": {
        "id": "j0NzykAOzFf7"
      },
      "outputs": [],
      "source": [
        "queries = ['آیا متن کاوي شامل مجموعه ابزار هاي هوشمندي است که براي سازماندهی اطلاعات بدون ساختار از آن استفاده میشود؟', 'متن کاوی در کجا استفاده میشود؟', 'رابطه انسان و فناوری چیست؟']"
      ]
    },
    {
      "cell_type": "markdown",
      "metadata": {
        "id": "w0vAn4LyIQ2e"
      },
      "source": [
        "#### rtl_print"
      ]
    },
    {
      "cell_type": "code",
      "execution_count": null,
      "metadata": {
        "id": "glRGXpReHdbZ"
      },
      "outputs": [],
      "source": [
        "def rtl_print(outputs, font_size=\"15px\", n_to_br=False):\n",
        "    outputs = outputs if isinstance(outputs, list) else [outputs]\n",
        "    if n_to_br:\n",
        "        outputs = [output.replace('\\n', '<br/>') for output in outputs]\n",
        "\n",
        "    outputs = [f'<p style=\"text-align: right; direction: rtl; margin-right: 10px; font-size: {font_size};\">{output}</p>' for output in outputs]\n",
        "    display.display(display.HTML(' '.join(outputs)))"
      ]
    },
    {
      "cell_type": "markdown",
      "metadata": {
        "id": "UbSKq7NzKzlu"
      },
      "source": [
        "##TF-IDF"
      ]
    },
    {
      "cell_type": "code",
      "execution_count": null,
      "metadata": {
        "id": "lD9JhlWVJdVh"
      },
      "outputs": [],
      "source": [
        "import time\n",
        "from sklearn.feature_extraction.text import TfidfVectorizer\n",
        "\n",
        "# Example Persian sentences\n",
        "sentences = []\n",
        "for i in range(len(data)):\n",
        "    abstract = data[i]['abstract']\n",
        "    body = data[i]['text']\n",
        "    keywords = data[i]['keywords']\n",
        "\n",
        "    for sentence in abstract:\n",
        "        sentences.append(sentence)\n",
        "    for sentence in body:\n",
        "        sentences.append(sentence)\n",
        "    for sentence in keywords:\n",
        "        sentences.append(sentence)\n"
      ]
    },
    {
      "cell_type": "code",
      "execution_count": null,
      "metadata": {
        "colab": {
          "base_uri": "https://localhost:8080/"
        },
        "id": "5wmLZA7JJezQ",
        "outputId": "c3f08c78-94a3-4d9f-e618-e1c8de3dbc6c"
      },
      "outputs": [
        {
          "output_type": "execute_result",
          "data": {
            "text/plain": [
              "540"
            ]
          },
          "metadata": {},
          "execution_count": 16
        }
      ],
      "source": [
        "# number of all the sentences\n",
        "len(sentences)"
      ]
    },
    {
      "cell_type": "code",
      "execution_count": null,
      "metadata": {
        "colab": {
          "base_uri": "https://localhost:8080/",
          "height": 36
        },
        "id": "TK7HVnU3KWUl",
        "outputId": "a5aca51a-b65a-4a61-86a8-5f8f7de5c954"
      },
      "outputs": [
        {
          "output_type": "execute_result",
          "data": {
            "text/plain": [
              "'هدف متناسب سازی نظریه های علوم اجتماعی با فضای بسترهای رسانه ای اجتماعی، موجب ارائه تحلیل های دقیق تری برای درک چرایی و چگونگی تغییر رفتار کاربران بسترهای رسانه ای می شود.'"
            ],
            "application/vnd.google.colaboratory.intrinsic+json": {
              "type": "string"
            }
          },
          "metadata": {},
          "execution_count": 17
        }
      ],
      "source": [
        "sentences[0]"
      ]
    },
    {
      "cell_type": "code",
      "execution_count": null,
      "metadata": {
        "id": "ZXjqVz4IVCBJ"
      },
      "outputs": [],
      "source": [
        "# Create a TfidfVectorizer object and fit it to the sentences\n",
        "vectorizer = TfidfVectorizer()\n",
        "\n",
        "# by fiting the vectorizer, creates a vocabulary of words and computes their corresponding tf-idf scores.\n",
        "vectorizer.fit(sentences)\n",
        "\n",
        "# initializes an empty list to hold the tf-idf embeddings for each article.\n",
        "tfidf_embeddings = [[] for i in range(len(data))]\n",
        "for i in range(len(data)):\n",
        "    abstract = data[i]['abstract']\n",
        "    body = data[i]['text']\n",
        "    keywords = data[i]['keywords']\n",
        "\n",
        "    # initializes an empty list to hold the sentences of the current article.\n",
        "    article_sentences = []\n",
        "    for sentence in abstract:\n",
        "        article_sentences.append(sentence)\n",
        "    for sentence in body:\n",
        "        article_sentences.append(sentence)\n",
        "    for sentence in keywords:\n",
        "        article_sentences.append(sentence)\n",
        "\n",
        "    # transforms the sentences of the current article into a matrix of tf-idf scores using the previously fitted\n",
        "    sentence_vectors = vectorizer.transform(article_sentences)\n",
        "\n",
        "    # Compute the weighted sum of the sentence vectors to obtain the article embedding\n",
        "    weights = sentence_vectors.toarray()\n",
        "    article_embedding = np.sum(weights[:, :, np.newaxis] * sentence_vectors.toarray()[:, np.newaxis, :], axis=1)\n",
        "    article_embedding = article_embedding.squeeze()\n",
        "\n",
        "    # Add the article embedding to the list of embeddings\n",
        "    tfidf_embeddings[i].append(article_embedding)\n",
        "\n",
        "    tfidf_embeddings[i] = np.concatenate(tfidf_embeddings[i])"
      ]
    },
    {
      "cell_type": "code",
      "execution_count": null,
      "metadata": {
        "colab": {
          "base_uri": "https://localhost:8080/"
        },
        "id": "aQjfGGurYcg_",
        "outputId": "7b36c408-3363-48c7-aaf1-98e3749b6f60"
      },
      "outputs": [
        {
          "output_type": "execute_result",
          "data": {
            "text/plain": [
              "<1x2354 sparse matrix of type '<class 'numpy.float64'>'\n",
              "\twith 12 stored elements in Compressed Sparse Row format>"
            ]
          },
          "metadata": {},
          "execution_count": 19
        }
      ],
      "source": [
        "sentence_vectors[0]"
      ]
    },
    {
      "cell_type": "code",
      "execution_count": null,
      "metadata": {
        "id": "BBl4fVugGc8P"
      },
      "outputs": [],
      "source": [
        "# Encode the queries using the tf-idf vectors\n",
        "query_embeddings = [vectorizer.transform([query]).toarray()[0] for query in queries]"
      ]
    },
    {
      "cell_type": "code",
      "execution_count": null,
      "metadata": {
        "colab": {
          "base_uri": "https://localhost:8080/",
          "height": 1000
        },
        "id": "pPP2xCbkr4pI",
        "outputId": "555b9af7-d072-40c9-fd5e-7a0879b9f6f1"
      },
      "outputs": [
        {
          "output_type": "display_data",
          "data": {
            "text/plain": [
              "<IPython.core.display.HTML object>"
            ],
            "text/html": [
              "<p style=\"text-align: right; direction: rtl; margin-right: 10px; font-size: 15px;\">سوال: آیا متن کاوي شامل مجموعه ابزار هاي هوشمندي است که براي سازماندهی اطلاعات بدون ساختار از آن استفاده میشود؟</p> <p style=\"text-align: right; direction: rtl; margin-right: 10px; font-size: 15px;\"><br/></p>"
            ]
          },
          "metadata": {}
        },
        {
          "output_type": "display_data",
          "data": {
            "text/plain": [
              "<IPython.core.display.HTML object>"
            ],
            "text/html": [
              "<p style=\"text-align: right; direction: rtl; margin-right: 10px; font-size: 15px;\">پاسخ 1: متن کاوي شامل مجموعه ابزار هاي هوشمندي است که براي سازماندهی اطلاعات بدون ساختار از آن استفاده میشود.</p>"
            ]
          },
          "metadata": {}
        },
        {
          "output_type": "display_data",
          "data": {
            "text/plain": [
              "<IPython.core.display.HTML object>"
            ],
            "text/html": [
              "<p style=\"text-align: right; direction: rtl; margin-right: 10px; font-size: 15px;\">از مقاله: تحلیل احساس نظرات فیلم ها با استفاده از ماشین بردار پیشتیبان دو قلو کمترین مربعات</p>"
            ]
          },
          "metadata": {}
        },
        {
          "output_type": "display_data",
          "data": {
            "text/plain": [
              "<IPython.core.display.HTML object>"
            ],
            "text/html": [
              "<p style=\"text-align: right; direction: rtl; margin-right: 10px; font-size: 15px;\">امتیاز: 0.9530103111395443</p>"
            ]
          },
          "metadata": {}
        },
        {
          "output_type": "stream",
          "name": "stdout",
          "text": [
            "\n"
          ]
        },
        {
          "output_type": "display_data",
          "data": {
            "text/plain": [
              "<IPython.core.display.HTML object>"
            ],
            "text/html": [
              "<p style=\"text-align: right; direction: rtl; margin-right: 10px; font-size: 15px;\">پاسخ 2: ابزار گرامر نهادی در تحلیل گزاره ها از ساختار عمومی نحوی شامل پنج مؤلفه هدف، تکلیف، ویژگی، وگرنه و شرایط بهره می گیرد.</p>"
            ]
          },
          "metadata": {}
        },
        {
          "output_type": "display_data",
          "data": {
            "text/plain": [
              "<IPython.core.display.HTML object>"
            ],
            "text/html": [
              "<p style=\"text-align: right; direction: rtl; margin-right: 10px; font-size: 15px;\">از مقاله: پردازش نظام مند قانون؛ مطالعه موردی قانون پیشگیری و مقابله با تقلب در تهیه آثارعلمی</p>"
            ]
          },
          "metadata": {}
        },
        {
          "output_type": "display_data",
          "data": {
            "text/plain": [
              "<IPython.core.display.HTML object>"
            ],
            "text/html": [
              "<p style=\"text-align: right; direction: rtl; margin-right: 10px; font-size: 15px;\">امتیاز: 0.15900553664821437</p>"
            ]
          },
          "metadata": {}
        },
        {
          "output_type": "stream",
          "name": "stdout",
          "text": [
            "\n"
          ]
        },
        {
          "output_type": "display_data",
          "data": {
            "text/plain": [
              "<IPython.core.display.HTML object>"
            ],
            "text/html": [
              "<p style=\"text-align: right; direction: rtl; margin-right: 10px; font-size: 15px;\">پاسخ 3: روش: این پژوهش از روش های متن کاوی استفاده کرده و جامعه آماری آن، شامل متن های انتشار یافته در توییتر طی بازه ی زمانی تیرماه ۱۳۹۹ تا تیرماه ۱۴۰۰ بوده است.</p>"
            ]
          },
          "metadata": {}
        },
        {
          "output_type": "display_data",
          "data": {
            "text/plain": [
              "<IPython.core.display.HTML object>"
            ],
            "text/html": [
              "<p style=\"text-align: right; direction: rtl; margin-right: 10px; font-size: 15px;\">از مقاله: تشخیص گفتمان در بستر توییتر با کاربست نظریه تمرکز نظارتی؛ روش های متن کاوی</p>"
            ]
          },
          "metadata": {}
        },
        {
          "output_type": "display_data",
          "data": {
            "text/plain": [
              "<IPython.core.display.HTML object>"
            ],
            "text/html": [
              "<p style=\"text-align: right; direction: rtl; margin-right: 10px; font-size: 15px;\">امتیاز: 0.15123799649365302</p>"
            ]
          },
          "metadata": {}
        },
        {
          "output_type": "stream",
          "name": "stdout",
          "text": [
            "\n"
          ]
        },
        {
          "output_type": "display_data",
          "data": {
            "text/plain": [
              "<IPython.core.display.HTML object>"
            ],
            "text/html": [
              "<p style=\"text-align: right; direction: rtl; margin-right: 10px; font-size: 15px;\">پاسخ 4: با توجه به عوامل خارجی، استراتژی های به کار رفته در طراحی و سازماندهی مجموعه، عوامل شخصی و زمان، جستجوی اطلاعات انجام می شود.</p>"
            ]
          },
          "metadata": {}
        },
        {
          "output_type": "display_data",
          "data": {
            "text/plain": [
              "<IPython.core.display.HTML object>"
            ],
            "text/html": [
              "<p style=\"text-align: right; direction: rtl; margin-right: 10px; font-size: 15px;\">از مقاله: کشف الگوهای کلیک کاربران برای استفاده در پرس و جو در پایگاه های اطلاعاتی</p>"
            ]
          },
          "metadata": {}
        },
        {
          "output_type": "display_data",
          "data": {
            "text/plain": [
              "<IPython.core.display.HTML object>"
            ],
            "text/html": [
              "<p style=\"text-align: right; direction: rtl; margin-right: 10px; font-size: 15px;\">امتیاز: 0.14200808221674097</p>"
            ]
          },
          "metadata": {}
        },
        {
          "output_type": "stream",
          "name": "stdout",
          "text": [
            "\n"
          ]
        },
        {
          "output_type": "display_data",
          "data": {
            "text/plain": [
              "<IPython.core.display.HTML object>"
            ],
            "text/html": [
              "<p style=\"text-align: right; direction: rtl; margin-right: 10px; font-size: 15px;\">------------------------------------------------------------------------------------------------------------------------------</p>"
            ]
          },
          "metadata": {}
        },
        {
          "output_type": "stream",
          "name": "stdout",
          "text": [
            "\n"
          ]
        },
        {
          "output_type": "display_data",
          "data": {
            "text/plain": [
              "<IPython.core.display.HTML object>"
            ],
            "text/html": [
              "<p style=\"text-align: right; direction: rtl; margin-right: 10px; font-size: 15px;\">سوال: متن کاوی در کجا استفاده میشود؟</p> <p style=\"text-align: right; direction: rtl; margin-right: 10px; font-size: 15px;\"><br/></p>"
            ]
          },
          "metadata": {}
        },
        {
          "output_type": "display_data",
          "data": {
            "text/plain": [
              "<IPython.core.display.HTML object>"
            ],
            "text/html": [
              "<p style=\"text-align: right; direction: rtl; margin-right: 10px; font-size: 15px;\">پاسخ 1: داده کاوی</p>"
            ]
          },
          "metadata": {}
        },
        {
          "output_type": "display_data",
          "data": {
            "text/plain": [
              "<IPython.core.display.HTML object>"
            ],
            "text/html": [
              "<p style=\"text-align: right; direction: rtl; margin-right: 10px; font-size: 15px;\">از مقاله: کاربست قوانین انجمنی و خوشه بندی در کنترل کیفیت داده های پژوهشی مورد مطالعه: پایگاه اطلاعات علمی ایران (گنچ)</p>"
            ]
          },
          "metadata": {}
        },
        {
          "output_type": "display_data",
          "data": {
            "text/plain": [
              "<IPython.core.display.HTML object>"
            ],
            "text/html": [
              "<p style=\"text-align: right; direction: rtl; margin-right: 10px; font-size: 15px;\">امتیاز: 0.4258173691735395</p>"
            ]
          },
          "metadata": {}
        },
        {
          "output_type": "stream",
          "name": "stdout",
          "text": [
            "\n"
          ]
        },
        {
          "output_type": "display_data",
          "data": {
            "text/plain": [
              "<IPython.core.display.HTML object>"
            ],
            "text/html": [
              "<p style=\"text-align: right; direction: rtl; margin-right: 10px; font-size: 15px;\">پاسخ 2: متن کاوي شامل مجموعه ابزار هاي هوشمندي است که براي سازماندهی اطلاعات بدون ساختار از آن استفاده میشود.</p>"
            ]
          },
          "metadata": {}
        },
        {
          "output_type": "display_data",
          "data": {
            "text/plain": [
              "<IPython.core.display.HTML object>"
            ],
            "text/html": [
              "<p style=\"text-align: right; direction: rtl; margin-right: 10px; font-size: 15px;\">از مقاله: تحلیل احساس نظرات فیلم ها با استفاده از ماشین بردار پیشتیبان دو قلو کمترین مربعات</p>"
            ]
          },
          "metadata": {}
        },
        {
          "output_type": "display_data",
          "data": {
            "text/plain": [
              "<IPython.core.display.HTML object>"
            ],
            "text/html": [
              "<p style=\"text-align: right; direction: rtl; margin-right: 10px; font-size: 15px;\">امتیاز: 0.35779659174714085</p>"
            ]
          },
          "metadata": {}
        },
        {
          "output_type": "stream",
          "name": "stdout",
          "text": [
            "\n"
          ]
        },
        {
          "output_type": "display_data",
          "data": {
            "text/plain": [
              "<IPython.core.display.HTML object>"
            ],
            "text/html": [
              "<p style=\"text-align: right; direction: rtl; margin-right: 10px; font-size: 15px;\">پاسخ 3: در ادامه، برای تشخیص گفتمان های موجود در حوزه ی حجاب در توییتر، با استفاده از روش های متن کاوی، مدل سازی انجام گرفت.</p>"
            ]
          },
          "metadata": {}
        },
        {
          "output_type": "display_data",
          "data": {
            "text/plain": [
              "<IPython.core.display.HTML object>"
            ],
            "text/html": [
              "<p style=\"text-align: right; direction: rtl; margin-right: 10px; font-size: 15px;\">از مقاله: تشخیص گفتمان در بستر توییتر با کاربست نظریه تمرکز نظارتی؛ روش های متن کاوی</p>"
            ]
          },
          "metadata": {}
        },
        {
          "output_type": "display_data",
          "data": {
            "text/plain": [
              "<IPython.core.display.HTML object>"
            ],
            "text/html": [
              "<p style=\"text-align: right; direction: rtl; margin-right: 10px; font-size: 15px;\">امتیاز: 0.32194015594802927</p>"
            ]
          },
          "metadata": {}
        },
        {
          "output_type": "stream",
          "name": "stdout",
          "text": [
            "\n"
          ]
        },
        {
          "output_type": "display_data",
          "data": {
            "text/plain": [
              "<IPython.core.display.HTML object>"
            ],
            "text/html": [
              "<p style=\"text-align: right; direction: rtl; margin-right: 10px; font-size: 15px;\">پاسخ 4: پردازش متن به عنوان یکی از حوزه های مرتبط با زبانشناسی رایانشی، سابقه های دیرینه در زبان فارسی دارد و آزمایشگاه های مختلفی در دانشگاه ها و سازمان ها برای پردازش متن شکل گرفته است.</p>"
            ]
          },
          "metadata": {}
        },
        {
          "output_type": "display_data",
          "data": {
            "text/plain": [
              "<IPython.core.display.HTML object>"
            ],
            "text/html": [
              "<p style=\"text-align: right; direction: rtl; margin-right: 10px; font-size: 15px;\">از مقاله: بررسی امکان افزایش صحت یک ابزار برچسبدهی به اجزای کلام در فارسی</p>"
            ]
          },
          "metadata": {}
        },
        {
          "output_type": "display_data",
          "data": {
            "text/plain": [
              "<IPython.core.display.HTML object>"
            ],
            "text/html": [
              "<p style=\"text-align: right; direction: rtl; margin-right: 10px; font-size: 15px;\">امتیاز: 0.17607798784928091</p>"
            ]
          },
          "metadata": {}
        },
        {
          "output_type": "stream",
          "name": "stdout",
          "text": [
            "\n"
          ]
        },
        {
          "output_type": "display_data",
          "data": {
            "text/plain": [
              "<IPython.core.display.HTML object>"
            ],
            "text/html": [
              "<p style=\"text-align: right; direction: rtl; margin-right: 10px; font-size: 15px;\">------------------------------------------------------------------------------------------------------------------------------</p>"
            ]
          },
          "metadata": {}
        },
        {
          "output_type": "stream",
          "name": "stdout",
          "text": [
            "\n"
          ]
        },
        {
          "output_type": "display_data",
          "data": {
            "text/plain": [
              "<IPython.core.display.HTML object>"
            ],
            "text/html": [
              "<p style=\"text-align: right; direction: rtl; margin-right: 10px; font-size: 15px;\">سوال: رابطه انسان و فناوری چیست؟</p> <p style=\"text-align: right; direction: rtl; margin-right: 10px; font-size: 15px;\"><br/></p>"
            ]
          },
          "metadata": {}
        },
        {
          "output_type": "display_data",
          "data": {
            "text/plain": [
              "<IPython.core.display.HTML object>"
            ],
            "text/html": [
              "<p style=\"text-align: right; direction: rtl; margin-right: 10px; font-size: 15px;\">پاسخ 1: فناوری</p>"
            ]
          },
          "metadata": {}
        },
        {
          "output_type": "display_data",
          "data": {
            "text/plain": [
              "<IPython.core.display.HTML object>"
            ],
            "text/html": [
              "<p style=\"text-align: right; direction: rtl; margin-right: 10px; font-size: 15px;\">از مقاله: پیشبینی جایگاه علم، فناوری، و نوآوری مؤسسه های آموزش عالی جهان در نظام رتبه بندی جهانی با استفاده از شبکه های عصبی مصنوعی</p>"
            ]
          },
          "metadata": {}
        },
        {
          "output_type": "display_data",
          "data": {
            "text/plain": [
              "<IPython.core.display.HTML object>"
            ],
            "text/html": [
              "<p style=\"text-align: right; direction: rtl; margin-right: 10px; font-size: 15px;\">امتیاز: 0.3678043958202968</p>"
            ]
          },
          "metadata": {}
        },
        {
          "output_type": "stream",
          "name": "stdout",
          "text": [
            "\n"
          ]
        },
        {
          "output_type": "display_data",
          "data": {
            "text/plain": [
              "<IPython.core.display.HTML object>"
            ],
            "text/html": [
              "<p style=\"text-align: right; direction: rtl; margin-right: 10px; font-size: 15px;\">پاسخ 2: اما آیا اثر آموزش الکترونیک بر پایه فناوری اطلاعات چنین زیاد و تعیین کننده است؟ و اساساً فناوری و انسان چه نقش و نسبتی در این شیوة آموزش دارند؟ این از پرسش های بنیادی است که در خصوص ماهیت رابطه انسان/فناوری و آموزش/انسان/فناوری در آموزش الکترونیک وجود دارد و نیازمند بررسی است.</p>"
            ]
          },
          "metadata": {}
        },
        {
          "output_type": "display_data",
          "data": {
            "text/plain": [
              "<IPython.core.display.HTML object>"
            ],
            "text/html": [
              "<p style=\"text-align: right; direction: rtl; margin-right: 10px; font-size: 15px;\">از مقاله: رابطه انسان و فناوري در آموزش الكترونيك از چشم انداز نظريه كنشگر شبكه</p>"
            ]
          },
          "metadata": {}
        },
        {
          "output_type": "display_data",
          "data": {
            "text/plain": [
              "<IPython.core.display.HTML object>"
            ],
            "text/html": [
              "<p style=\"text-align: right; direction: rtl; margin-right: 10px; font-size: 15px;\">امتیاز: 0.3308122052207206</p>"
            ]
          },
          "metadata": {}
        },
        {
          "output_type": "stream",
          "name": "stdout",
          "text": [
            "\n"
          ]
        },
        {
          "output_type": "display_data",
          "data": {
            "text/plain": [
              "<IPython.core.display.HTML object>"
            ],
            "text/html": [
              "<p style=\"text-align: right; direction: rtl; margin-right: 10px; font-size: 15px;\">پاسخ 3: فناوری اطلاعات</p>"
            ]
          },
          "metadata": {}
        },
        {
          "output_type": "display_data",
          "data": {
            "text/plain": [
              "<IPython.core.display.HTML object>"
            ],
            "text/html": [
              "<p style=\"text-align: right; direction: rtl; margin-right: 10px; font-size: 15px;\">از مقاله: پردازش نظام مند قانون؛ مطالعه موردی قانون پیشگیری و مقابله با تقلب در تهیه آثارعلمی</p>"
            ]
          },
          "metadata": {}
        },
        {
          "output_type": "display_data",
          "data": {
            "text/plain": [
              "<IPython.core.display.HTML object>"
            ],
            "text/html": [
              "<p style=\"text-align: right; direction: rtl; margin-right: 10px; font-size: 15px;\">امتیاز: 0.29093911334632355</p>"
            ]
          },
          "metadata": {}
        },
        {
          "output_type": "stream",
          "name": "stdout",
          "text": [
            "\n"
          ]
        },
        {
          "output_type": "display_data",
          "data": {
            "text/plain": [
              "<IPython.core.display.HTML object>"
            ],
            "text/html": [
              "<p style=\"text-align: right; direction: rtl; margin-right: 10px; font-size: 15px;\">پاسخ 4: این پایگاه دستاورد کاربرد فناوری اطلاعات برای مدیریت اطلاعات علم و فناوری در «پژوهشگاه علوم و فناوری اطلاعات ایران (ایرانداک)» است.</p>"
            ]
          },
          "metadata": {}
        },
        {
          "output_type": "display_data",
          "data": {
            "text/plain": [
              "<IPython.core.display.HTML object>"
            ],
            "text/html": [
              "<p style=\"text-align: right; direction: rtl; margin-right: 10px; font-size: 15px;\">از مقاله: کاربست قوانین انجمنی و خوشه بندی در کنترل کیفیت داده های پژوهشی مورد مطالعه: پایگاه اطلاعات علمی ایران (گنچ)</p>"
            ]
          },
          "metadata": {}
        },
        {
          "output_type": "display_data",
          "data": {
            "text/plain": [
              "<IPython.core.display.HTML object>"
            ],
            "text/html": [
              "<p style=\"text-align: right; direction: rtl; margin-right: 10px; font-size: 15px;\">امتیاز: 0.1828943280056456</p>"
            ]
          },
          "metadata": {}
        },
        {
          "output_type": "stream",
          "name": "stdout",
          "text": [
            "\n"
          ]
        },
        {
          "output_type": "display_data",
          "data": {
            "text/plain": [
              "<IPython.core.display.HTML object>"
            ],
            "text/html": [
              "<p style=\"text-align: right; direction: rtl; margin-right: 10px; font-size: 15px;\">------------------------------------------------------------------------------------------------------------------------------</p>"
            ]
          },
          "metadata": {}
        },
        {
          "output_type": "stream",
          "name": "stdout",
          "text": [
            "\n"
          ]
        }
      ],
      "source": [
        "for qindex, query in enumerate(query_embeddings):\n",
        "    # Declare an empty priority queue\n",
        "    answer_pq = PriorityQueue()\n",
        "    # For each article's sentence embedding\n",
        "    for index, embed in enumerate(tfidf_embeddings):\n",
        "        # Compute the cosine similarity between the query embedding and each sentence embedding\n",
        "        similarity = cosine_similarity(query.reshape(1, -1), embed)\n",
        "        # Find the most similar sentence and add it to the priority queue\n",
        "        max_sim_index = similarity.argmax()\n",
        "        answer_pq.put((-similarity[0, max_sim_index], index, max_sim_index))\n",
        "    # Get the most similar sentences (which are our answers)\n",
        "    rtl_print([f'سوال: {queries[qindex]}', '\\n'], n_to_br=True)\n",
        "    for idx in range(4):\n",
        "        res = answer_pq.get()\n",
        "        rtl_print(f\"پاسخ {idx+1}: {flatten_data[res[1]][res[2]]}\")\n",
        "        rtl_print(f\"از مقاله: {data[res[1]]['title']}\")\n",
        "        rtl_print(f\"امتیاز: {-res[0]}\")\n",
        "        print()\n",
        "    rtl_print(\"------------------------------------------------------------------------------------------------------------------------------\")\n",
        "    print()"
      ]
    },
    {
      "cell_type": "markdown",
      "metadata": {
        "id": "cSKhQ_jjNze6"
      },
      "source": [
        "## Word2Vec"
      ]
    },
    {
      "cell_type": "code",
      "execution_count": null,
      "metadata": {
        "id": "A_gLXueRr8z8"
      },
      "outputs": [],
      "source": [
        "from hazm import word_tokenize\n",
        "import gensim\n",
        "from gensim.models import Word2Vec\n",
        "\n",
        "for i in range(len(data)):\n",
        "    abstract = data[i]['abstract']\n",
        "    body = data[i]['text']\n",
        "    keywords = data[i]['keywords']\n",
        "\n",
        "    article_sentences_words = []\n",
        "    for sentence in abstract:\n",
        "        article_sentences_words.append(word_tokenize(sentence))\n",
        "    for sentence in body:\n",
        "        article_sentences_words.append(word_tokenize(sentence))\n",
        "    for sentence in keywords:\n",
        "        article_sentences_words.append(word_tokenize(sentence))\n",
        "\n",
        "    #  train a word embedding model based on a given words of sentence (i)\n",
        "    model = Word2Vec(article_sentences_words, vector_size=300, window=5, min_count=5, workers=4)"
      ]
    },
    {
      "cell_type": "code",
      "execution_count": null,
      "metadata": {
        "colab": {
          "base_uri": "https://localhost:8080/"
        },
        "id": "dMUWNDdddMAd",
        "outputId": "5b0cd0f5-1549-4733-9073-38c7e2bc5f50"
      },
      "outputs": [
        {
          "output_type": "execute_result",
          "data": {
            "text/plain": [
              "['شرکت',\n",
              " 'کنندگان',\n",
              " '،',\n",
              " 'جستجوی',\n",
              " 'خود',\n",
              " 'را',\n",
              " 'با',\n",
              " 'اطلاعات',\n",
              " 'کلی',\n",
              " 'مانند',\n",
              " 'معرفی',\n",
              " 'و',\n",
              " 'بررسی',\n",
              " 'حقایق',\n",
              " 'آغاز',\n",
              " 'کردند',\n",
              " 'و',\n",
              " 'سپس',\n",
              " 'هر',\n",
              " 'یک',\n",
              " 'بر',\n",
              " 'روی',\n",
              " 'جنبه',\n",
              " 'های',\n",
              " 'خاصی',\n",
              " 'تمرکز',\n",
              " 'کردند',\n",
              " '.']"
            ]
          },
          "metadata": {},
          "execution_count": 24
        }
      ],
      "source": [
        "article_sentences_words[10]"
      ]
    },
    {
      "cell_type": "code",
      "execution_count": null,
      "metadata": {
        "id": "t86KVtOJfGkV"
      },
      "outputs": [],
      "source": [
        "w2v_embeddings = []\n",
        "for i in range(len(data)):\n",
        "    sentences_embedding = []\n",
        "    for sentence in flatten_data[i]:\n",
        "        sentence_weights = []\n",
        "        sentence_embedding = np.zeros(300)\n",
        "        for word in word_tokenize(sentence):\n",
        "            if word in model.wv:\n",
        "                word_embedding = model.wv[word]\n",
        "                sentence_weights.append(word_embedding)\n",
        "                sentence_embedding += word_embedding\n",
        "        if len(sentence_weights) > 0:\n",
        "            sentence_weights = np.array(sentence_weights)\n",
        "            sentence_weights = sentence_weights / np.sqrt(np.sum(sentence_weights ** 2, axis=1))[:, np.newaxis]\n",
        "            sentences_embedding.append(sentence_embedding / len(sentence_weights))\n",
        "    w2v_embeddings.append(sentences_embedding)"
      ]
    },
    {
      "cell_type": "code",
      "execution_count": null,
      "metadata": {
        "id": "OJfLSyp4jhkx"
      },
      "outputs": [],
      "source": [
        "query_embeddings = []\n",
        "for query in queries:\n",
        "    query_weights = []\n",
        "    query_embedding = np.zeros(300)\n",
        "    n_words = 0\n",
        "    for word in word_tokenize(query):\n",
        "        if word in model.wv:\n",
        "            word_embedding = model.wv[word]\n",
        "            query_weights.append(word_embedding)\n",
        "            query_embedding += word_embedding\n",
        "    if len(query_weights) > 0:\n",
        "        query_weights = np.array(query_weights)\n",
        "        query_weights = query_weights / np.sqrt(np.sum(query_weights ** 2, axis=1))[:, np.newaxis]\n",
        "        query_embeddings.append(query_embedding / len(query_weights))"
      ]
    },
    {
      "cell_type": "code",
      "execution_count": null,
      "metadata": {
        "colab": {
          "base_uri": "https://localhost:8080/",
          "height": 1000
        },
        "id": "f6e6PwLSj9n5",
        "outputId": "0d48d09d-27b1-4b55-8861-671f5e23819f"
      },
      "outputs": [
        {
          "output_type": "display_data",
          "data": {
            "text/plain": [
              "<IPython.core.display.HTML object>"
            ],
            "text/html": [
              "<p style=\"text-align: right; direction: rtl; margin-right: 10px; font-size: 15px;\">سوال: آیا متن کاوي شامل مجموعه ابزار هاي هوشمندي است که براي سازماندهی اطلاعات بدون ساختار از آن استفاده میشود؟</p> <p style=\"text-align: right; direction: rtl; margin-right: 10px; font-size: 15px;\"><br/></p>"
            ]
          },
          "metadata": {}
        },
        {
          "output_type": "display_data",
          "data": {
            "text/plain": [
              "<IPython.core.display.HTML object>"
            ],
            "text/html": [
              "<p style=\"text-align: right; direction: rtl; margin-right: 10px; font-size: 15px;\">پاسخ 1: متن کاوي شامل مجموعه ابزار هاي هوشمندي است که براي سازماندهی اطلاعات بدون ساختار از آن استفاده میشود.</p>"
            ]
          },
          "metadata": {}
        },
        {
          "output_type": "display_data",
          "data": {
            "text/plain": [
              "<IPython.core.display.HTML object>"
            ],
            "text/html": [
              "<p style=\"text-align: right; direction: rtl; margin-right: 10px; font-size: 15px;\">از مقاله: تحلیل احساس نظرات فیلم ها با استفاده از ماشین بردار پیشتیبان دو قلو کمترین مربعات</p>"
            ]
          },
          "metadata": {}
        },
        {
          "output_type": "display_data",
          "data": {
            "text/plain": [
              "<IPython.core.display.HTML object>"
            ],
            "text/html": [
              "<p style=\"text-align: right; direction: rtl; margin-right: 10px; font-size: 15px;\">امتیاز: 0.9734078899250955</p>"
            ]
          },
          "metadata": {}
        },
        {
          "output_type": "stream",
          "name": "stdout",
          "text": [
            "\n"
          ]
        },
        {
          "output_type": "display_data",
          "data": {
            "text/plain": [
              "<IPython.core.display.HTML object>"
            ],
            "text/html": [
              "<p style=\"text-align: right; direction: rtl; margin-right: 10px; font-size: 15px;\">پاسخ 2: قسمت عمده ای از آن چه که یک تحلیلگر خط مشی باید بداند، زبان محور است.</p>"
            ]
          },
          "metadata": {}
        },
        {
          "output_type": "display_data",
          "data": {
            "text/plain": [
              "<IPython.core.display.HTML object>"
            ],
            "text/html": [
              "<p style=\"text-align: right; direction: rtl; margin-right: 10px; font-size: 15px;\">از مقاله: پردازش نظام مند قانون؛ مطالعه موردی قانون پیشگیری و مقابله با تقلب در تهیه آثارعلمی</p>"
            ]
          },
          "metadata": {}
        },
        {
          "output_type": "display_data",
          "data": {
            "text/plain": [
              "<IPython.core.display.HTML object>"
            ],
            "text/html": [
              "<p style=\"text-align: right; direction: rtl; margin-right: 10px; font-size: 15px;\">امتیاز: 0.8808971981874189</p>"
            ]
          },
          "metadata": {}
        },
        {
          "output_type": "stream",
          "name": "stdout",
          "text": [
            "\n"
          ]
        },
        {
          "output_type": "display_data",
          "data": {
            "text/plain": [
              "<IPython.core.display.HTML object>"
            ],
            "text/html": [
              "<p style=\"text-align: right; direction: rtl; margin-right: 10px; font-size: 15px;\">پاسخ 3: وظیفه تحلیلگران خط مشی از بعضی جهات مانند مهندسان کامپیوتر است؛ اما از بعضی جهات فراتر از آن است و شامل در نظرآوری مولفه های پیچیده ای از جامعه، سیاست و اقتصادی نیز می شود.</p>"
            ]
          },
          "metadata": {}
        },
        {
          "output_type": "display_data",
          "data": {
            "text/plain": [
              "<IPython.core.display.HTML object>"
            ],
            "text/html": [
              "<p style=\"text-align: right; direction: rtl; margin-right: 10px; font-size: 15px;\">از مقاله: پردازش نظام مند قانون؛ مطالعه موردی قانون پیشگیری و مقابله با تقلب در تهیه آثارعلمی</p>"
            ]
          },
          "metadata": {}
        },
        {
          "output_type": "display_data",
          "data": {
            "text/plain": [
              "<IPython.core.display.HTML object>"
            ],
            "text/html": [
              "<p style=\"text-align: right; direction: rtl; margin-right: 10px; font-size: 15px;\">امتیاز: 0.8522085278672774</p>"
            ]
          },
          "metadata": {}
        },
        {
          "output_type": "stream",
          "name": "stdout",
          "text": [
            "\n"
          ]
        },
        {
          "output_type": "display_data",
          "data": {
            "text/plain": [
              "<IPython.core.display.HTML object>"
            ],
            "text/html": [
              "<p style=\"text-align: right; direction: rtl; margin-right: 10px; font-size: 15px;\">پاسخ 4: روش شناسی: پژوهش حاضر از نوع کاربردی است که با استفاده از روش مشاهده اجرا شده است.</p>"
            ]
          },
          "metadata": {}
        },
        {
          "output_type": "display_data",
          "data": {
            "text/plain": [
              "<IPython.core.display.HTML object>"
            ],
            "text/html": [
              "<p style=\"text-align: right; direction: rtl; margin-right: 10px; font-size: 15px;\">از مقاله: کشف الگوهای کلیک کاربران برای استفاده در پرس و جو در پایگاه های اطلاعاتی</p>"
            ]
          },
          "metadata": {}
        },
        {
          "output_type": "display_data",
          "data": {
            "text/plain": [
              "<IPython.core.display.HTML object>"
            ],
            "text/html": [
              "<p style=\"text-align: right; direction: rtl; margin-right: 10px; font-size: 15px;\">امتیاز: 0.8428671525524263</p>"
            ]
          },
          "metadata": {}
        },
        {
          "output_type": "stream",
          "name": "stdout",
          "text": [
            "\n"
          ]
        },
        {
          "output_type": "display_data",
          "data": {
            "text/plain": [
              "<IPython.core.display.HTML object>"
            ],
            "text/html": [
              "<p style=\"text-align: right; direction: rtl; margin-right: 10px; font-size: 15px;\">------------------------------------------------------------------------------------------------------------------------------</p>"
            ]
          },
          "metadata": {}
        },
        {
          "output_type": "stream",
          "name": "stdout",
          "text": [
            "\n"
          ]
        },
        {
          "output_type": "display_data",
          "data": {
            "text/plain": [
              "<IPython.core.display.HTML object>"
            ],
            "text/html": [
              "<p style=\"text-align: right; direction: rtl; margin-right: 10px; font-size: 15px;\">سوال: متن کاوی در کجا استفاده میشود؟</p> <p style=\"text-align: right; direction: rtl; margin-right: 10px; font-size: 15px;\"><br/></p>"
            ]
          },
          "metadata": {}
        },
        {
          "output_type": "display_data",
          "data": {
            "text/plain": [
              "<IPython.core.display.HTML object>"
            ],
            "text/html": [
              "<p style=\"text-align: right; direction: rtl; margin-right: 10px; font-size: 15px;\">پاسخ 1: پیام رسان ایرانی سروش نیز در حال حاضر ۲ درصد استفاده کننده دارد.</p>"
            ]
          },
          "metadata": {}
        },
        {
          "output_type": "display_data",
          "data": {
            "text/plain": [
              "<IPython.core.display.HTML object>"
            ],
            "text/html": [
              "<p style=\"text-align: right; direction: rtl; margin-right: 10px; font-size: 15px;\">از مقاله: شناسايي عوامل موثر بر مهاجرت کاربران از پيام رسان هاي داخلي (نمونه كاوي: پيام رسان سروش)</p>"
            ]
          },
          "metadata": {}
        },
        {
          "output_type": "display_data",
          "data": {
            "text/plain": [
              "<IPython.core.display.HTML object>"
            ],
            "text/html": [
              "<p style=\"text-align: right; direction: rtl; margin-right: 10px; font-size: 15px;\">امتیاز: 0.8358431861367571</p>"
            ]
          },
          "metadata": {}
        },
        {
          "output_type": "stream",
          "name": "stdout",
          "text": [
            "\n"
          ]
        },
        {
          "output_type": "display_data",
          "data": {
            "text/plain": [
              "<IPython.core.display.HTML object>"
            ],
            "text/html": [
              "<p style=\"text-align: right; direction: rtl; margin-right: 10px; font-size: 15px;\">پاسخ 2: سابقه استفاده از پيام رسان ها در داخل كشور نشان مي دهد كه وقتي كاربران بنا به دلايل مختلف تصميم مي گيرند به يك پيام رسان مهاجرت كنند، با تقريب زيادي همه جذب يك پيام رسان خاص مي شوند كه اين موضوع در حال حاضر در خصوص پيام رسان خارجي تلگرام پيش آمده است.</p>"
            ]
          },
          "metadata": {}
        },
        {
          "output_type": "display_data",
          "data": {
            "text/plain": [
              "<IPython.core.display.HTML object>"
            ],
            "text/html": [
              "<p style=\"text-align: right; direction: rtl; margin-right: 10px; font-size: 15px;\">از مقاله: شناسايي عوامل موثر بر مهاجرت کاربران از پيام رسان هاي داخلي (نمونه كاوي: پيام رسان سروش)</p>"
            ]
          },
          "metadata": {}
        },
        {
          "output_type": "display_data",
          "data": {
            "text/plain": [
              "<IPython.core.display.HTML object>"
            ],
            "text/html": [
              "<p style=\"text-align: right; direction: rtl; margin-right: 10px; font-size: 15px;\">امتیاز: 0.7506316038196374</p>"
            ]
          },
          "metadata": {}
        },
        {
          "output_type": "stream",
          "name": "stdout",
          "text": [
            "\n"
          ]
        },
        {
          "output_type": "display_data",
          "data": {
            "text/plain": [
              "<IPython.core.display.HTML object>"
            ],
            "text/html": [
              "<p style=\"text-align: right; direction: rtl; margin-right: 10px; font-size: 15px;\">پاسخ 3: در سال هاي اخير، در جهان و به تبع آن در ايران، از استفاده از پيام رسان هاي موبايلي بسيار استقبال شده است .</p>"
            ]
          },
          "metadata": {}
        },
        {
          "output_type": "display_data",
          "data": {
            "text/plain": [
              "<IPython.core.display.HTML object>"
            ],
            "text/html": [
              "<p style=\"text-align: right; direction: rtl; margin-right: 10px; font-size: 15px;\">از مقاله: شناسايي عوامل موثر بر مهاجرت کاربران از پيام رسان هاي داخلي (نمونه كاوي: پيام رسان سروش)</p>"
            ]
          },
          "metadata": {}
        },
        {
          "output_type": "display_data",
          "data": {
            "text/plain": [
              "<IPython.core.display.HTML object>"
            ],
            "text/html": [
              "<p style=\"text-align: right; direction: rtl; margin-right: 10px; font-size: 15px;\">امتیاز: 0.7462525062753657</p>"
            ]
          },
          "metadata": {}
        },
        {
          "output_type": "stream",
          "name": "stdout",
          "text": [
            "\n"
          ]
        },
        {
          "output_type": "display_data",
          "data": {
            "text/plain": [
              "<IPython.core.display.HTML object>"
            ],
            "text/html": [
              "<p style=\"text-align: right; direction: rtl; margin-right: 10px; font-size: 15px;\">پاسخ 4: در پایان پیشنهاد هایی براي تحقیقات آینده مطرح شده است.</p>"
            ]
          },
          "metadata": {}
        },
        {
          "output_type": "display_data",
          "data": {
            "text/plain": [
              "<IPython.core.display.HTML object>"
            ],
            "text/html": [
              "<p style=\"text-align: right; direction: rtl; margin-right: 10px; font-size: 15px;\">از مقاله: تحلیل احساس نظرات فیلم ها با استفاده از ماشین بردار پیشتیبان دو قلو کمترین مربعات</p>"
            ]
          },
          "metadata": {}
        },
        {
          "output_type": "display_data",
          "data": {
            "text/plain": [
              "<IPython.core.display.HTML object>"
            ],
            "text/html": [
              "<p style=\"text-align: right; direction: rtl; margin-right: 10px; font-size: 15px;\">امتیاز: 0.7333631415645072</p>"
            ]
          },
          "metadata": {}
        },
        {
          "output_type": "stream",
          "name": "stdout",
          "text": [
            "\n"
          ]
        },
        {
          "output_type": "display_data",
          "data": {
            "text/plain": [
              "<IPython.core.display.HTML object>"
            ],
            "text/html": [
              "<p style=\"text-align: right; direction: rtl; margin-right: 10px; font-size: 15px;\">------------------------------------------------------------------------------------------------------------------------------</p>"
            ]
          },
          "metadata": {}
        },
        {
          "output_type": "stream",
          "name": "stdout",
          "text": [
            "\n"
          ]
        },
        {
          "output_type": "display_data",
          "data": {
            "text/plain": [
              "<IPython.core.display.HTML object>"
            ],
            "text/html": [
              "<p style=\"text-align: right; direction: rtl; margin-right: 10px; font-size: 15px;\">سوال: رابطه انسان و فناوری چیست؟</p> <p style=\"text-align: right; direction: rtl; margin-right: 10px; font-size: 15px;\"><br/></p>"
            ]
          },
          "metadata": {}
        },
        {
          "output_type": "display_data",
          "data": {
            "text/plain": [
              "<IPython.core.display.HTML object>"
            ],
            "text/html": [
              "<p style=\"text-align: right; direction: rtl; margin-right: 10px; font-size: 15px;\">پاسخ 1: صرفاً براساس اتصال و عدم اتصال به شبکه می توان گفت چیزی درون شبکه است یا بیرون آن؛ .4 کنشگر و شبکه با هم ادغام شده اند و بنابراین چیزی مانند عاملیت و ساختار یا فرد و جامعه مطرح نیست و هرچه هست یک کلیت واحد است هر شبکه ای همان کنشگر است و هر کنشگری می تواند شبکه باشد.</p>"
            ]
          },
          "metadata": {}
        },
        {
          "output_type": "display_data",
          "data": {
            "text/plain": [
              "<IPython.core.display.HTML object>"
            ],
            "text/html": [
              "<p style=\"text-align: right; direction: rtl; margin-right: 10px; font-size: 15px;\">از مقاله: اینستانگاری بیش از انسان: پیشنهاد های روش شناختی در تحلیل اینستاگرام در جامعه شناسی بیش از انسان</p>"
            ]
          },
          "metadata": {}
        },
        {
          "output_type": "display_data",
          "data": {
            "text/plain": [
              "<IPython.core.display.HTML object>"
            ],
            "text/html": [
              "<p style=\"text-align: right; direction: rtl; margin-right: 10px; font-size: 15px;\">امتیاز: 0.9444692210636921</p>"
            ]
          },
          "metadata": {}
        },
        {
          "output_type": "stream",
          "name": "stdout",
          "text": [
            "\n"
          ]
        },
        {
          "output_type": "display_data",
          "data": {
            "text/plain": [
              "<IPython.core.display.HTML object>"
            ],
            "text/html": [
              "<p style=\"text-align: right; direction: rtl; margin-right: 10px; font-size: 15px;\">پاسخ 2: فناوری در امر آموزش، تغییردهنده و بدل کننده است و کنش گران اعم از آموزگار و فراگیر و کنشِ آموزشی و محتوای آن در شبکه روابط درهم تنیده با محوریت فناوری اطلاعات قرار داشته و بنا به الگویه های مختلف، تغییر می کنند.</p>"
            ]
          },
          "metadata": {}
        },
        {
          "output_type": "display_data",
          "data": {
            "text/plain": [
              "<IPython.core.display.HTML object>"
            ],
            "text/html": [
              "<p style=\"text-align: right; direction: rtl; margin-right: 10px; font-size: 15px;\">از مقاله: رابطه انسان و فناوري در آموزش الكترونيك از چشم انداز نظريه كنشگر شبكه</p>"
            ]
          },
          "metadata": {}
        },
        {
          "output_type": "display_data",
          "data": {
            "text/plain": [
              "<IPython.core.display.HTML object>"
            ],
            "text/html": [
              "<p style=\"text-align: right; direction: rtl; margin-right: 10px; font-size: 15px;\">امتیاز: 0.9323320741093785</p>"
            ]
          },
          "metadata": {}
        },
        {
          "output_type": "stream",
          "name": "stdout",
          "text": [
            "\n"
          ]
        },
        {
          "output_type": "display_data",
          "data": {
            "text/plain": [
              "<IPython.core.display.HTML object>"
            ],
            "text/html": [
              "<p style=\"text-align: right; direction: rtl; margin-right: 10px; font-size: 15px;\">پاسخ 3: از اين رو، تغيير در قوانين و مقررات اين حوزه و لزوم ايجاد سازوكارهاي نظارتي و اجرايي در راستاي صيانت از داده ها و نيز حريم خصوصي كاربران مي تواند در حمايت و جذب كاربران به پيام رسان هاي داخلي كمك كننده باشد .</p>"
            ]
          },
          "metadata": {}
        },
        {
          "output_type": "display_data",
          "data": {
            "text/plain": [
              "<IPython.core.display.HTML object>"
            ],
            "text/html": [
              "<p style=\"text-align: right; direction: rtl; margin-right: 10px; font-size: 15px;\">از مقاله: شناسايي عوامل موثر بر مهاجرت کاربران از پيام رسان هاي داخلي (نمونه كاوي: پيام رسان سروش)</p>"
            ]
          },
          "metadata": {}
        },
        {
          "output_type": "display_data",
          "data": {
            "text/plain": [
              "<IPython.core.display.HTML object>"
            ],
            "text/html": [
              "<p style=\"text-align: right; direction: rtl; margin-right: 10px; font-size: 15px;\">امتیاز: 0.9280948725775942</p>"
            ]
          },
          "metadata": {}
        },
        {
          "output_type": "stream",
          "name": "stdout",
          "text": [
            "\n"
          ]
        },
        {
          "output_type": "display_data",
          "data": {
            "text/plain": [
              "<IPython.core.display.HTML object>"
            ],
            "text/html": [
              "<p style=\"text-align: right; direction: rtl; margin-right: 10px; font-size: 15px;\">پاسخ 4: اما آیا اثر آموزش الکترونیک بر پایه فناوری اطلاعات چنین زیاد و تعیین کننده است؟ و اساساً فناوری و انسان چه نقش و نسبتی در این شیوة آموزش دارند؟ این از پرسش های بنیادی است که در خصوص ماهیت رابطه انسان/فناوری و آموزش/انسان/فناوری در آموزش الکترونیک وجود دارد و نیازمند بررسی است.</p>"
            ]
          },
          "metadata": {}
        },
        {
          "output_type": "display_data",
          "data": {
            "text/plain": [
              "<IPython.core.display.HTML object>"
            ],
            "text/html": [
              "<p style=\"text-align: right; direction: rtl; margin-right: 10px; font-size: 15px;\">از مقاله: رابطه انسان و فناوري در آموزش الكترونيك از چشم انداز نظريه كنشگر شبكه</p>"
            ]
          },
          "metadata": {}
        },
        {
          "output_type": "display_data",
          "data": {
            "text/plain": [
              "<IPython.core.display.HTML object>"
            ],
            "text/html": [
              "<p style=\"text-align: right; direction: rtl; margin-right: 10px; font-size: 15px;\">امتیاز: 0.9213498946544767</p>"
            ]
          },
          "metadata": {}
        },
        {
          "output_type": "stream",
          "name": "stdout",
          "text": [
            "\n"
          ]
        },
        {
          "output_type": "display_data",
          "data": {
            "text/plain": [
              "<IPython.core.display.HTML object>"
            ],
            "text/html": [
              "<p style=\"text-align: right; direction: rtl; margin-right: 10px; font-size: 15px;\">------------------------------------------------------------------------------------------------------------------------------</p>"
            ]
          },
          "metadata": {}
        },
        {
          "output_type": "stream",
          "name": "stdout",
          "text": [
            "\n"
          ]
        }
      ],
      "source": [
        "for qindex,query in enumerate(query_embeddings):\n",
        "    answer_pq = PriorityQueue()\n",
        "    for i in range(len(data)):\n",
        "        for j in range(len(w2v_embeddings[i])):\n",
        "            similarity = cosine_similarity([query_embeddings[qindex]], [w2v_embeddings[i][j]])[0][0]\n",
        "            answer_pq.put((-similarity,i,j))\n",
        "    rtl_print([f'سوال: {queries[qindex]}', '\\n'], n_to_br=True)\n",
        "    for idx in range(4):\n",
        "        res = answer_pq.get()\n",
        "        rtl_print(f\"پاسخ {idx+1}: {flatten_data[res[1]][res[2]]}\")\n",
        "        rtl_print(f\"از مقاله: {data[res[1]]['title']}\")\n",
        "        rtl_print(f\"امتیاز: {-res[0]}\")\n",
        "        print()\n",
        "    rtl_print(\"------------------------------------------------------------------------------------------------------------------------------\")\n",
        "    print()"
      ]
    },
    {
      "cell_type": "markdown",
      "metadata": {
        "id": "-N-nrIJJMpI6"
      },
      "source": [
        "##Transformer Bert"
      ]
    },
    {
      "cell_type": "markdown",
      "metadata": {
        "id": "wel2NtOhQgvo"
      },
      "source": [
        "This model is based on the \"multilingual masked language modeling\" approach, which involves training a neural network to predict missing words in a sentence based on the context in which they appear. This is done by masking out certain words in the sentence and requiring the model to predict what they are based on the surrounding words."
      ]
    },
    {
      "cell_type": "code",
      "execution_count": null,
      "metadata": {
        "colab": {
          "base_uri": "https://localhost:8080/",
          "height": 418,
          "referenced_widgets": [
            "6101d68fce824559805cfd3a6a62da1c",
            "d6f29f593bb6448ea698db83601e7cd0",
            "49f67093936e435fa56140ca62484643",
            "067b7c23389b4bf9989cc92cf59604b8",
            "71194fab45a648a390c73fd8cef7f5cf",
            "3dca1d6629b140439dbb6e0688f2af8b",
            "489c3fcfa9d44621a972c8d2dffd36da",
            "3ac2aab9df6844be9f664f16129264a9",
            "a98ef3f703ea413b92c276a6e58e4fa0",
            "49ff29878cdd4450907d1bbe85ba1245",
            "5887815f66754910940dbfefa5097727",
            "5bb74a9f1e7249a69bb2ed82563479ec",
            "b8928e225957421185ec20b10596fb89",
            "eb0ab0fdf3104944b6f04a844327159a",
            "c6e0b24b07a04721b3e623b8cf64562e",
            "9b399fc667b94475bc7d9d46f0103587",
            "d84a4fdc7100405bac970528b1fd1cc8",
            "1a30f3a7fb584c6eadf8d8a734954617",
            "aa060ccfa2904080947b4ecbe152aa6e",
            "4fb1df7da87548a58085bdf41dcf73f0",
            "ae6e1725dd9b43c3a9db4a83d14054be",
            "2a474415516648398742510fdf2f40d9",
            "1c58fdd7cb3742faab0a446806beec22",
            "30e09d84c446499187a5f892cfceb2c4",
            "5b0b39bb8c5e4532929830c16cb10604",
            "b60a619c28454386a34a556b8713a032",
            "a3c6070bf69d43cc924377780ae67c07",
            "1cd47c79ae8946d195282c389e964967",
            "04f4d61775c94cbea625bdd468a125d9",
            "7b62e596a3d84a4b83cb29e6500261a6",
            "2eed0d0212e34a5b866f6928e5ac3a5e",
            "b0e8fa8131cf4362aa2c01ca21ca5f84",
            "83f79fd810dd42f3936403987e27f311",
            "b055b2c4e9f2483e876b0a793146cfec",
            "90dce00814414d3bbd87e24b52de7d9d",
            "08990a30aa18406394bb78fe19108368",
            "58f18ea34b9d4a2aa53b94f7aaaefd55",
            "58417bb9ecba482fa3d7966f8685029c",
            "f8588c5a674947c5aa8b829d675a35f1",
            "7cc71c1958d847218cec70516f93ff58",
            "ad8d10bbc56b4974b4645f2c2f87853f",
            "ac3b330b13d7473898516e2e9388bccc",
            "cc58e8187c954128b28b5c68452aa996",
            "728eee9ec9fe4dd7a61ccf98da5904a8",
            "b15c0e9d7a26446ea57cd2060226191a",
            "475a86c4d93e48189888d4158ef99b41",
            "b04405a794574b68a92b9520a6ad4c6e",
            "d139e38b0f6347ddaf90c92c3f5f6024",
            "3a9b1d67c7444b0993f037c19ca7f3d9",
            "f8237866982342c292a70133b6b46709",
            "11979e8e92f448759c552d35ac2469ae",
            "8e13c4847aad47bd80e8f829215362db",
            "c7416834c71b474c8e3f301ce254605c",
            "c36181d39908413c82429ecd7ee74d0d",
            "86f3e9c845684db6ba23ae7a808f99f3",
            "0e1319229ca74a78810fb307927e9614",
            "72a749d02591466a9e1035c7b12ebe8e",
            "2ea1127f73a74de2b81d871bc8851611",
            "e1b21348274f495a86e517802c4fbfa8",
            "0ad82fbd46104152b4de5c8d477d06d4",
            "5290ca243ceb49d5bfe0e1d2238c6c47",
            "d7f8ac6ce0c94ae59a2f4a198046b9fe",
            "4a424d31510142dcad2e6002f43bfc8e",
            "7000f16e9c0f49a2bdc0c4c41a8639f5",
            "b6a5a45c4a3e4acfb3077d019635a490",
            "4b3f192b1be942c7912371d1a54d1ed1",
            "a115431669c04e098392ea806fea68cc",
            "f184f47c13c84a2cb0e60fc3f685f54e",
            "5c454e100a824bd8b57c93e97ea74012",
            "549677ab547944849e9e7309446d9365",
            "091bfb8cff0e42ce8f8c3464fd4875ee",
            "be01822ea60645e79346ed05fe2ccb16",
            "0008910aad914dd18476cbba9ab63da1",
            "83f2eae59f8549dba96c150cdeeefcb0",
            "be1a89b80a00452f9ca6f70aff886de2",
            "f8a5433dc1d241aab38a36bd8e9ad293",
            "962726810b6d47628485952a9c69aeae",
            "be18135d75604901831e94308e3cce2a",
            "9e35e42507c24f5a80cf840056906a55",
            "8a21a165705a46428d31dd30ded1cd12",
            "5a132f901fd4439f9ecf66be952337ed",
            "4c05d2f4520544b18f31b5d6733d211f",
            "3f6a0781ed124b7086e2bd49f6a25086",
            "a240098359a04792ab3c33ba69b7ad63",
            "29bdfe12b58948e88dada1de56a953f1",
            "f6543f6e7d0d44628400ad8d24653926",
            "db5694e2845647e18217bd1332d92985",
            "8957381ff3a74c53adf08b6291009e14",
            "5b4c575405414550ae425e9e765de234",
            "0f28e978bae44d51b566122699b8c483",
            "00c5d6c3b4284b85ba778dfa2fc4169a",
            "6d0cb031a63a468ea4ae21bbfb72aec4",
            "ff2c10c050374e37b7ee821b5de80a20",
            "886ee67ef98049ebbf6199fb429b8c3c",
            "20cca919750c480fab03ccc8608f7588",
            "74e40e3c4b504434a7401717529af978",
            "b48b59b716344eef912b02ae64ba00c6",
            "c53ff471f1ba43f09e0f31c1121d3bf0",
            "26c586e03a94407a9489fca44eb169b4",
            "1c09cf03c5a544af9905cb8b526453ff",
            "11d205ccd0ea48a6afc69439c433fea1",
            "bb4989e796d44eeea88909763d049de9",
            "882cc48cf1274ba6b8360d9b003aef3e",
            "45da5a28bcab41c888d4c3c63c543940",
            "9c5eb34859da43198ccd1ebd3416d9b0",
            "545469fcea824ce89d924b7e254fe2de",
            "a2e07ca2320d4fb0b3585b9fb6f81a0f",
            "78b6ba3106a043229eda0c24e62ab897",
            "6679dd0867e641089b5c14da06e90a6e",
            "9633b50246f1442faddba0f10b0defae",
            "171d0ffcc656435abf868b362d2654f9",
            "e34d87ebec964a23aa99b11dd55478c4",
            "9b42ef1682c34fcb8dea8cea7de484d1",
            "3147c799dcb6448e9c861cba6cce0b19",
            "675259ef7bd3411493d6a594d9d451c8",
            "cc02fe5faf2045be9c6e37a04c507cac",
            "c0257855dcc6456abbf491b7c8d2fc22",
            "2e64c40a9a8143f282ed344dcd99363e",
            "671edc7122414fcdb220b79bc2c29e61",
            "855b06547d784ea19654708f516a8ba3",
            "a1bc8d83ce0040ceb50ae7a0523e4a54",
            "ff3dd4acfdb640f2af118f63cdcf10f2",
            "f1aad24e0acb41e28a7318f4bc38d0fe",
            "be7a7c88d0b24036b2d1617ea63d596c",
            "26f0aa819f6146d781f8c76e40a068b4",
            "2d095ef674f44f8d8aa6a34b144edd95",
            "eac8cefdd230472080006c5e682f0437",
            "887d39c1510a487982b408726c7d1293",
            "7de7ffdc5cd349e98c69af53d85e7a27",
            "17425ebfc9404148815435face0ea0d4",
            "e77a70db7a7c4cca8afa0a9611ca06a2",
            "0e41a747ba7841d78414d1de0398a40e"
          ]
        },
        "id": "W-HiDTZUHfCK",
        "outputId": "5a371073-1b8c-4dc1-f689-9924ac726711"
      },
      "outputs": [
        {
          "output_type": "display_data",
          "data": {
            "text/plain": [
              "Downloading (…)9e268/.gitattributes:   0%|          | 0.00/690 [00:00<?, ?B/s]"
            ],
            "application/vnd.jupyter.widget-view+json": {
              "version_major": 2,
              "version_minor": 0,
              "model_id": "6101d68fce824559805cfd3a6a62da1c"
            }
          },
          "metadata": {}
        },
        {
          "output_type": "display_data",
          "data": {
            "text/plain": [
              "Downloading (…)_Pooling/config.json:   0%|          | 0.00/190 [00:00<?, ?B/s]"
            ],
            "application/vnd.jupyter.widget-view+json": {
              "version_major": 2,
              "version_minor": 0,
              "model_id": "5bb74a9f1e7249a69bb2ed82563479ec"
            }
          },
          "metadata": {}
        },
        {
          "output_type": "display_data",
          "data": {
            "text/plain": [
              "Downloading (…)f2cd19e268/README.md:   0%|          | 0.00/3.77k [00:00<?, ?B/s]"
            ],
            "application/vnd.jupyter.widget-view+json": {
              "version_major": 2,
              "version_minor": 0,
              "model_id": "1c58fdd7cb3742faab0a446806beec22"
            }
          },
          "metadata": {}
        },
        {
          "output_type": "display_data",
          "data": {
            "text/plain": [
              "Downloading (…)cd19e268/config.json:   0%|          | 0.00/723 [00:00<?, ?B/s]"
            ],
            "application/vnd.jupyter.widget-view+json": {
              "version_major": 2,
              "version_minor": 0,
              "model_id": "b055b2c4e9f2483e876b0a793146cfec"
            }
          },
          "metadata": {}
        },
        {
          "output_type": "display_data",
          "data": {
            "text/plain": [
              "Downloading (…)ce_transformers.json:   0%|          | 0.00/122 [00:00<?, ?B/s]"
            ],
            "application/vnd.jupyter.widget-view+json": {
              "version_major": 2,
              "version_minor": 0,
              "model_id": "b15c0e9d7a26446ea57cd2060226191a"
            }
          },
          "metadata": {}
        },
        {
          "output_type": "display_data",
          "data": {
            "text/plain": [
              "Downloading pytorch_model.bin:   0%|          | 0.00/1.11G [00:00<?, ?B/s]"
            ],
            "application/vnd.jupyter.widget-view+json": {
              "version_major": 2,
              "version_minor": 0,
              "model_id": "0e1319229ca74a78810fb307927e9614"
            }
          },
          "metadata": {}
        },
        {
          "output_type": "display_data",
          "data": {
            "text/plain": [
              "Downloading (…)nce_bert_config.json:   0%|          | 0.00/53.0 [00:00<?, ?B/s]"
            ],
            "application/vnd.jupyter.widget-view+json": {
              "version_major": 2,
              "version_minor": 0,
              "model_id": "a115431669c04e098392ea806fea68cc"
            }
          },
          "metadata": {}
        },
        {
          "output_type": "display_data",
          "data": {
            "text/plain": [
              "Downloading (…)tencepiece.bpe.model:   0%|          | 0.00/5.07M [00:00<?, ?B/s]"
            ],
            "application/vnd.jupyter.widget-view+json": {
              "version_major": 2,
              "version_minor": 0,
              "model_id": "be18135d75604901831e94308e3cce2a"
            }
          },
          "metadata": {}
        },
        {
          "output_type": "display_data",
          "data": {
            "text/plain": [
              "Downloading (…)cial_tokens_map.json:   0%|          | 0.00/239 [00:00<?, ?B/s]"
            ],
            "application/vnd.jupyter.widget-view+json": {
              "version_major": 2,
              "version_minor": 0,
              "model_id": "5b4c575405414550ae425e9e765de234"
            }
          },
          "metadata": {}
        },
        {
          "output_type": "display_data",
          "data": {
            "text/plain": [
              "Downloading (…)9e268/tokenizer.json:   0%|          | 0.00/9.08M [00:00<?, ?B/s]"
            ],
            "application/vnd.jupyter.widget-view+json": {
              "version_major": 2,
              "version_minor": 0,
              "model_id": "1c09cf03c5a544af9905cb8b526453ff"
            }
          },
          "metadata": {}
        },
        {
          "output_type": "display_data",
          "data": {
            "text/plain": [
              "Downloading (…)okenizer_config.json:   0%|          | 0.00/402 [00:00<?, ?B/s]"
            ],
            "application/vnd.jupyter.widget-view+json": {
              "version_major": 2,
              "version_minor": 0,
              "model_id": "171d0ffcc656435abf868b362d2654f9"
            }
          },
          "metadata": {}
        },
        {
          "output_type": "display_data",
          "data": {
            "text/plain": [
              "Downloading (…)d19e268/modules.json:   0%|          | 0.00/229 [00:00<?, ?B/s]"
            ],
            "application/vnd.jupyter.widget-view+json": {
              "version_major": 2,
              "version_minor": 0,
              "model_id": "ff3dd4acfdb640f2af118f63cdcf10f2"
            }
          },
          "metadata": {}
        },
        {
          "output_type": "stream",
          "name": "stdout",
          "text": [
            "Elapsed time: 3.0 minutes\n"
          ]
        }
      ],
      "source": [
        "fist_start_time = time.time()\n",
        "\n",
        "model = SentenceTransformer('sentence-transformers/paraphrase-multilingual-mpnet-base-v2').to(device)\n",
        "\n",
        "# Embeddings of each article\n",
        "first_sentence_embeddings = [[] for i in range(len(data))]\n",
        "# Each article sentences of abstract and body text\n",
        "flatten_data = [[] for i in range(len(data))]\n",
        "\n",
        "for i in range(len(data)):\n",
        "    abstract = data[i]['abstract']\n",
        "    body = data[i]['text']\n",
        "    keywords = data[i]['keywords']\n",
        "\n",
        "    for sentence in abstract:\n",
        "        flatten_data[i].append(sentence)\n",
        "    for sentence in body:\n",
        "        flatten_data[i].append(sentence)\n",
        "    for word in keywords:\n",
        "        flatten_data[i].append(word)\n",
        "\n",
        "    first_sentence_embeddings[i].append(model.encode(flatten_data[i], convert_to_tensor=True))\n",
        "\n",
        "    first_sentence_embeddings[i] = torch.cat(first_sentence_embeddings[i])\n",
        "\n",
        "first_model_time = (time.time() - fist_start_time)/60\n",
        "print(\"Elapsed time: %s minutes\" % (round(first_model_time,1)))"
      ]
    },
    {
      "cell_type": "code",
      "execution_count": null,
      "metadata": {
        "colab": {
          "base_uri": "https://localhost:8080/"
        },
        "id": "bvPGvnBhx3Jr",
        "outputId": "475078dd-0c1b-48e2-f44f-0fd5090813de"
      },
      "outputs": [
        {
          "output_type": "execute_result",
          "data": {
            "text/plain": [
              "tensor([[ 0.0720, -0.1143, -0.0077,  ...,  0.1630, -0.0522,  0.0752],\n",
              "        [ 0.0941, -0.1368, -0.0073,  ...,  0.1651, -0.1220, -0.0113],\n",
              "        [ 0.0441, -0.0222, -0.0105,  ...,  0.1275, -0.1031, -0.0513],\n",
              "        ...,\n",
              "        [-0.0473,  0.0303, -0.0159,  ..., -0.0403,  0.0362, -0.0161],\n",
              "        [-0.0136,  0.0941, -0.0190,  ...,  0.0931,  0.0206, -0.0655],\n",
              "        [-0.0084,  0.0302, -0.0201,  ...,  0.0497, -0.0335, -0.1463]])"
            ]
          },
          "metadata": {},
          "execution_count": 29
        }
      ],
      "source": [
        "first_sentence_embeddings[0]"
      ]
    },
    {
      "cell_type": "code",
      "execution_count": null,
      "metadata": {
        "id": "OJdhbRIqOm_7"
      },
      "outputs": [],
      "source": [
        "first_queries_embeddings = model.encode(queries,convert_to_tensor=True)"
      ]
    },
    {
      "cell_type": "code",
      "execution_count": null,
      "metadata": {
        "colab": {
          "base_uri": "https://localhost:8080/",
          "height": 1000
        },
        "id": "pPMtKaYzPLlf",
        "outputId": "c40c2878-33a7-430d-f114-e05bcaf7cb58"
      },
      "outputs": [
        {
          "output_type": "display_data",
          "data": {
            "text/plain": [
              "<IPython.core.display.HTML object>"
            ],
            "text/html": [
              "<p style=\"text-align: right; direction: rtl; margin-right: 10px; font-size: 15px;\">سوال: آیا متن کاوي شامل مجموعه ابزار هاي هوشمندي است که براي سازماندهی اطلاعات بدون ساختار از آن استفاده میشود؟</p> <p style=\"text-align: right; direction: rtl; margin-right: 10px; font-size: 15px;\"><br/></p>"
            ]
          },
          "metadata": {}
        },
        {
          "output_type": "display_data",
          "data": {
            "text/plain": [
              "<IPython.core.display.HTML object>"
            ],
            "text/html": [
              "<p style=\"text-align: right; direction: rtl; margin-right: 10px; font-size: 15px;\">پاسخ 1: متن کاوي شامل مجموعه ابزار هاي هوشمندي است که براي سازماندهی اطلاعات بدون ساختار از آن استفاده میشود.</p>"
            ]
          },
          "metadata": {}
        },
        {
          "output_type": "display_data",
          "data": {
            "text/plain": [
              "<IPython.core.display.HTML object>"
            ],
            "text/html": [
              "<p style=\"text-align: right; direction: rtl; margin-right: 10px; font-size: 15px;\">از مقاله: تحلیل احساس نظرات فیلم ها با استفاده از ماشین بردار پیشتیبان دو قلو کمترین مربعات</p>"
            ]
          },
          "metadata": {}
        },
        {
          "output_type": "display_data",
          "data": {
            "text/plain": [
              "<IPython.core.display.HTML object>"
            ],
            "text/html": [
              "<p style=\"text-align: right; direction: rtl; margin-right: 10px; font-size: 15px;\">امتیاز: 0.9339421987533569</p>"
            ]
          },
          "metadata": {}
        },
        {
          "output_type": "stream",
          "name": "stdout",
          "text": [
            "\n"
          ]
        },
        {
          "output_type": "display_data",
          "data": {
            "text/plain": [
              "<IPython.core.display.HTML object>"
            ],
            "text/html": [
              "<p style=\"text-align: right; direction: rtl; margin-right: 10px; font-size: 15px;\">پاسخ 2: در واقع کاربر اطلاعات مفیدی از بررسی اولیه نتایج به دست می آورد.</p>"
            ]
          },
          "metadata": {}
        },
        {
          "output_type": "display_data",
          "data": {
            "text/plain": [
              "<IPython.core.display.HTML object>"
            ],
            "text/html": [
              "<p style=\"text-align: right; direction: rtl; margin-right: 10px; font-size: 15px;\">از مقاله: کشف الگوهای کلیک کاربران برای استفاده در پرس و جو در پایگاه های اطلاعاتی</p>"
            ]
          },
          "metadata": {}
        },
        {
          "output_type": "display_data",
          "data": {
            "text/plain": [
              "<IPython.core.display.HTML object>"
            ],
            "text/html": [
              "<p style=\"text-align: right; direction: rtl; margin-right: 10px; font-size: 15px;\">امتیاز: 0.5629726648330688</p>"
            ]
          },
          "metadata": {}
        },
        {
          "output_type": "stream",
          "name": "stdout",
          "text": [
            "\n"
          ]
        },
        {
          "output_type": "display_data",
          "data": {
            "text/plain": [
              "<IPython.core.display.HTML object>"
            ],
            "text/html": [
              "<p style=\"text-align: right; direction: rtl; margin-right: 10px; font-size: 15px;\">پاسخ 3: سؤال مطرح در پژوهش حاضر این است که رفع ابهام از برچسب نحوی که فراوانی بالایی در پیکره های متنی فارسی دارند، چه تأثیری بر کارایی یک سیستم برچسب زنی خودکار (مطالعه موردی: سیستم برچسب دهی خودکار) دارد؟</p>"
            ]
          },
          "metadata": {}
        },
        {
          "output_type": "display_data",
          "data": {
            "text/plain": [
              "<IPython.core.display.HTML object>"
            ],
            "text/html": [
              "<p style=\"text-align: right; direction: rtl; margin-right: 10px; font-size: 15px;\">از مقاله: بررسی امکان افزایش صحت یک ابزار برچسبدهی به اجزای کلام در فارسی</p>"
            ]
          },
          "metadata": {}
        },
        {
          "output_type": "display_data",
          "data": {
            "text/plain": [
              "<IPython.core.display.HTML object>"
            ],
            "text/html": [
              "<p style=\"text-align: right; direction: rtl; margin-right: 10px; font-size: 15px;\">امتیاز: 0.5628782510757446</p>"
            ]
          },
          "metadata": {}
        },
        {
          "output_type": "stream",
          "name": "stdout",
          "text": [
            "\n"
          ]
        },
        {
          "output_type": "display_data",
          "data": {
            "text/plain": [
              "<IPython.core.display.HTML object>"
            ],
            "text/html": [
              "<p style=\"text-align: right; direction: rtl; margin-right: 10px; font-size: 15px;\">پاسخ 4: اطلاعات پژوهشی به مجموعه فراداده هایی گفته می شود که به فعالیت پژوهشی مربوط است.</p>"
            ]
          },
          "metadata": {}
        },
        {
          "output_type": "display_data",
          "data": {
            "text/plain": [
              "<IPython.core.display.HTML object>"
            ],
            "text/html": [
              "<p style=\"text-align: right; direction: rtl; margin-right: 10px; font-size: 15px;\">از مقاله: کاربست قوانین انجمنی و خوشه بندی در کنترل کیفیت داده های پژوهشی مورد مطالعه: پایگاه اطلاعات علمی ایران (گنچ)</p>"
            ]
          },
          "metadata": {}
        },
        {
          "output_type": "display_data",
          "data": {
            "text/plain": [
              "<IPython.core.display.HTML object>"
            ],
            "text/html": [
              "<p style=\"text-align: right; direction: rtl; margin-right: 10px; font-size: 15px;\">امتیاز: 0.5616825222969055</p>"
            ]
          },
          "metadata": {}
        },
        {
          "output_type": "stream",
          "name": "stdout",
          "text": [
            "\n"
          ]
        },
        {
          "output_type": "display_data",
          "data": {
            "text/plain": [
              "<IPython.core.display.HTML object>"
            ],
            "text/html": [
              "<p style=\"text-align: right; direction: rtl; margin-right: 10px; font-size: 15px;\">------------------------------------------------------------------------------------------------------------------------------</p>"
            ]
          },
          "metadata": {}
        },
        {
          "output_type": "stream",
          "name": "stdout",
          "text": [
            "\n"
          ]
        },
        {
          "output_type": "display_data",
          "data": {
            "text/plain": [
              "<IPython.core.display.HTML object>"
            ],
            "text/html": [
              "<p style=\"text-align: right; direction: rtl; margin-right: 10px; font-size: 15px;\">سوال: متن کاوی در کجا استفاده میشود؟</p> <p style=\"text-align: right; direction: rtl; margin-right: 10px; font-size: 15px;\"><br/></p>"
            ]
          },
          "metadata": {}
        },
        {
          "output_type": "display_data",
          "data": {
            "text/plain": [
              "<IPython.core.display.HTML object>"
            ],
            "text/html": [
              "<p style=\"text-align: right; direction: rtl; margin-right: 10px; font-size: 15px;\">پاسخ 1: اکثر این همنگاره ها، در اثر یکسان بودن نمود نوشتاری تکواژ یای نکره، یای اسم ساز (اسم مکان، اسمی که دال بر شغل یا محافظت و دارندگی است، اسم معنی یا اشیا، تصغیر و تحبیب، اسم مصدر یا حاصل مصدر)، شناسه دوم شخص مفرد و یای صفت ساز (صفت فاعلی و مفعولی، صفتی که دال بر نسبت است) و یای متصل به گروه اسمی به وجود آمده اند (علایی، ۴.35).</p>"
            ]
          },
          "metadata": {}
        },
        {
          "output_type": "display_data",
          "data": {
            "text/plain": [
              "<IPython.core.display.HTML object>"
            ],
            "text/html": [
              "<p style=\"text-align: right; direction: rtl; margin-right: 10px; font-size: 15px;\">از مقاله: بررسی امکان افزایش صحت یک ابزار برچسبدهی به اجزای کلام در فارسی</p>"
            ]
          },
          "metadata": {}
        },
        {
          "output_type": "display_data",
          "data": {
            "text/plain": [
              "<IPython.core.display.HTML object>"
            ],
            "text/html": [
              "<p style=\"text-align: right; direction: rtl; margin-right: 10px; font-size: 15px;\">امتیاز: 0.5870240926742554</p>"
            ]
          },
          "metadata": {}
        },
        {
          "output_type": "stream",
          "name": "stdout",
          "text": [
            "\n"
          ]
        },
        {
          "output_type": "display_data",
          "data": {
            "text/plain": [
              "<IPython.core.display.HTML object>"
            ],
            "text/html": [
              "<p style=\"text-align: right; direction: rtl; margin-right: 10px; font-size: 15px;\">پاسخ 2: متن كاوی</p>"
            ]
          },
          "metadata": {}
        },
        {
          "output_type": "display_data",
          "data": {
            "text/plain": [
              "<IPython.core.display.HTML object>"
            ],
            "text/html": [
              "<p style=\"text-align: right; direction: rtl; margin-right: 10px; font-size: 15px;\">از مقاله: تشخیص گفتمان در بستر توییتر با کاربست نظریه تمرکز نظارتی؛ روش های متن کاوی</p>"
            ]
          },
          "metadata": {}
        },
        {
          "output_type": "display_data",
          "data": {
            "text/plain": [
              "<IPython.core.display.HTML object>"
            ],
            "text/html": [
              "<p style=\"text-align: right; direction: rtl; margin-right: 10px; font-size: 15px;\">امتیاز: 0.5247160196304321</p>"
            ]
          },
          "metadata": {}
        },
        {
          "output_type": "stream",
          "name": "stdout",
          "text": [
            "\n"
          ]
        },
        {
          "output_type": "display_data",
          "data": {
            "text/plain": [
              "<IPython.core.display.HTML object>"
            ],
            "text/html": [
              "<p style=\"text-align: right; direction: rtl; margin-right: 10px; font-size: 15px;\">پاسخ 3: ابزار گرامر نهادی</p>"
            ]
          },
          "metadata": {}
        },
        {
          "output_type": "display_data",
          "data": {
            "text/plain": [
              "<IPython.core.display.HTML object>"
            ],
            "text/html": [
              "<p style=\"text-align: right; direction: rtl; margin-right: 10px; font-size: 15px;\">از مقاله: پردازش نظام مند قانون؛ مطالعه موردی قانون پیشگیری و مقابله با تقلب در تهیه آثارعلمی</p>"
            ]
          },
          "metadata": {}
        },
        {
          "output_type": "display_data",
          "data": {
            "text/plain": [
              "<IPython.core.display.HTML object>"
            ],
            "text/html": [
              "<p style=\"text-align: right; direction: rtl; margin-right: 10px; font-size: 15px;\">امتیاز: 0.5230041742324829</p>"
            ]
          },
          "metadata": {}
        },
        {
          "output_type": "stream",
          "name": "stdout",
          "text": [
            "\n"
          ]
        },
        {
          "output_type": "display_data",
          "data": {
            "text/plain": [
              "<IPython.core.display.HTML object>"
            ],
            "text/html": [
              "<p style=\"text-align: right; direction: rtl; margin-right: 10px; font-size: 15px;\">پاسخ 4: پيام رسان ها</p>"
            ]
          },
          "metadata": {}
        },
        {
          "output_type": "display_data",
          "data": {
            "text/plain": [
              "<IPython.core.display.HTML object>"
            ],
            "text/html": [
              "<p style=\"text-align: right; direction: rtl; margin-right: 10px; font-size: 15px;\">از مقاله: شناسايي عوامل موثر بر مهاجرت کاربران از پيام رسان هاي داخلي (نمونه كاوي: پيام رسان سروش)</p>"
            ]
          },
          "metadata": {}
        },
        {
          "output_type": "display_data",
          "data": {
            "text/plain": [
              "<IPython.core.display.HTML object>"
            ],
            "text/html": [
              "<p style=\"text-align: right; direction: rtl; margin-right: 10px; font-size: 15px;\">امتیاز: 0.5082834959030151</p>"
            ]
          },
          "metadata": {}
        },
        {
          "output_type": "stream",
          "name": "stdout",
          "text": [
            "\n"
          ]
        },
        {
          "output_type": "display_data",
          "data": {
            "text/plain": [
              "<IPython.core.display.HTML object>"
            ],
            "text/html": [
              "<p style=\"text-align: right; direction: rtl; margin-right: 10px; font-size: 15px;\">------------------------------------------------------------------------------------------------------------------------------</p>"
            ]
          },
          "metadata": {}
        },
        {
          "output_type": "stream",
          "name": "stdout",
          "text": [
            "\n"
          ]
        },
        {
          "output_type": "display_data",
          "data": {
            "text/plain": [
              "<IPython.core.display.HTML object>"
            ],
            "text/html": [
              "<p style=\"text-align: right; direction: rtl; margin-right: 10px; font-size: 15px;\">سوال: رابطه انسان و فناوری چیست؟</p> <p style=\"text-align: right; direction: rtl; margin-right: 10px; font-size: 15px;\"><br/></p>"
            ]
          },
          "metadata": {}
        },
        {
          "output_type": "display_data",
          "data": {
            "text/plain": [
              "<IPython.core.display.HTML object>"
            ],
            "text/html": [
              "<p style=\"text-align: right; direction: rtl; margin-right: 10px; font-size: 15px;\">پاسخ 1: در این رویکرد، نیروهای فرهنگی، سیاسی، اجتماعی و انسانی شکل دهنده فناوری هستند که از آن استفاده می کنند.</p>"
            ]
          },
          "metadata": {}
        },
        {
          "output_type": "display_data",
          "data": {
            "text/plain": [
              "<IPython.core.display.HTML object>"
            ],
            "text/html": [
              "<p style=\"text-align: right; direction: rtl; margin-right: 10px; font-size: 15px;\">از مقاله: رابطه انسان و فناوري در آموزش الكترونيك از چشم انداز نظريه كنشگر شبكه</p>"
            ]
          },
          "metadata": {}
        },
        {
          "output_type": "display_data",
          "data": {
            "text/plain": [
              "<IPython.core.display.HTML object>"
            ],
            "text/html": [
              "<p style=\"text-align: right; direction: rtl; margin-right: 10px; font-size: 15px;\">امتیاز: 0.7430700063705444</p>"
            ]
          },
          "metadata": {}
        },
        {
          "output_type": "stream",
          "name": "stdout",
          "text": [
            "\n"
          ]
        },
        {
          "output_type": "display_data",
          "data": {
            "text/plain": [
              "<IPython.core.display.HTML object>"
            ],
            "text/html": [
              "<p style=\"text-align: right; direction: rtl; margin-right: 10px; font-size: 15px;\">پاسخ 2: فناوری</p>"
            ]
          },
          "metadata": {}
        },
        {
          "output_type": "display_data",
          "data": {
            "text/plain": [
              "<IPython.core.display.HTML object>"
            ],
            "text/html": [
              "<p style=\"text-align: right; direction: rtl; margin-right: 10px; font-size: 15px;\">از مقاله: پیشبینی جایگاه علم، فناوری، و نوآوری مؤسسه های آموزش عالی جهان در نظام رتبه بندی جهانی با استفاده از شبکه های عصبی مصنوعی</p>"
            ]
          },
          "metadata": {}
        },
        {
          "output_type": "display_data",
          "data": {
            "text/plain": [
              "<IPython.core.display.HTML object>"
            ],
            "text/html": [
              "<p style=\"text-align: right; direction: rtl; margin-right: 10px; font-size: 15px;\">امتیاز: 0.7218462228775024</p>"
            ]
          },
          "metadata": {}
        },
        {
          "output_type": "stream",
          "name": "stdout",
          "text": [
            "\n"
          ]
        },
        {
          "output_type": "display_data",
          "data": {
            "text/plain": [
              "<IPython.core.display.HTML object>"
            ],
            "text/html": [
              "<p style=\"text-align: right; direction: rtl; margin-right: 10px; font-size: 15px;\">پاسخ 3: فناوری اطلاعات</p>"
            ]
          },
          "metadata": {}
        },
        {
          "output_type": "display_data",
          "data": {
            "text/plain": [
              "<IPython.core.display.HTML object>"
            ],
            "text/html": [
              "<p style=\"text-align: right; direction: rtl; margin-right: 10px; font-size: 15px;\">از مقاله: پردازش نظام مند قانون؛ مطالعه موردی قانون پیشگیری و مقابله با تقلب در تهیه آثارعلمی</p>"
            ]
          },
          "metadata": {}
        },
        {
          "output_type": "display_data",
          "data": {
            "text/plain": [
              "<IPython.core.display.HTML object>"
            ],
            "text/html": [
              "<p style=\"text-align: right; direction: rtl; margin-right: 10px; font-size: 15px;\">امتیاز: 0.6713340878486633</p>"
            ]
          },
          "metadata": {}
        },
        {
          "output_type": "stream",
          "name": "stdout",
          "text": [
            "\n"
          ]
        },
        {
          "output_type": "display_data",
          "data": {
            "text/plain": [
              "<IPython.core.display.HTML object>"
            ],
            "text/html": [
              "<p style=\"text-align: right; direction: rtl; margin-right: 10px; font-size: 15px;\">پاسخ 4:  رویکردهای بیش از انسان، مجموعه تفکرات و نظریاتی را در برمی گیرند که بر ارتباط ماده، انسان، طبیعت، فناوری و تمامی امور انسانی و غیرانسانی در یک شبکه، به صورت درهم کنش و ارتباطی تأکید دارند و اخیراً جایگاه ویژه ای در علم جامعه شناسی یافته اند.</p>"
            ]
          },
          "metadata": {}
        },
        {
          "output_type": "display_data",
          "data": {
            "text/plain": [
              "<IPython.core.display.HTML object>"
            ],
            "text/html": [
              "<p style=\"text-align: right; direction: rtl; margin-right: 10px; font-size: 15px;\">از مقاله: اینستانگاری بیش از انسان: پیشنهاد های روش شناختی در تحلیل اینستاگرام در جامعه شناسی بیش از انسان</p>"
            ]
          },
          "metadata": {}
        },
        {
          "output_type": "display_data",
          "data": {
            "text/plain": [
              "<IPython.core.display.HTML object>"
            ],
            "text/html": [
              "<p style=\"text-align: right; direction: rtl; margin-right: 10px; font-size: 15px;\">امتیاز: 0.6373114585876465</p>"
            ]
          },
          "metadata": {}
        },
        {
          "output_type": "stream",
          "name": "stdout",
          "text": [
            "\n"
          ]
        },
        {
          "output_type": "display_data",
          "data": {
            "text/plain": [
              "<IPython.core.display.HTML object>"
            ],
            "text/html": [
              "<p style=\"text-align: right; direction: rtl; margin-right: 10px; font-size: 15px;\">------------------------------------------------------------------------------------------------------------------------------</p>"
            ]
          },
          "metadata": {}
        },
        {
          "output_type": "stream",
          "name": "stdout",
          "text": [
            "\n",
            "Elapsed time: 0.0 minutes\n"
          ]
        }
      ],
      "source": [
        "fist_start_time = time.time()\n",
        "\n",
        "for qindex,query in enumerate(first_queries_embeddings):\n",
        "  # Declare an empty priority queue\n",
        "  answer_pq = PriorityQueue()\n",
        "  # For each article's sentence embedding\n",
        "  for index,embed in enumerate(first_sentence_embeddings):\n",
        "    # Find the most similar vector and return it so as to add it to priority queue\n",
        "    first_results = sentence_transformers.util.semantic_search(query,embed,top_k=1)\n",
        "    for res in first_results:\n",
        "      # Add to priority queue triple value of (score,article's index,sentence's index)\n",
        "      answer_pq.put((-res[0]['score'],index,res[0]['corpus_id']))\n",
        "  # Get vectors with the best cosine similarity (which are our answers)\n",
        "  rtl_print([f'سوال: {queries[qindex]}', '\\n'], n_to_br=True)\n",
        "  for idx in range(4):\n",
        "    res = answer_pq.get()\n",
        "    rtl_print(f\"پاسخ {idx+1}: {flatten_data[res[1]][res[2]]}\")\n",
        "    rtl_print(f\"از مقاله: {data[res[1]]['title']}\")\n",
        "    rtl_print(f\"امتیاز: {-res[0]}\")\n",
        "    print()\n",
        "  rtl_print(\"------------------------------------------------------------------------------------------------------------------------------\")\n",
        "  print()\n",
        "\n",
        "first_model_time = (time.time() - fist_start_time)/60\n",
        "print(\"Elapsed time: %s minutes\" % (round(first_model_time,1)))"
      ]
    },
    {
      "cell_type": "code",
      "execution_count": null,
      "metadata": {
        "id": "Oz8-hedv3Rfi"
      },
      "outputs": [],
      "source": []
    }
  ],
  "metadata": {
    "colab": {
      "provenance": []
    },
    "kernelspec": {
      "display_name": "Python 3",
      "name": "python3"
    },
    "language_info": {
      "name": "python"
    },
    "widgets": {
      "application/vnd.jupyter.widget-state+json": {
        "6101d68fce824559805cfd3a6a62da1c": {
          "model_module": "@jupyter-widgets/controls",
          "model_name": "HBoxModel",
          "model_module_version": "1.5.0",
          "state": {
            "_dom_classes": [],
            "_model_module": "@jupyter-widgets/controls",
            "_model_module_version": "1.5.0",
            "_model_name": "HBoxModel",
            "_view_count": null,
            "_view_module": "@jupyter-widgets/controls",
            "_view_module_version": "1.5.0",
            "_view_name": "HBoxView",
            "box_style": "",
            "children": [
              "IPY_MODEL_d6f29f593bb6448ea698db83601e7cd0",
              "IPY_MODEL_49f67093936e435fa56140ca62484643",
              "IPY_MODEL_067b7c23389b4bf9989cc92cf59604b8"
            ],
            "layout": "IPY_MODEL_71194fab45a648a390c73fd8cef7f5cf"
          }
        },
        "d6f29f593bb6448ea698db83601e7cd0": {
          "model_module": "@jupyter-widgets/controls",
          "model_name": "HTMLModel",
          "model_module_version": "1.5.0",
          "state": {
            "_dom_classes": [],
            "_model_module": "@jupyter-widgets/controls",
            "_model_module_version": "1.5.0",
            "_model_name": "HTMLModel",
            "_view_count": null,
            "_view_module": "@jupyter-widgets/controls",
            "_view_module_version": "1.5.0",
            "_view_name": "HTMLView",
            "description": "",
            "description_tooltip": null,
            "layout": "IPY_MODEL_3dca1d6629b140439dbb6e0688f2af8b",
            "placeholder": "​",
            "style": "IPY_MODEL_489c3fcfa9d44621a972c8d2dffd36da",
            "value": "Downloading (…)9e268/.gitattributes: 100%"
          }
        },
        "49f67093936e435fa56140ca62484643": {
          "model_module": "@jupyter-widgets/controls",
          "model_name": "FloatProgressModel",
          "model_module_version": "1.5.0",
          "state": {
            "_dom_classes": [],
            "_model_module": "@jupyter-widgets/controls",
            "_model_module_version": "1.5.0",
            "_model_name": "FloatProgressModel",
            "_view_count": null,
            "_view_module": "@jupyter-widgets/controls",
            "_view_module_version": "1.5.0",
            "_view_name": "ProgressView",
            "bar_style": "success",
            "description": "",
            "description_tooltip": null,
            "layout": "IPY_MODEL_3ac2aab9df6844be9f664f16129264a9",
            "max": 690,
            "min": 0,
            "orientation": "horizontal",
            "style": "IPY_MODEL_a98ef3f703ea413b92c276a6e58e4fa0",
            "value": 690
          }
        },
        "067b7c23389b4bf9989cc92cf59604b8": {
          "model_module": "@jupyter-widgets/controls",
          "model_name": "HTMLModel",
          "model_module_version": "1.5.0",
          "state": {
            "_dom_classes": [],
            "_model_module": "@jupyter-widgets/controls",
            "_model_module_version": "1.5.0",
            "_model_name": "HTMLModel",
            "_view_count": null,
            "_view_module": "@jupyter-widgets/controls",
            "_view_module_version": "1.5.0",
            "_view_name": "HTMLView",
            "description": "",
            "description_tooltip": null,
            "layout": "IPY_MODEL_49ff29878cdd4450907d1bbe85ba1245",
            "placeholder": "​",
            "style": "IPY_MODEL_5887815f66754910940dbfefa5097727",
            "value": " 690/690 [00:00&lt;00:00, 20.1kB/s]"
          }
        },
        "71194fab45a648a390c73fd8cef7f5cf": {
          "model_module": "@jupyter-widgets/base",
          "model_name": "LayoutModel",
          "model_module_version": "1.2.0",
          "state": {
            "_model_module": "@jupyter-widgets/base",
            "_model_module_version": "1.2.0",
            "_model_name": "LayoutModel",
            "_view_count": null,
            "_view_module": "@jupyter-widgets/base",
            "_view_module_version": "1.2.0",
            "_view_name": "LayoutView",
            "align_content": null,
            "align_items": null,
            "align_self": null,
            "border": null,
            "bottom": null,
            "display": null,
            "flex": null,
            "flex_flow": null,
            "grid_area": null,
            "grid_auto_columns": null,
            "grid_auto_flow": null,
            "grid_auto_rows": null,
            "grid_column": null,
            "grid_gap": null,
            "grid_row": null,
            "grid_template_areas": null,
            "grid_template_columns": null,
            "grid_template_rows": null,
            "height": null,
            "justify_content": null,
            "justify_items": null,
            "left": null,
            "margin": null,
            "max_height": null,
            "max_width": null,
            "min_height": null,
            "min_width": null,
            "object_fit": null,
            "object_position": null,
            "order": null,
            "overflow": null,
            "overflow_x": null,
            "overflow_y": null,
            "padding": null,
            "right": null,
            "top": null,
            "visibility": null,
            "width": null
          }
        },
        "3dca1d6629b140439dbb6e0688f2af8b": {
          "model_module": "@jupyter-widgets/base",
          "model_name": "LayoutModel",
          "model_module_version": "1.2.0",
          "state": {
            "_model_module": "@jupyter-widgets/base",
            "_model_module_version": "1.2.0",
            "_model_name": "LayoutModel",
            "_view_count": null,
            "_view_module": "@jupyter-widgets/base",
            "_view_module_version": "1.2.0",
            "_view_name": "LayoutView",
            "align_content": null,
            "align_items": null,
            "align_self": null,
            "border": null,
            "bottom": null,
            "display": null,
            "flex": null,
            "flex_flow": null,
            "grid_area": null,
            "grid_auto_columns": null,
            "grid_auto_flow": null,
            "grid_auto_rows": null,
            "grid_column": null,
            "grid_gap": null,
            "grid_row": null,
            "grid_template_areas": null,
            "grid_template_columns": null,
            "grid_template_rows": null,
            "height": null,
            "justify_content": null,
            "justify_items": null,
            "left": null,
            "margin": null,
            "max_height": null,
            "max_width": null,
            "min_height": null,
            "min_width": null,
            "object_fit": null,
            "object_position": null,
            "order": null,
            "overflow": null,
            "overflow_x": null,
            "overflow_y": null,
            "padding": null,
            "right": null,
            "top": null,
            "visibility": null,
            "width": null
          }
        },
        "489c3fcfa9d44621a972c8d2dffd36da": {
          "model_module": "@jupyter-widgets/controls",
          "model_name": "DescriptionStyleModel",
          "model_module_version": "1.5.0",
          "state": {
            "_model_module": "@jupyter-widgets/controls",
            "_model_module_version": "1.5.0",
            "_model_name": "DescriptionStyleModel",
            "_view_count": null,
            "_view_module": "@jupyter-widgets/base",
            "_view_module_version": "1.2.0",
            "_view_name": "StyleView",
            "description_width": ""
          }
        },
        "3ac2aab9df6844be9f664f16129264a9": {
          "model_module": "@jupyter-widgets/base",
          "model_name": "LayoutModel",
          "model_module_version": "1.2.0",
          "state": {
            "_model_module": "@jupyter-widgets/base",
            "_model_module_version": "1.2.0",
            "_model_name": "LayoutModel",
            "_view_count": null,
            "_view_module": "@jupyter-widgets/base",
            "_view_module_version": "1.2.0",
            "_view_name": "LayoutView",
            "align_content": null,
            "align_items": null,
            "align_self": null,
            "border": null,
            "bottom": null,
            "display": null,
            "flex": null,
            "flex_flow": null,
            "grid_area": null,
            "grid_auto_columns": null,
            "grid_auto_flow": null,
            "grid_auto_rows": null,
            "grid_column": null,
            "grid_gap": null,
            "grid_row": null,
            "grid_template_areas": null,
            "grid_template_columns": null,
            "grid_template_rows": null,
            "height": null,
            "justify_content": null,
            "justify_items": null,
            "left": null,
            "margin": null,
            "max_height": null,
            "max_width": null,
            "min_height": null,
            "min_width": null,
            "object_fit": null,
            "object_position": null,
            "order": null,
            "overflow": null,
            "overflow_x": null,
            "overflow_y": null,
            "padding": null,
            "right": null,
            "top": null,
            "visibility": null,
            "width": null
          }
        },
        "a98ef3f703ea413b92c276a6e58e4fa0": {
          "model_module": "@jupyter-widgets/controls",
          "model_name": "ProgressStyleModel",
          "model_module_version": "1.5.0",
          "state": {
            "_model_module": "@jupyter-widgets/controls",
            "_model_module_version": "1.5.0",
            "_model_name": "ProgressStyleModel",
            "_view_count": null,
            "_view_module": "@jupyter-widgets/base",
            "_view_module_version": "1.2.0",
            "_view_name": "StyleView",
            "bar_color": null,
            "description_width": ""
          }
        },
        "49ff29878cdd4450907d1bbe85ba1245": {
          "model_module": "@jupyter-widgets/base",
          "model_name": "LayoutModel",
          "model_module_version": "1.2.0",
          "state": {
            "_model_module": "@jupyter-widgets/base",
            "_model_module_version": "1.2.0",
            "_model_name": "LayoutModel",
            "_view_count": null,
            "_view_module": "@jupyter-widgets/base",
            "_view_module_version": "1.2.0",
            "_view_name": "LayoutView",
            "align_content": null,
            "align_items": null,
            "align_self": null,
            "border": null,
            "bottom": null,
            "display": null,
            "flex": null,
            "flex_flow": null,
            "grid_area": null,
            "grid_auto_columns": null,
            "grid_auto_flow": null,
            "grid_auto_rows": null,
            "grid_column": null,
            "grid_gap": null,
            "grid_row": null,
            "grid_template_areas": null,
            "grid_template_columns": null,
            "grid_template_rows": null,
            "height": null,
            "justify_content": null,
            "justify_items": null,
            "left": null,
            "margin": null,
            "max_height": null,
            "max_width": null,
            "min_height": null,
            "min_width": null,
            "object_fit": null,
            "object_position": null,
            "order": null,
            "overflow": null,
            "overflow_x": null,
            "overflow_y": null,
            "padding": null,
            "right": null,
            "top": null,
            "visibility": null,
            "width": null
          }
        },
        "5887815f66754910940dbfefa5097727": {
          "model_module": "@jupyter-widgets/controls",
          "model_name": "DescriptionStyleModel",
          "model_module_version": "1.5.0",
          "state": {
            "_model_module": "@jupyter-widgets/controls",
            "_model_module_version": "1.5.0",
            "_model_name": "DescriptionStyleModel",
            "_view_count": null,
            "_view_module": "@jupyter-widgets/base",
            "_view_module_version": "1.2.0",
            "_view_name": "StyleView",
            "description_width": ""
          }
        },
        "5bb74a9f1e7249a69bb2ed82563479ec": {
          "model_module": "@jupyter-widgets/controls",
          "model_name": "HBoxModel",
          "model_module_version": "1.5.0",
          "state": {
            "_dom_classes": [],
            "_model_module": "@jupyter-widgets/controls",
            "_model_module_version": "1.5.0",
            "_model_name": "HBoxModel",
            "_view_count": null,
            "_view_module": "@jupyter-widgets/controls",
            "_view_module_version": "1.5.0",
            "_view_name": "HBoxView",
            "box_style": "",
            "children": [
              "IPY_MODEL_b8928e225957421185ec20b10596fb89",
              "IPY_MODEL_eb0ab0fdf3104944b6f04a844327159a",
              "IPY_MODEL_c6e0b24b07a04721b3e623b8cf64562e"
            ],
            "layout": "IPY_MODEL_9b399fc667b94475bc7d9d46f0103587"
          }
        },
        "b8928e225957421185ec20b10596fb89": {
          "model_module": "@jupyter-widgets/controls",
          "model_name": "HTMLModel",
          "model_module_version": "1.5.0",
          "state": {
            "_dom_classes": [],
            "_model_module": "@jupyter-widgets/controls",
            "_model_module_version": "1.5.0",
            "_model_name": "HTMLModel",
            "_view_count": null,
            "_view_module": "@jupyter-widgets/controls",
            "_view_module_version": "1.5.0",
            "_view_name": "HTMLView",
            "description": "",
            "description_tooltip": null,
            "layout": "IPY_MODEL_d84a4fdc7100405bac970528b1fd1cc8",
            "placeholder": "​",
            "style": "IPY_MODEL_1a30f3a7fb584c6eadf8d8a734954617",
            "value": "Downloading (…)_Pooling/config.json: 100%"
          }
        },
        "eb0ab0fdf3104944b6f04a844327159a": {
          "model_module": "@jupyter-widgets/controls",
          "model_name": "FloatProgressModel",
          "model_module_version": "1.5.0",
          "state": {
            "_dom_classes": [],
            "_model_module": "@jupyter-widgets/controls",
            "_model_module_version": "1.5.0",
            "_model_name": "FloatProgressModel",
            "_view_count": null,
            "_view_module": "@jupyter-widgets/controls",
            "_view_module_version": "1.5.0",
            "_view_name": "ProgressView",
            "bar_style": "success",
            "description": "",
            "description_tooltip": null,
            "layout": "IPY_MODEL_aa060ccfa2904080947b4ecbe152aa6e",
            "max": 190,
            "min": 0,
            "orientation": "horizontal",
            "style": "IPY_MODEL_4fb1df7da87548a58085bdf41dcf73f0",
            "value": 190
          }
        },
        "c6e0b24b07a04721b3e623b8cf64562e": {
          "model_module": "@jupyter-widgets/controls",
          "model_name": "HTMLModel",
          "model_module_version": "1.5.0",
          "state": {
            "_dom_classes": [],
            "_model_module": "@jupyter-widgets/controls",
            "_model_module_version": "1.5.0",
            "_model_name": "HTMLModel",
            "_view_count": null,
            "_view_module": "@jupyter-widgets/controls",
            "_view_module_version": "1.5.0",
            "_view_name": "HTMLView",
            "description": "",
            "description_tooltip": null,
            "layout": "IPY_MODEL_ae6e1725dd9b43c3a9db4a83d14054be",
            "placeholder": "​",
            "style": "IPY_MODEL_2a474415516648398742510fdf2f40d9",
            "value": " 190/190 [00:00&lt;00:00, 8.16kB/s]"
          }
        },
        "9b399fc667b94475bc7d9d46f0103587": {
          "model_module": "@jupyter-widgets/base",
          "model_name": "LayoutModel",
          "model_module_version": "1.2.0",
          "state": {
            "_model_module": "@jupyter-widgets/base",
            "_model_module_version": "1.2.0",
            "_model_name": "LayoutModel",
            "_view_count": null,
            "_view_module": "@jupyter-widgets/base",
            "_view_module_version": "1.2.0",
            "_view_name": "LayoutView",
            "align_content": null,
            "align_items": null,
            "align_self": null,
            "border": null,
            "bottom": null,
            "display": null,
            "flex": null,
            "flex_flow": null,
            "grid_area": null,
            "grid_auto_columns": null,
            "grid_auto_flow": null,
            "grid_auto_rows": null,
            "grid_column": null,
            "grid_gap": null,
            "grid_row": null,
            "grid_template_areas": null,
            "grid_template_columns": null,
            "grid_template_rows": null,
            "height": null,
            "justify_content": null,
            "justify_items": null,
            "left": null,
            "margin": null,
            "max_height": null,
            "max_width": null,
            "min_height": null,
            "min_width": null,
            "object_fit": null,
            "object_position": null,
            "order": null,
            "overflow": null,
            "overflow_x": null,
            "overflow_y": null,
            "padding": null,
            "right": null,
            "top": null,
            "visibility": null,
            "width": null
          }
        },
        "d84a4fdc7100405bac970528b1fd1cc8": {
          "model_module": "@jupyter-widgets/base",
          "model_name": "LayoutModel",
          "model_module_version": "1.2.0",
          "state": {
            "_model_module": "@jupyter-widgets/base",
            "_model_module_version": "1.2.0",
            "_model_name": "LayoutModel",
            "_view_count": null,
            "_view_module": "@jupyter-widgets/base",
            "_view_module_version": "1.2.0",
            "_view_name": "LayoutView",
            "align_content": null,
            "align_items": null,
            "align_self": null,
            "border": null,
            "bottom": null,
            "display": null,
            "flex": null,
            "flex_flow": null,
            "grid_area": null,
            "grid_auto_columns": null,
            "grid_auto_flow": null,
            "grid_auto_rows": null,
            "grid_column": null,
            "grid_gap": null,
            "grid_row": null,
            "grid_template_areas": null,
            "grid_template_columns": null,
            "grid_template_rows": null,
            "height": null,
            "justify_content": null,
            "justify_items": null,
            "left": null,
            "margin": null,
            "max_height": null,
            "max_width": null,
            "min_height": null,
            "min_width": null,
            "object_fit": null,
            "object_position": null,
            "order": null,
            "overflow": null,
            "overflow_x": null,
            "overflow_y": null,
            "padding": null,
            "right": null,
            "top": null,
            "visibility": null,
            "width": null
          }
        },
        "1a30f3a7fb584c6eadf8d8a734954617": {
          "model_module": "@jupyter-widgets/controls",
          "model_name": "DescriptionStyleModel",
          "model_module_version": "1.5.0",
          "state": {
            "_model_module": "@jupyter-widgets/controls",
            "_model_module_version": "1.5.0",
            "_model_name": "DescriptionStyleModel",
            "_view_count": null,
            "_view_module": "@jupyter-widgets/base",
            "_view_module_version": "1.2.0",
            "_view_name": "StyleView",
            "description_width": ""
          }
        },
        "aa060ccfa2904080947b4ecbe152aa6e": {
          "model_module": "@jupyter-widgets/base",
          "model_name": "LayoutModel",
          "model_module_version": "1.2.0",
          "state": {
            "_model_module": "@jupyter-widgets/base",
            "_model_module_version": "1.2.0",
            "_model_name": "LayoutModel",
            "_view_count": null,
            "_view_module": "@jupyter-widgets/base",
            "_view_module_version": "1.2.0",
            "_view_name": "LayoutView",
            "align_content": null,
            "align_items": null,
            "align_self": null,
            "border": null,
            "bottom": null,
            "display": null,
            "flex": null,
            "flex_flow": null,
            "grid_area": null,
            "grid_auto_columns": null,
            "grid_auto_flow": null,
            "grid_auto_rows": null,
            "grid_column": null,
            "grid_gap": null,
            "grid_row": null,
            "grid_template_areas": null,
            "grid_template_columns": null,
            "grid_template_rows": null,
            "height": null,
            "justify_content": null,
            "justify_items": null,
            "left": null,
            "margin": null,
            "max_height": null,
            "max_width": null,
            "min_height": null,
            "min_width": null,
            "object_fit": null,
            "object_position": null,
            "order": null,
            "overflow": null,
            "overflow_x": null,
            "overflow_y": null,
            "padding": null,
            "right": null,
            "top": null,
            "visibility": null,
            "width": null
          }
        },
        "4fb1df7da87548a58085bdf41dcf73f0": {
          "model_module": "@jupyter-widgets/controls",
          "model_name": "ProgressStyleModel",
          "model_module_version": "1.5.0",
          "state": {
            "_model_module": "@jupyter-widgets/controls",
            "_model_module_version": "1.5.0",
            "_model_name": "ProgressStyleModel",
            "_view_count": null,
            "_view_module": "@jupyter-widgets/base",
            "_view_module_version": "1.2.0",
            "_view_name": "StyleView",
            "bar_color": null,
            "description_width": ""
          }
        },
        "ae6e1725dd9b43c3a9db4a83d14054be": {
          "model_module": "@jupyter-widgets/base",
          "model_name": "LayoutModel",
          "model_module_version": "1.2.0",
          "state": {
            "_model_module": "@jupyter-widgets/base",
            "_model_module_version": "1.2.0",
            "_model_name": "LayoutModel",
            "_view_count": null,
            "_view_module": "@jupyter-widgets/base",
            "_view_module_version": "1.2.0",
            "_view_name": "LayoutView",
            "align_content": null,
            "align_items": null,
            "align_self": null,
            "border": null,
            "bottom": null,
            "display": null,
            "flex": null,
            "flex_flow": null,
            "grid_area": null,
            "grid_auto_columns": null,
            "grid_auto_flow": null,
            "grid_auto_rows": null,
            "grid_column": null,
            "grid_gap": null,
            "grid_row": null,
            "grid_template_areas": null,
            "grid_template_columns": null,
            "grid_template_rows": null,
            "height": null,
            "justify_content": null,
            "justify_items": null,
            "left": null,
            "margin": null,
            "max_height": null,
            "max_width": null,
            "min_height": null,
            "min_width": null,
            "object_fit": null,
            "object_position": null,
            "order": null,
            "overflow": null,
            "overflow_x": null,
            "overflow_y": null,
            "padding": null,
            "right": null,
            "top": null,
            "visibility": null,
            "width": null
          }
        },
        "2a474415516648398742510fdf2f40d9": {
          "model_module": "@jupyter-widgets/controls",
          "model_name": "DescriptionStyleModel",
          "model_module_version": "1.5.0",
          "state": {
            "_model_module": "@jupyter-widgets/controls",
            "_model_module_version": "1.5.0",
            "_model_name": "DescriptionStyleModel",
            "_view_count": null,
            "_view_module": "@jupyter-widgets/base",
            "_view_module_version": "1.2.0",
            "_view_name": "StyleView",
            "description_width": ""
          }
        },
        "1c58fdd7cb3742faab0a446806beec22": {
          "model_module": "@jupyter-widgets/controls",
          "model_name": "HBoxModel",
          "model_module_version": "1.5.0",
          "state": {
            "_dom_classes": [],
            "_model_module": "@jupyter-widgets/controls",
            "_model_module_version": "1.5.0",
            "_model_name": "HBoxModel",
            "_view_count": null,
            "_view_module": "@jupyter-widgets/controls",
            "_view_module_version": "1.5.0",
            "_view_name": "HBoxView",
            "box_style": "",
            "children": [
              "IPY_MODEL_30e09d84c446499187a5f892cfceb2c4",
              "IPY_MODEL_5b0b39bb8c5e4532929830c16cb10604",
              "IPY_MODEL_b60a619c28454386a34a556b8713a032"
            ],
            "layout": "IPY_MODEL_a3c6070bf69d43cc924377780ae67c07"
          }
        },
        "30e09d84c446499187a5f892cfceb2c4": {
          "model_module": "@jupyter-widgets/controls",
          "model_name": "HTMLModel",
          "model_module_version": "1.5.0",
          "state": {
            "_dom_classes": [],
            "_model_module": "@jupyter-widgets/controls",
            "_model_module_version": "1.5.0",
            "_model_name": "HTMLModel",
            "_view_count": null,
            "_view_module": "@jupyter-widgets/controls",
            "_view_module_version": "1.5.0",
            "_view_name": "HTMLView",
            "description": "",
            "description_tooltip": null,
            "layout": "IPY_MODEL_1cd47c79ae8946d195282c389e964967",
            "placeholder": "​",
            "style": "IPY_MODEL_04f4d61775c94cbea625bdd468a125d9",
            "value": "Downloading (…)f2cd19e268/README.md: 100%"
          }
        },
        "5b0b39bb8c5e4532929830c16cb10604": {
          "model_module": "@jupyter-widgets/controls",
          "model_name": "FloatProgressModel",
          "model_module_version": "1.5.0",
          "state": {
            "_dom_classes": [],
            "_model_module": "@jupyter-widgets/controls",
            "_model_module_version": "1.5.0",
            "_model_name": "FloatProgressModel",
            "_view_count": null,
            "_view_module": "@jupyter-widgets/controls",
            "_view_module_version": "1.5.0",
            "_view_name": "ProgressView",
            "bar_style": "success",
            "description": "",
            "description_tooltip": null,
            "layout": "IPY_MODEL_7b62e596a3d84a4b83cb29e6500261a6",
            "max": 3769,
            "min": 0,
            "orientation": "horizontal",
            "style": "IPY_MODEL_2eed0d0212e34a5b866f6928e5ac3a5e",
            "value": 3769
          }
        },
        "b60a619c28454386a34a556b8713a032": {
          "model_module": "@jupyter-widgets/controls",
          "model_name": "HTMLModel",
          "model_module_version": "1.5.0",
          "state": {
            "_dom_classes": [],
            "_model_module": "@jupyter-widgets/controls",
            "_model_module_version": "1.5.0",
            "_model_name": "HTMLModel",
            "_view_count": null,
            "_view_module": "@jupyter-widgets/controls",
            "_view_module_version": "1.5.0",
            "_view_name": "HTMLView",
            "description": "",
            "description_tooltip": null,
            "layout": "IPY_MODEL_b0e8fa8131cf4362aa2c01ca21ca5f84",
            "placeholder": "​",
            "style": "IPY_MODEL_83f79fd810dd42f3936403987e27f311",
            "value": " 3.77k/3.77k [00:00&lt;00:00, 69.6kB/s]"
          }
        },
        "a3c6070bf69d43cc924377780ae67c07": {
          "model_module": "@jupyter-widgets/base",
          "model_name": "LayoutModel",
          "model_module_version": "1.2.0",
          "state": {
            "_model_module": "@jupyter-widgets/base",
            "_model_module_version": "1.2.0",
            "_model_name": "LayoutModel",
            "_view_count": null,
            "_view_module": "@jupyter-widgets/base",
            "_view_module_version": "1.2.0",
            "_view_name": "LayoutView",
            "align_content": null,
            "align_items": null,
            "align_self": null,
            "border": null,
            "bottom": null,
            "display": null,
            "flex": null,
            "flex_flow": null,
            "grid_area": null,
            "grid_auto_columns": null,
            "grid_auto_flow": null,
            "grid_auto_rows": null,
            "grid_column": null,
            "grid_gap": null,
            "grid_row": null,
            "grid_template_areas": null,
            "grid_template_columns": null,
            "grid_template_rows": null,
            "height": null,
            "justify_content": null,
            "justify_items": null,
            "left": null,
            "margin": null,
            "max_height": null,
            "max_width": null,
            "min_height": null,
            "min_width": null,
            "object_fit": null,
            "object_position": null,
            "order": null,
            "overflow": null,
            "overflow_x": null,
            "overflow_y": null,
            "padding": null,
            "right": null,
            "top": null,
            "visibility": null,
            "width": null
          }
        },
        "1cd47c79ae8946d195282c389e964967": {
          "model_module": "@jupyter-widgets/base",
          "model_name": "LayoutModel",
          "model_module_version": "1.2.0",
          "state": {
            "_model_module": "@jupyter-widgets/base",
            "_model_module_version": "1.2.0",
            "_model_name": "LayoutModel",
            "_view_count": null,
            "_view_module": "@jupyter-widgets/base",
            "_view_module_version": "1.2.0",
            "_view_name": "LayoutView",
            "align_content": null,
            "align_items": null,
            "align_self": null,
            "border": null,
            "bottom": null,
            "display": null,
            "flex": null,
            "flex_flow": null,
            "grid_area": null,
            "grid_auto_columns": null,
            "grid_auto_flow": null,
            "grid_auto_rows": null,
            "grid_column": null,
            "grid_gap": null,
            "grid_row": null,
            "grid_template_areas": null,
            "grid_template_columns": null,
            "grid_template_rows": null,
            "height": null,
            "justify_content": null,
            "justify_items": null,
            "left": null,
            "margin": null,
            "max_height": null,
            "max_width": null,
            "min_height": null,
            "min_width": null,
            "object_fit": null,
            "object_position": null,
            "order": null,
            "overflow": null,
            "overflow_x": null,
            "overflow_y": null,
            "padding": null,
            "right": null,
            "top": null,
            "visibility": null,
            "width": null
          }
        },
        "04f4d61775c94cbea625bdd468a125d9": {
          "model_module": "@jupyter-widgets/controls",
          "model_name": "DescriptionStyleModel",
          "model_module_version": "1.5.0",
          "state": {
            "_model_module": "@jupyter-widgets/controls",
            "_model_module_version": "1.5.0",
            "_model_name": "DescriptionStyleModel",
            "_view_count": null,
            "_view_module": "@jupyter-widgets/base",
            "_view_module_version": "1.2.0",
            "_view_name": "StyleView",
            "description_width": ""
          }
        },
        "7b62e596a3d84a4b83cb29e6500261a6": {
          "model_module": "@jupyter-widgets/base",
          "model_name": "LayoutModel",
          "model_module_version": "1.2.0",
          "state": {
            "_model_module": "@jupyter-widgets/base",
            "_model_module_version": "1.2.0",
            "_model_name": "LayoutModel",
            "_view_count": null,
            "_view_module": "@jupyter-widgets/base",
            "_view_module_version": "1.2.0",
            "_view_name": "LayoutView",
            "align_content": null,
            "align_items": null,
            "align_self": null,
            "border": null,
            "bottom": null,
            "display": null,
            "flex": null,
            "flex_flow": null,
            "grid_area": null,
            "grid_auto_columns": null,
            "grid_auto_flow": null,
            "grid_auto_rows": null,
            "grid_column": null,
            "grid_gap": null,
            "grid_row": null,
            "grid_template_areas": null,
            "grid_template_columns": null,
            "grid_template_rows": null,
            "height": null,
            "justify_content": null,
            "justify_items": null,
            "left": null,
            "margin": null,
            "max_height": null,
            "max_width": null,
            "min_height": null,
            "min_width": null,
            "object_fit": null,
            "object_position": null,
            "order": null,
            "overflow": null,
            "overflow_x": null,
            "overflow_y": null,
            "padding": null,
            "right": null,
            "top": null,
            "visibility": null,
            "width": null
          }
        },
        "2eed0d0212e34a5b866f6928e5ac3a5e": {
          "model_module": "@jupyter-widgets/controls",
          "model_name": "ProgressStyleModel",
          "model_module_version": "1.5.0",
          "state": {
            "_model_module": "@jupyter-widgets/controls",
            "_model_module_version": "1.5.0",
            "_model_name": "ProgressStyleModel",
            "_view_count": null,
            "_view_module": "@jupyter-widgets/base",
            "_view_module_version": "1.2.0",
            "_view_name": "StyleView",
            "bar_color": null,
            "description_width": ""
          }
        },
        "b0e8fa8131cf4362aa2c01ca21ca5f84": {
          "model_module": "@jupyter-widgets/base",
          "model_name": "LayoutModel",
          "model_module_version": "1.2.0",
          "state": {
            "_model_module": "@jupyter-widgets/base",
            "_model_module_version": "1.2.0",
            "_model_name": "LayoutModel",
            "_view_count": null,
            "_view_module": "@jupyter-widgets/base",
            "_view_module_version": "1.2.0",
            "_view_name": "LayoutView",
            "align_content": null,
            "align_items": null,
            "align_self": null,
            "border": null,
            "bottom": null,
            "display": null,
            "flex": null,
            "flex_flow": null,
            "grid_area": null,
            "grid_auto_columns": null,
            "grid_auto_flow": null,
            "grid_auto_rows": null,
            "grid_column": null,
            "grid_gap": null,
            "grid_row": null,
            "grid_template_areas": null,
            "grid_template_columns": null,
            "grid_template_rows": null,
            "height": null,
            "justify_content": null,
            "justify_items": null,
            "left": null,
            "margin": null,
            "max_height": null,
            "max_width": null,
            "min_height": null,
            "min_width": null,
            "object_fit": null,
            "object_position": null,
            "order": null,
            "overflow": null,
            "overflow_x": null,
            "overflow_y": null,
            "padding": null,
            "right": null,
            "top": null,
            "visibility": null,
            "width": null
          }
        },
        "83f79fd810dd42f3936403987e27f311": {
          "model_module": "@jupyter-widgets/controls",
          "model_name": "DescriptionStyleModel",
          "model_module_version": "1.5.0",
          "state": {
            "_model_module": "@jupyter-widgets/controls",
            "_model_module_version": "1.5.0",
            "_model_name": "DescriptionStyleModel",
            "_view_count": null,
            "_view_module": "@jupyter-widgets/base",
            "_view_module_version": "1.2.0",
            "_view_name": "StyleView",
            "description_width": ""
          }
        },
        "b055b2c4e9f2483e876b0a793146cfec": {
          "model_module": "@jupyter-widgets/controls",
          "model_name": "HBoxModel",
          "model_module_version": "1.5.0",
          "state": {
            "_dom_classes": [],
            "_model_module": "@jupyter-widgets/controls",
            "_model_module_version": "1.5.0",
            "_model_name": "HBoxModel",
            "_view_count": null,
            "_view_module": "@jupyter-widgets/controls",
            "_view_module_version": "1.5.0",
            "_view_name": "HBoxView",
            "box_style": "",
            "children": [
              "IPY_MODEL_90dce00814414d3bbd87e24b52de7d9d",
              "IPY_MODEL_08990a30aa18406394bb78fe19108368",
              "IPY_MODEL_58f18ea34b9d4a2aa53b94f7aaaefd55"
            ],
            "layout": "IPY_MODEL_58417bb9ecba482fa3d7966f8685029c"
          }
        },
        "90dce00814414d3bbd87e24b52de7d9d": {
          "model_module": "@jupyter-widgets/controls",
          "model_name": "HTMLModel",
          "model_module_version": "1.5.0",
          "state": {
            "_dom_classes": [],
            "_model_module": "@jupyter-widgets/controls",
            "_model_module_version": "1.5.0",
            "_model_name": "HTMLModel",
            "_view_count": null,
            "_view_module": "@jupyter-widgets/controls",
            "_view_module_version": "1.5.0",
            "_view_name": "HTMLView",
            "description": "",
            "description_tooltip": null,
            "layout": "IPY_MODEL_f8588c5a674947c5aa8b829d675a35f1",
            "placeholder": "​",
            "style": "IPY_MODEL_7cc71c1958d847218cec70516f93ff58",
            "value": "Downloading (…)cd19e268/config.json: 100%"
          }
        },
        "08990a30aa18406394bb78fe19108368": {
          "model_module": "@jupyter-widgets/controls",
          "model_name": "FloatProgressModel",
          "model_module_version": "1.5.0",
          "state": {
            "_dom_classes": [],
            "_model_module": "@jupyter-widgets/controls",
            "_model_module_version": "1.5.0",
            "_model_name": "FloatProgressModel",
            "_view_count": null,
            "_view_module": "@jupyter-widgets/controls",
            "_view_module_version": "1.5.0",
            "_view_name": "ProgressView",
            "bar_style": "success",
            "description": "",
            "description_tooltip": null,
            "layout": "IPY_MODEL_ad8d10bbc56b4974b4645f2c2f87853f",
            "max": 723,
            "min": 0,
            "orientation": "horizontal",
            "style": "IPY_MODEL_ac3b330b13d7473898516e2e9388bccc",
            "value": 723
          }
        },
        "58f18ea34b9d4a2aa53b94f7aaaefd55": {
          "model_module": "@jupyter-widgets/controls",
          "model_name": "HTMLModel",
          "model_module_version": "1.5.0",
          "state": {
            "_dom_classes": [],
            "_model_module": "@jupyter-widgets/controls",
            "_model_module_version": "1.5.0",
            "_model_name": "HTMLModel",
            "_view_count": null,
            "_view_module": "@jupyter-widgets/controls",
            "_view_module_version": "1.5.0",
            "_view_name": "HTMLView",
            "description": "",
            "description_tooltip": null,
            "layout": "IPY_MODEL_cc58e8187c954128b28b5c68452aa996",
            "placeholder": "​",
            "style": "IPY_MODEL_728eee9ec9fe4dd7a61ccf98da5904a8",
            "value": " 723/723 [00:00&lt;00:00, 10.2kB/s]"
          }
        },
        "58417bb9ecba482fa3d7966f8685029c": {
          "model_module": "@jupyter-widgets/base",
          "model_name": "LayoutModel",
          "model_module_version": "1.2.0",
          "state": {
            "_model_module": "@jupyter-widgets/base",
            "_model_module_version": "1.2.0",
            "_model_name": "LayoutModel",
            "_view_count": null,
            "_view_module": "@jupyter-widgets/base",
            "_view_module_version": "1.2.0",
            "_view_name": "LayoutView",
            "align_content": null,
            "align_items": null,
            "align_self": null,
            "border": null,
            "bottom": null,
            "display": null,
            "flex": null,
            "flex_flow": null,
            "grid_area": null,
            "grid_auto_columns": null,
            "grid_auto_flow": null,
            "grid_auto_rows": null,
            "grid_column": null,
            "grid_gap": null,
            "grid_row": null,
            "grid_template_areas": null,
            "grid_template_columns": null,
            "grid_template_rows": null,
            "height": null,
            "justify_content": null,
            "justify_items": null,
            "left": null,
            "margin": null,
            "max_height": null,
            "max_width": null,
            "min_height": null,
            "min_width": null,
            "object_fit": null,
            "object_position": null,
            "order": null,
            "overflow": null,
            "overflow_x": null,
            "overflow_y": null,
            "padding": null,
            "right": null,
            "top": null,
            "visibility": null,
            "width": null
          }
        },
        "f8588c5a674947c5aa8b829d675a35f1": {
          "model_module": "@jupyter-widgets/base",
          "model_name": "LayoutModel",
          "model_module_version": "1.2.0",
          "state": {
            "_model_module": "@jupyter-widgets/base",
            "_model_module_version": "1.2.0",
            "_model_name": "LayoutModel",
            "_view_count": null,
            "_view_module": "@jupyter-widgets/base",
            "_view_module_version": "1.2.0",
            "_view_name": "LayoutView",
            "align_content": null,
            "align_items": null,
            "align_self": null,
            "border": null,
            "bottom": null,
            "display": null,
            "flex": null,
            "flex_flow": null,
            "grid_area": null,
            "grid_auto_columns": null,
            "grid_auto_flow": null,
            "grid_auto_rows": null,
            "grid_column": null,
            "grid_gap": null,
            "grid_row": null,
            "grid_template_areas": null,
            "grid_template_columns": null,
            "grid_template_rows": null,
            "height": null,
            "justify_content": null,
            "justify_items": null,
            "left": null,
            "margin": null,
            "max_height": null,
            "max_width": null,
            "min_height": null,
            "min_width": null,
            "object_fit": null,
            "object_position": null,
            "order": null,
            "overflow": null,
            "overflow_x": null,
            "overflow_y": null,
            "padding": null,
            "right": null,
            "top": null,
            "visibility": null,
            "width": null
          }
        },
        "7cc71c1958d847218cec70516f93ff58": {
          "model_module": "@jupyter-widgets/controls",
          "model_name": "DescriptionStyleModel",
          "model_module_version": "1.5.0",
          "state": {
            "_model_module": "@jupyter-widgets/controls",
            "_model_module_version": "1.5.0",
            "_model_name": "DescriptionStyleModel",
            "_view_count": null,
            "_view_module": "@jupyter-widgets/base",
            "_view_module_version": "1.2.0",
            "_view_name": "StyleView",
            "description_width": ""
          }
        },
        "ad8d10bbc56b4974b4645f2c2f87853f": {
          "model_module": "@jupyter-widgets/base",
          "model_name": "LayoutModel",
          "model_module_version": "1.2.0",
          "state": {
            "_model_module": "@jupyter-widgets/base",
            "_model_module_version": "1.2.0",
            "_model_name": "LayoutModel",
            "_view_count": null,
            "_view_module": "@jupyter-widgets/base",
            "_view_module_version": "1.2.0",
            "_view_name": "LayoutView",
            "align_content": null,
            "align_items": null,
            "align_self": null,
            "border": null,
            "bottom": null,
            "display": null,
            "flex": null,
            "flex_flow": null,
            "grid_area": null,
            "grid_auto_columns": null,
            "grid_auto_flow": null,
            "grid_auto_rows": null,
            "grid_column": null,
            "grid_gap": null,
            "grid_row": null,
            "grid_template_areas": null,
            "grid_template_columns": null,
            "grid_template_rows": null,
            "height": null,
            "justify_content": null,
            "justify_items": null,
            "left": null,
            "margin": null,
            "max_height": null,
            "max_width": null,
            "min_height": null,
            "min_width": null,
            "object_fit": null,
            "object_position": null,
            "order": null,
            "overflow": null,
            "overflow_x": null,
            "overflow_y": null,
            "padding": null,
            "right": null,
            "top": null,
            "visibility": null,
            "width": null
          }
        },
        "ac3b330b13d7473898516e2e9388bccc": {
          "model_module": "@jupyter-widgets/controls",
          "model_name": "ProgressStyleModel",
          "model_module_version": "1.5.0",
          "state": {
            "_model_module": "@jupyter-widgets/controls",
            "_model_module_version": "1.5.0",
            "_model_name": "ProgressStyleModel",
            "_view_count": null,
            "_view_module": "@jupyter-widgets/base",
            "_view_module_version": "1.2.0",
            "_view_name": "StyleView",
            "bar_color": null,
            "description_width": ""
          }
        },
        "cc58e8187c954128b28b5c68452aa996": {
          "model_module": "@jupyter-widgets/base",
          "model_name": "LayoutModel",
          "model_module_version": "1.2.0",
          "state": {
            "_model_module": "@jupyter-widgets/base",
            "_model_module_version": "1.2.0",
            "_model_name": "LayoutModel",
            "_view_count": null,
            "_view_module": "@jupyter-widgets/base",
            "_view_module_version": "1.2.0",
            "_view_name": "LayoutView",
            "align_content": null,
            "align_items": null,
            "align_self": null,
            "border": null,
            "bottom": null,
            "display": null,
            "flex": null,
            "flex_flow": null,
            "grid_area": null,
            "grid_auto_columns": null,
            "grid_auto_flow": null,
            "grid_auto_rows": null,
            "grid_column": null,
            "grid_gap": null,
            "grid_row": null,
            "grid_template_areas": null,
            "grid_template_columns": null,
            "grid_template_rows": null,
            "height": null,
            "justify_content": null,
            "justify_items": null,
            "left": null,
            "margin": null,
            "max_height": null,
            "max_width": null,
            "min_height": null,
            "min_width": null,
            "object_fit": null,
            "object_position": null,
            "order": null,
            "overflow": null,
            "overflow_x": null,
            "overflow_y": null,
            "padding": null,
            "right": null,
            "top": null,
            "visibility": null,
            "width": null
          }
        },
        "728eee9ec9fe4dd7a61ccf98da5904a8": {
          "model_module": "@jupyter-widgets/controls",
          "model_name": "DescriptionStyleModel",
          "model_module_version": "1.5.0",
          "state": {
            "_model_module": "@jupyter-widgets/controls",
            "_model_module_version": "1.5.0",
            "_model_name": "DescriptionStyleModel",
            "_view_count": null,
            "_view_module": "@jupyter-widgets/base",
            "_view_module_version": "1.2.0",
            "_view_name": "StyleView",
            "description_width": ""
          }
        },
        "b15c0e9d7a26446ea57cd2060226191a": {
          "model_module": "@jupyter-widgets/controls",
          "model_name": "HBoxModel",
          "model_module_version": "1.5.0",
          "state": {
            "_dom_classes": [],
            "_model_module": "@jupyter-widgets/controls",
            "_model_module_version": "1.5.0",
            "_model_name": "HBoxModel",
            "_view_count": null,
            "_view_module": "@jupyter-widgets/controls",
            "_view_module_version": "1.5.0",
            "_view_name": "HBoxView",
            "box_style": "",
            "children": [
              "IPY_MODEL_475a86c4d93e48189888d4158ef99b41",
              "IPY_MODEL_b04405a794574b68a92b9520a6ad4c6e",
              "IPY_MODEL_d139e38b0f6347ddaf90c92c3f5f6024"
            ],
            "layout": "IPY_MODEL_3a9b1d67c7444b0993f037c19ca7f3d9"
          }
        },
        "475a86c4d93e48189888d4158ef99b41": {
          "model_module": "@jupyter-widgets/controls",
          "model_name": "HTMLModel",
          "model_module_version": "1.5.0",
          "state": {
            "_dom_classes": [],
            "_model_module": "@jupyter-widgets/controls",
            "_model_module_version": "1.5.0",
            "_model_name": "HTMLModel",
            "_view_count": null,
            "_view_module": "@jupyter-widgets/controls",
            "_view_module_version": "1.5.0",
            "_view_name": "HTMLView",
            "description": "",
            "description_tooltip": null,
            "layout": "IPY_MODEL_f8237866982342c292a70133b6b46709",
            "placeholder": "​",
            "style": "IPY_MODEL_11979e8e92f448759c552d35ac2469ae",
            "value": "Downloading (…)ce_transformers.json: 100%"
          }
        },
        "b04405a794574b68a92b9520a6ad4c6e": {
          "model_module": "@jupyter-widgets/controls",
          "model_name": "FloatProgressModel",
          "model_module_version": "1.5.0",
          "state": {
            "_dom_classes": [],
            "_model_module": "@jupyter-widgets/controls",
            "_model_module_version": "1.5.0",
            "_model_name": "FloatProgressModel",
            "_view_count": null,
            "_view_module": "@jupyter-widgets/controls",
            "_view_module_version": "1.5.0",
            "_view_name": "ProgressView",
            "bar_style": "success",
            "description": "",
            "description_tooltip": null,
            "layout": "IPY_MODEL_8e13c4847aad47bd80e8f829215362db",
            "max": 122,
            "min": 0,
            "orientation": "horizontal",
            "style": "IPY_MODEL_c7416834c71b474c8e3f301ce254605c",
            "value": 122
          }
        },
        "d139e38b0f6347ddaf90c92c3f5f6024": {
          "model_module": "@jupyter-widgets/controls",
          "model_name": "HTMLModel",
          "model_module_version": "1.5.0",
          "state": {
            "_dom_classes": [],
            "_model_module": "@jupyter-widgets/controls",
            "_model_module_version": "1.5.0",
            "_model_name": "HTMLModel",
            "_view_count": null,
            "_view_module": "@jupyter-widgets/controls",
            "_view_module_version": "1.5.0",
            "_view_name": "HTMLView",
            "description": "",
            "description_tooltip": null,
            "layout": "IPY_MODEL_c36181d39908413c82429ecd7ee74d0d",
            "placeholder": "​",
            "style": "IPY_MODEL_86f3e9c845684db6ba23ae7a808f99f3",
            "value": " 122/122 [00:00&lt;00:00, 1.46kB/s]"
          }
        },
        "3a9b1d67c7444b0993f037c19ca7f3d9": {
          "model_module": "@jupyter-widgets/base",
          "model_name": "LayoutModel",
          "model_module_version": "1.2.0",
          "state": {
            "_model_module": "@jupyter-widgets/base",
            "_model_module_version": "1.2.0",
            "_model_name": "LayoutModel",
            "_view_count": null,
            "_view_module": "@jupyter-widgets/base",
            "_view_module_version": "1.2.0",
            "_view_name": "LayoutView",
            "align_content": null,
            "align_items": null,
            "align_self": null,
            "border": null,
            "bottom": null,
            "display": null,
            "flex": null,
            "flex_flow": null,
            "grid_area": null,
            "grid_auto_columns": null,
            "grid_auto_flow": null,
            "grid_auto_rows": null,
            "grid_column": null,
            "grid_gap": null,
            "grid_row": null,
            "grid_template_areas": null,
            "grid_template_columns": null,
            "grid_template_rows": null,
            "height": null,
            "justify_content": null,
            "justify_items": null,
            "left": null,
            "margin": null,
            "max_height": null,
            "max_width": null,
            "min_height": null,
            "min_width": null,
            "object_fit": null,
            "object_position": null,
            "order": null,
            "overflow": null,
            "overflow_x": null,
            "overflow_y": null,
            "padding": null,
            "right": null,
            "top": null,
            "visibility": null,
            "width": null
          }
        },
        "f8237866982342c292a70133b6b46709": {
          "model_module": "@jupyter-widgets/base",
          "model_name": "LayoutModel",
          "model_module_version": "1.2.0",
          "state": {
            "_model_module": "@jupyter-widgets/base",
            "_model_module_version": "1.2.0",
            "_model_name": "LayoutModel",
            "_view_count": null,
            "_view_module": "@jupyter-widgets/base",
            "_view_module_version": "1.2.0",
            "_view_name": "LayoutView",
            "align_content": null,
            "align_items": null,
            "align_self": null,
            "border": null,
            "bottom": null,
            "display": null,
            "flex": null,
            "flex_flow": null,
            "grid_area": null,
            "grid_auto_columns": null,
            "grid_auto_flow": null,
            "grid_auto_rows": null,
            "grid_column": null,
            "grid_gap": null,
            "grid_row": null,
            "grid_template_areas": null,
            "grid_template_columns": null,
            "grid_template_rows": null,
            "height": null,
            "justify_content": null,
            "justify_items": null,
            "left": null,
            "margin": null,
            "max_height": null,
            "max_width": null,
            "min_height": null,
            "min_width": null,
            "object_fit": null,
            "object_position": null,
            "order": null,
            "overflow": null,
            "overflow_x": null,
            "overflow_y": null,
            "padding": null,
            "right": null,
            "top": null,
            "visibility": null,
            "width": null
          }
        },
        "11979e8e92f448759c552d35ac2469ae": {
          "model_module": "@jupyter-widgets/controls",
          "model_name": "DescriptionStyleModel",
          "model_module_version": "1.5.0",
          "state": {
            "_model_module": "@jupyter-widgets/controls",
            "_model_module_version": "1.5.0",
            "_model_name": "DescriptionStyleModel",
            "_view_count": null,
            "_view_module": "@jupyter-widgets/base",
            "_view_module_version": "1.2.0",
            "_view_name": "StyleView",
            "description_width": ""
          }
        },
        "8e13c4847aad47bd80e8f829215362db": {
          "model_module": "@jupyter-widgets/base",
          "model_name": "LayoutModel",
          "model_module_version": "1.2.0",
          "state": {
            "_model_module": "@jupyter-widgets/base",
            "_model_module_version": "1.2.0",
            "_model_name": "LayoutModel",
            "_view_count": null,
            "_view_module": "@jupyter-widgets/base",
            "_view_module_version": "1.2.0",
            "_view_name": "LayoutView",
            "align_content": null,
            "align_items": null,
            "align_self": null,
            "border": null,
            "bottom": null,
            "display": null,
            "flex": null,
            "flex_flow": null,
            "grid_area": null,
            "grid_auto_columns": null,
            "grid_auto_flow": null,
            "grid_auto_rows": null,
            "grid_column": null,
            "grid_gap": null,
            "grid_row": null,
            "grid_template_areas": null,
            "grid_template_columns": null,
            "grid_template_rows": null,
            "height": null,
            "justify_content": null,
            "justify_items": null,
            "left": null,
            "margin": null,
            "max_height": null,
            "max_width": null,
            "min_height": null,
            "min_width": null,
            "object_fit": null,
            "object_position": null,
            "order": null,
            "overflow": null,
            "overflow_x": null,
            "overflow_y": null,
            "padding": null,
            "right": null,
            "top": null,
            "visibility": null,
            "width": null
          }
        },
        "c7416834c71b474c8e3f301ce254605c": {
          "model_module": "@jupyter-widgets/controls",
          "model_name": "ProgressStyleModel",
          "model_module_version": "1.5.0",
          "state": {
            "_model_module": "@jupyter-widgets/controls",
            "_model_module_version": "1.5.0",
            "_model_name": "ProgressStyleModel",
            "_view_count": null,
            "_view_module": "@jupyter-widgets/base",
            "_view_module_version": "1.2.0",
            "_view_name": "StyleView",
            "bar_color": null,
            "description_width": ""
          }
        },
        "c36181d39908413c82429ecd7ee74d0d": {
          "model_module": "@jupyter-widgets/base",
          "model_name": "LayoutModel",
          "model_module_version": "1.2.0",
          "state": {
            "_model_module": "@jupyter-widgets/base",
            "_model_module_version": "1.2.0",
            "_model_name": "LayoutModel",
            "_view_count": null,
            "_view_module": "@jupyter-widgets/base",
            "_view_module_version": "1.2.0",
            "_view_name": "LayoutView",
            "align_content": null,
            "align_items": null,
            "align_self": null,
            "border": null,
            "bottom": null,
            "display": null,
            "flex": null,
            "flex_flow": null,
            "grid_area": null,
            "grid_auto_columns": null,
            "grid_auto_flow": null,
            "grid_auto_rows": null,
            "grid_column": null,
            "grid_gap": null,
            "grid_row": null,
            "grid_template_areas": null,
            "grid_template_columns": null,
            "grid_template_rows": null,
            "height": null,
            "justify_content": null,
            "justify_items": null,
            "left": null,
            "margin": null,
            "max_height": null,
            "max_width": null,
            "min_height": null,
            "min_width": null,
            "object_fit": null,
            "object_position": null,
            "order": null,
            "overflow": null,
            "overflow_x": null,
            "overflow_y": null,
            "padding": null,
            "right": null,
            "top": null,
            "visibility": null,
            "width": null
          }
        },
        "86f3e9c845684db6ba23ae7a808f99f3": {
          "model_module": "@jupyter-widgets/controls",
          "model_name": "DescriptionStyleModel",
          "model_module_version": "1.5.0",
          "state": {
            "_model_module": "@jupyter-widgets/controls",
            "_model_module_version": "1.5.0",
            "_model_name": "DescriptionStyleModel",
            "_view_count": null,
            "_view_module": "@jupyter-widgets/base",
            "_view_module_version": "1.2.0",
            "_view_name": "StyleView",
            "description_width": ""
          }
        },
        "0e1319229ca74a78810fb307927e9614": {
          "model_module": "@jupyter-widgets/controls",
          "model_name": "HBoxModel",
          "model_module_version": "1.5.0",
          "state": {
            "_dom_classes": [],
            "_model_module": "@jupyter-widgets/controls",
            "_model_module_version": "1.5.0",
            "_model_name": "HBoxModel",
            "_view_count": null,
            "_view_module": "@jupyter-widgets/controls",
            "_view_module_version": "1.5.0",
            "_view_name": "HBoxView",
            "box_style": "",
            "children": [
              "IPY_MODEL_72a749d02591466a9e1035c7b12ebe8e",
              "IPY_MODEL_2ea1127f73a74de2b81d871bc8851611",
              "IPY_MODEL_e1b21348274f495a86e517802c4fbfa8"
            ],
            "layout": "IPY_MODEL_0ad82fbd46104152b4de5c8d477d06d4"
          }
        },
        "72a749d02591466a9e1035c7b12ebe8e": {
          "model_module": "@jupyter-widgets/controls",
          "model_name": "HTMLModel",
          "model_module_version": "1.5.0",
          "state": {
            "_dom_classes": [],
            "_model_module": "@jupyter-widgets/controls",
            "_model_module_version": "1.5.0",
            "_model_name": "HTMLModel",
            "_view_count": null,
            "_view_module": "@jupyter-widgets/controls",
            "_view_module_version": "1.5.0",
            "_view_name": "HTMLView",
            "description": "",
            "description_tooltip": null,
            "layout": "IPY_MODEL_5290ca243ceb49d5bfe0e1d2238c6c47",
            "placeholder": "​",
            "style": "IPY_MODEL_d7f8ac6ce0c94ae59a2f4a198046b9fe",
            "value": "Downloading pytorch_model.bin: 100%"
          }
        },
        "2ea1127f73a74de2b81d871bc8851611": {
          "model_module": "@jupyter-widgets/controls",
          "model_name": "FloatProgressModel",
          "model_module_version": "1.5.0",
          "state": {
            "_dom_classes": [],
            "_model_module": "@jupyter-widgets/controls",
            "_model_module_version": "1.5.0",
            "_model_name": "FloatProgressModel",
            "_view_count": null,
            "_view_module": "@jupyter-widgets/controls",
            "_view_module_version": "1.5.0",
            "_view_name": "ProgressView",
            "bar_style": "success",
            "description": "",
            "description_tooltip": null,
            "layout": "IPY_MODEL_4a424d31510142dcad2e6002f43bfc8e",
            "max": 1112253233,
            "min": 0,
            "orientation": "horizontal",
            "style": "IPY_MODEL_7000f16e9c0f49a2bdc0c4c41a8639f5",
            "value": 1112253233
          }
        },
        "e1b21348274f495a86e517802c4fbfa8": {
          "model_module": "@jupyter-widgets/controls",
          "model_name": "HTMLModel",
          "model_module_version": "1.5.0",
          "state": {
            "_dom_classes": [],
            "_model_module": "@jupyter-widgets/controls",
            "_model_module_version": "1.5.0",
            "_model_name": "HTMLModel",
            "_view_count": null,
            "_view_module": "@jupyter-widgets/controls",
            "_view_module_version": "1.5.0",
            "_view_name": "HTMLView",
            "description": "",
            "description_tooltip": null,
            "layout": "IPY_MODEL_b6a5a45c4a3e4acfb3077d019635a490",
            "placeholder": "​",
            "style": "IPY_MODEL_4b3f192b1be942c7912371d1a54d1ed1",
            "value": " 1.11G/1.11G [00:11&lt;00:00, 116MB/s]"
          }
        },
        "0ad82fbd46104152b4de5c8d477d06d4": {
          "model_module": "@jupyter-widgets/base",
          "model_name": "LayoutModel",
          "model_module_version": "1.2.0",
          "state": {
            "_model_module": "@jupyter-widgets/base",
            "_model_module_version": "1.2.0",
            "_model_name": "LayoutModel",
            "_view_count": null,
            "_view_module": "@jupyter-widgets/base",
            "_view_module_version": "1.2.0",
            "_view_name": "LayoutView",
            "align_content": null,
            "align_items": null,
            "align_self": null,
            "border": null,
            "bottom": null,
            "display": null,
            "flex": null,
            "flex_flow": null,
            "grid_area": null,
            "grid_auto_columns": null,
            "grid_auto_flow": null,
            "grid_auto_rows": null,
            "grid_column": null,
            "grid_gap": null,
            "grid_row": null,
            "grid_template_areas": null,
            "grid_template_columns": null,
            "grid_template_rows": null,
            "height": null,
            "justify_content": null,
            "justify_items": null,
            "left": null,
            "margin": null,
            "max_height": null,
            "max_width": null,
            "min_height": null,
            "min_width": null,
            "object_fit": null,
            "object_position": null,
            "order": null,
            "overflow": null,
            "overflow_x": null,
            "overflow_y": null,
            "padding": null,
            "right": null,
            "top": null,
            "visibility": null,
            "width": null
          }
        },
        "5290ca243ceb49d5bfe0e1d2238c6c47": {
          "model_module": "@jupyter-widgets/base",
          "model_name": "LayoutModel",
          "model_module_version": "1.2.0",
          "state": {
            "_model_module": "@jupyter-widgets/base",
            "_model_module_version": "1.2.0",
            "_model_name": "LayoutModel",
            "_view_count": null,
            "_view_module": "@jupyter-widgets/base",
            "_view_module_version": "1.2.0",
            "_view_name": "LayoutView",
            "align_content": null,
            "align_items": null,
            "align_self": null,
            "border": null,
            "bottom": null,
            "display": null,
            "flex": null,
            "flex_flow": null,
            "grid_area": null,
            "grid_auto_columns": null,
            "grid_auto_flow": null,
            "grid_auto_rows": null,
            "grid_column": null,
            "grid_gap": null,
            "grid_row": null,
            "grid_template_areas": null,
            "grid_template_columns": null,
            "grid_template_rows": null,
            "height": null,
            "justify_content": null,
            "justify_items": null,
            "left": null,
            "margin": null,
            "max_height": null,
            "max_width": null,
            "min_height": null,
            "min_width": null,
            "object_fit": null,
            "object_position": null,
            "order": null,
            "overflow": null,
            "overflow_x": null,
            "overflow_y": null,
            "padding": null,
            "right": null,
            "top": null,
            "visibility": null,
            "width": null
          }
        },
        "d7f8ac6ce0c94ae59a2f4a198046b9fe": {
          "model_module": "@jupyter-widgets/controls",
          "model_name": "DescriptionStyleModel",
          "model_module_version": "1.5.0",
          "state": {
            "_model_module": "@jupyter-widgets/controls",
            "_model_module_version": "1.5.0",
            "_model_name": "DescriptionStyleModel",
            "_view_count": null,
            "_view_module": "@jupyter-widgets/base",
            "_view_module_version": "1.2.0",
            "_view_name": "StyleView",
            "description_width": ""
          }
        },
        "4a424d31510142dcad2e6002f43bfc8e": {
          "model_module": "@jupyter-widgets/base",
          "model_name": "LayoutModel",
          "model_module_version": "1.2.0",
          "state": {
            "_model_module": "@jupyter-widgets/base",
            "_model_module_version": "1.2.0",
            "_model_name": "LayoutModel",
            "_view_count": null,
            "_view_module": "@jupyter-widgets/base",
            "_view_module_version": "1.2.0",
            "_view_name": "LayoutView",
            "align_content": null,
            "align_items": null,
            "align_self": null,
            "border": null,
            "bottom": null,
            "display": null,
            "flex": null,
            "flex_flow": null,
            "grid_area": null,
            "grid_auto_columns": null,
            "grid_auto_flow": null,
            "grid_auto_rows": null,
            "grid_column": null,
            "grid_gap": null,
            "grid_row": null,
            "grid_template_areas": null,
            "grid_template_columns": null,
            "grid_template_rows": null,
            "height": null,
            "justify_content": null,
            "justify_items": null,
            "left": null,
            "margin": null,
            "max_height": null,
            "max_width": null,
            "min_height": null,
            "min_width": null,
            "object_fit": null,
            "object_position": null,
            "order": null,
            "overflow": null,
            "overflow_x": null,
            "overflow_y": null,
            "padding": null,
            "right": null,
            "top": null,
            "visibility": null,
            "width": null
          }
        },
        "7000f16e9c0f49a2bdc0c4c41a8639f5": {
          "model_module": "@jupyter-widgets/controls",
          "model_name": "ProgressStyleModel",
          "model_module_version": "1.5.0",
          "state": {
            "_model_module": "@jupyter-widgets/controls",
            "_model_module_version": "1.5.0",
            "_model_name": "ProgressStyleModel",
            "_view_count": null,
            "_view_module": "@jupyter-widgets/base",
            "_view_module_version": "1.2.0",
            "_view_name": "StyleView",
            "bar_color": null,
            "description_width": ""
          }
        },
        "b6a5a45c4a3e4acfb3077d019635a490": {
          "model_module": "@jupyter-widgets/base",
          "model_name": "LayoutModel",
          "model_module_version": "1.2.0",
          "state": {
            "_model_module": "@jupyter-widgets/base",
            "_model_module_version": "1.2.0",
            "_model_name": "LayoutModel",
            "_view_count": null,
            "_view_module": "@jupyter-widgets/base",
            "_view_module_version": "1.2.0",
            "_view_name": "LayoutView",
            "align_content": null,
            "align_items": null,
            "align_self": null,
            "border": null,
            "bottom": null,
            "display": null,
            "flex": null,
            "flex_flow": null,
            "grid_area": null,
            "grid_auto_columns": null,
            "grid_auto_flow": null,
            "grid_auto_rows": null,
            "grid_column": null,
            "grid_gap": null,
            "grid_row": null,
            "grid_template_areas": null,
            "grid_template_columns": null,
            "grid_template_rows": null,
            "height": null,
            "justify_content": null,
            "justify_items": null,
            "left": null,
            "margin": null,
            "max_height": null,
            "max_width": null,
            "min_height": null,
            "min_width": null,
            "object_fit": null,
            "object_position": null,
            "order": null,
            "overflow": null,
            "overflow_x": null,
            "overflow_y": null,
            "padding": null,
            "right": null,
            "top": null,
            "visibility": null,
            "width": null
          }
        },
        "4b3f192b1be942c7912371d1a54d1ed1": {
          "model_module": "@jupyter-widgets/controls",
          "model_name": "DescriptionStyleModel",
          "model_module_version": "1.5.0",
          "state": {
            "_model_module": "@jupyter-widgets/controls",
            "_model_module_version": "1.5.0",
            "_model_name": "DescriptionStyleModel",
            "_view_count": null,
            "_view_module": "@jupyter-widgets/base",
            "_view_module_version": "1.2.0",
            "_view_name": "StyleView",
            "description_width": ""
          }
        },
        "a115431669c04e098392ea806fea68cc": {
          "model_module": "@jupyter-widgets/controls",
          "model_name": "HBoxModel",
          "model_module_version": "1.5.0",
          "state": {
            "_dom_classes": [],
            "_model_module": "@jupyter-widgets/controls",
            "_model_module_version": "1.5.0",
            "_model_name": "HBoxModel",
            "_view_count": null,
            "_view_module": "@jupyter-widgets/controls",
            "_view_module_version": "1.5.0",
            "_view_name": "HBoxView",
            "box_style": "",
            "children": [
              "IPY_MODEL_f184f47c13c84a2cb0e60fc3f685f54e",
              "IPY_MODEL_5c454e100a824bd8b57c93e97ea74012",
              "IPY_MODEL_549677ab547944849e9e7309446d9365"
            ],
            "layout": "IPY_MODEL_091bfb8cff0e42ce8f8c3464fd4875ee"
          }
        },
        "f184f47c13c84a2cb0e60fc3f685f54e": {
          "model_module": "@jupyter-widgets/controls",
          "model_name": "HTMLModel",
          "model_module_version": "1.5.0",
          "state": {
            "_dom_classes": [],
            "_model_module": "@jupyter-widgets/controls",
            "_model_module_version": "1.5.0",
            "_model_name": "HTMLModel",
            "_view_count": null,
            "_view_module": "@jupyter-widgets/controls",
            "_view_module_version": "1.5.0",
            "_view_name": "HTMLView",
            "description": "",
            "description_tooltip": null,
            "layout": "IPY_MODEL_be01822ea60645e79346ed05fe2ccb16",
            "placeholder": "​",
            "style": "IPY_MODEL_0008910aad914dd18476cbba9ab63da1",
            "value": "Downloading (…)nce_bert_config.json: 100%"
          }
        },
        "5c454e100a824bd8b57c93e97ea74012": {
          "model_module": "@jupyter-widgets/controls",
          "model_name": "FloatProgressModel",
          "model_module_version": "1.5.0",
          "state": {
            "_dom_classes": [],
            "_model_module": "@jupyter-widgets/controls",
            "_model_module_version": "1.5.0",
            "_model_name": "FloatProgressModel",
            "_view_count": null,
            "_view_module": "@jupyter-widgets/controls",
            "_view_module_version": "1.5.0",
            "_view_name": "ProgressView",
            "bar_style": "success",
            "description": "",
            "description_tooltip": null,
            "layout": "IPY_MODEL_83f2eae59f8549dba96c150cdeeefcb0",
            "max": 53,
            "min": 0,
            "orientation": "horizontal",
            "style": "IPY_MODEL_be1a89b80a00452f9ca6f70aff886de2",
            "value": 53
          }
        },
        "549677ab547944849e9e7309446d9365": {
          "model_module": "@jupyter-widgets/controls",
          "model_name": "HTMLModel",
          "model_module_version": "1.5.0",
          "state": {
            "_dom_classes": [],
            "_model_module": "@jupyter-widgets/controls",
            "_model_module_version": "1.5.0",
            "_model_name": "HTMLModel",
            "_view_count": null,
            "_view_module": "@jupyter-widgets/controls",
            "_view_module_version": "1.5.0",
            "_view_name": "HTMLView",
            "description": "",
            "description_tooltip": null,
            "layout": "IPY_MODEL_f8a5433dc1d241aab38a36bd8e9ad293",
            "placeholder": "​",
            "style": "IPY_MODEL_962726810b6d47628485952a9c69aeae",
            "value": " 53.0/53.0 [00:00&lt;00:00, 2.72kB/s]"
          }
        },
        "091bfb8cff0e42ce8f8c3464fd4875ee": {
          "model_module": "@jupyter-widgets/base",
          "model_name": "LayoutModel",
          "model_module_version": "1.2.0",
          "state": {
            "_model_module": "@jupyter-widgets/base",
            "_model_module_version": "1.2.0",
            "_model_name": "LayoutModel",
            "_view_count": null,
            "_view_module": "@jupyter-widgets/base",
            "_view_module_version": "1.2.0",
            "_view_name": "LayoutView",
            "align_content": null,
            "align_items": null,
            "align_self": null,
            "border": null,
            "bottom": null,
            "display": null,
            "flex": null,
            "flex_flow": null,
            "grid_area": null,
            "grid_auto_columns": null,
            "grid_auto_flow": null,
            "grid_auto_rows": null,
            "grid_column": null,
            "grid_gap": null,
            "grid_row": null,
            "grid_template_areas": null,
            "grid_template_columns": null,
            "grid_template_rows": null,
            "height": null,
            "justify_content": null,
            "justify_items": null,
            "left": null,
            "margin": null,
            "max_height": null,
            "max_width": null,
            "min_height": null,
            "min_width": null,
            "object_fit": null,
            "object_position": null,
            "order": null,
            "overflow": null,
            "overflow_x": null,
            "overflow_y": null,
            "padding": null,
            "right": null,
            "top": null,
            "visibility": null,
            "width": null
          }
        },
        "be01822ea60645e79346ed05fe2ccb16": {
          "model_module": "@jupyter-widgets/base",
          "model_name": "LayoutModel",
          "model_module_version": "1.2.0",
          "state": {
            "_model_module": "@jupyter-widgets/base",
            "_model_module_version": "1.2.0",
            "_model_name": "LayoutModel",
            "_view_count": null,
            "_view_module": "@jupyter-widgets/base",
            "_view_module_version": "1.2.0",
            "_view_name": "LayoutView",
            "align_content": null,
            "align_items": null,
            "align_self": null,
            "border": null,
            "bottom": null,
            "display": null,
            "flex": null,
            "flex_flow": null,
            "grid_area": null,
            "grid_auto_columns": null,
            "grid_auto_flow": null,
            "grid_auto_rows": null,
            "grid_column": null,
            "grid_gap": null,
            "grid_row": null,
            "grid_template_areas": null,
            "grid_template_columns": null,
            "grid_template_rows": null,
            "height": null,
            "justify_content": null,
            "justify_items": null,
            "left": null,
            "margin": null,
            "max_height": null,
            "max_width": null,
            "min_height": null,
            "min_width": null,
            "object_fit": null,
            "object_position": null,
            "order": null,
            "overflow": null,
            "overflow_x": null,
            "overflow_y": null,
            "padding": null,
            "right": null,
            "top": null,
            "visibility": null,
            "width": null
          }
        },
        "0008910aad914dd18476cbba9ab63da1": {
          "model_module": "@jupyter-widgets/controls",
          "model_name": "DescriptionStyleModel",
          "model_module_version": "1.5.0",
          "state": {
            "_model_module": "@jupyter-widgets/controls",
            "_model_module_version": "1.5.0",
            "_model_name": "DescriptionStyleModel",
            "_view_count": null,
            "_view_module": "@jupyter-widgets/base",
            "_view_module_version": "1.2.0",
            "_view_name": "StyleView",
            "description_width": ""
          }
        },
        "83f2eae59f8549dba96c150cdeeefcb0": {
          "model_module": "@jupyter-widgets/base",
          "model_name": "LayoutModel",
          "model_module_version": "1.2.0",
          "state": {
            "_model_module": "@jupyter-widgets/base",
            "_model_module_version": "1.2.0",
            "_model_name": "LayoutModel",
            "_view_count": null,
            "_view_module": "@jupyter-widgets/base",
            "_view_module_version": "1.2.0",
            "_view_name": "LayoutView",
            "align_content": null,
            "align_items": null,
            "align_self": null,
            "border": null,
            "bottom": null,
            "display": null,
            "flex": null,
            "flex_flow": null,
            "grid_area": null,
            "grid_auto_columns": null,
            "grid_auto_flow": null,
            "grid_auto_rows": null,
            "grid_column": null,
            "grid_gap": null,
            "grid_row": null,
            "grid_template_areas": null,
            "grid_template_columns": null,
            "grid_template_rows": null,
            "height": null,
            "justify_content": null,
            "justify_items": null,
            "left": null,
            "margin": null,
            "max_height": null,
            "max_width": null,
            "min_height": null,
            "min_width": null,
            "object_fit": null,
            "object_position": null,
            "order": null,
            "overflow": null,
            "overflow_x": null,
            "overflow_y": null,
            "padding": null,
            "right": null,
            "top": null,
            "visibility": null,
            "width": null
          }
        },
        "be1a89b80a00452f9ca6f70aff886de2": {
          "model_module": "@jupyter-widgets/controls",
          "model_name": "ProgressStyleModel",
          "model_module_version": "1.5.0",
          "state": {
            "_model_module": "@jupyter-widgets/controls",
            "_model_module_version": "1.5.0",
            "_model_name": "ProgressStyleModel",
            "_view_count": null,
            "_view_module": "@jupyter-widgets/base",
            "_view_module_version": "1.2.0",
            "_view_name": "StyleView",
            "bar_color": null,
            "description_width": ""
          }
        },
        "f8a5433dc1d241aab38a36bd8e9ad293": {
          "model_module": "@jupyter-widgets/base",
          "model_name": "LayoutModel",
          "model_module_version": "1.2.0",
          "state": {
            "_model_module": "@jupyter-widgets/base",
            "_model_module_version": "1.2.0",
            "_model_name": "LayoutModel",
            "_view_count": null,
            "_view_module": "@jupyter-widgets/base",
            "_view_module_version": "1.2.0",
            "_view_name": "LayoutView",
            "align_content": null,
            "align_items": null,
            "align_self": null,
            "border": null,
            "bottom": null,
            "display": null,
            "flex": null,
            "flex_flow": null,
            "grid_area": null,
            "grid_auto_columns": null,
            "grid_auto_flow": null,
            "grid_auto_rows": null,
            "grid_column": null,
            "grid_gap": null,
            "grid_row": null,
            "grid_template_areas": null,
            "grid_template_columns": null,
            "grid_template_rows": null,
            "height": null,
            "justify_content": null,
            "justify_items": null,
            "left": null,
            "margin": null,
            "max_height": null,
            "max_width": null,
            "min_height": null,
            "min_width": null,
            "object_fit": null,
            "object_position": null,
            "order": null,
            "overflow": null,
            "overflow_x": null,
            "overflow_y": null,
            "padding": null,
            "right": null,
            "top": null,
            "visibility": null,
            "width": null
          }
        },
        "962726810b6d47628485952a9c69aeae": {
          "model_module": "@jupyter-widgets/controls",
          "model_name": "DescriptionStyleModel",
          "model_module_version": "1.5.0",
          "state": {
            "_model_module": "@jupyter-widgets/controls",
            "_model_module_version": "1.5.0",
            "_model_name": "DescriptionStyleModel",
            "_view_count": null,
            "_view_module": "@jupyter-widgets/base",
            "_view_module_version": "1.2.0",
            "_view_name": "StyleView",
            "description_width": ""
          }
        },
        "be18135d75604901831e94308e3cce2a": {
          "model_module": "@jupyter-widgets/controls",
          "model_name": "HBoxModel",
          "model_module_version": "1.5.0",
          "state": {
            "_dom_classes": [],
            "_model_module": "@jupyter-widgets/controls",
            "_model_module_version": "1.5.0",
            "_model_name": "HBoxModel",
            "_view_count": null,
            "_view_module": "@jupyter-widgets/controls",
            "_view_module_version": "1.5.0",
            "_view_name": "HBoxView",
            "box_style": "",
            "children": [
              "IPY_MODEL_9e35e42507c24f5a80cf840056906a55",
              "IPY_MODEL_8a21a165705a46428d31dd30ded1cd12",
              "IPY_MODEL_5a132f901fd4439f9ecf66be952337ed"
            ],
            "layout": "IPY_MODEL_4c05d2f4520544b18f31b5d6733d211f"
          }
        },
        "9e35e42507c24f5a80cf840056906a55": {
          "model_module": "@jupyter-widgets/controls",
          "model_name": "HTMLModel",
          "model_module_version": "1.5.0",
          "state": {
            "_dom_classes": [],
            "_model_module": "@jupyter-widgets/controls",
            "_model_module_version": "1.5.0",
            "_model_name": "HTMLModel",
            "_view_count": null,
            "_view_module": "@jupyter-widgets/controls",
            "_view_module_version": "1.5.0",
            "_view_name": "HTMLView",
            "description": "",
            "description_tooltip": null,
            "layout": "IPY_MODEL_3f6a0781ed124b7086e2bd49f6a25086",
            "placeholder": "​",
            "style": "IPY_MODEL_a240098359a04792ab3c33ba69b7ad63",
            "value": "Downloading (…)tencepiece.bpe.model: 100%"
          }
        },
        "8a21a165705a46428d31dd30ded1cd12": {
          "model_module": "@jupyter-widgets/controls",
          "model_name": "FloatProgressModel",
          "model_module_version": "1.5.0",
          "state": {
            "_dom_classes": [],
            "_model_module": "@jupyter-widgets/controls",
            "_model_module_version": "1.5.0",
            "_model_name": "FloatProgressModel",
            "_view_count": null,
            "_view_module": "@jupyter-widgets/controls",
            "_view_module_version": "1.5.0",
            "_view_name": "ProgressView",
            "bar_style": "success",
            "description": "",
            "description_tooltip": null,
            "layout": "IPY_MODEL_29bdfe12b58948e88dada1de56a953f1",
            "max": 5069051,
            "min": 0,
            "orientation": "horizontal",
            "style": "IPY_MODEL_f6543f6e7d0d44628400ad8d24653926",
            "value": 5069051
          }
        },
        "5a132f901fd4439f9ecf66be952337ed": {
          "model_module": "@jupyter-widgets/controls",
          "model_name": "HTMLModel",
          "model_module_version": "1.5.0",
          "state": {
            "_dom_classes": [],
            "_model_module": "@jupyter-widgets/controls",
            "_model_module_version": "1.5.0",
            "_model_name": "HTMLModel",
            "_view_count": null,
            "_view_module": "@jupyter-widgets/controls",
            "_view_module_version": "1.5.0",
            "_view_name": "HTMLView",
            "description": "",
            "description_tooltip": null,
            "layout": "IPY_MODEL_db5694e2845647e18217bd1332d92985",
            "placeholder": "​",
            "style": "IPY_MODEL_8957381ff3a74c53adf08b6291009e14",
            "value": " 5.07M/5.07M [00:00&lt;00:00, 83.3MB/s]"
          }
        },
        "4c05d2f4520544b18f31b5d6733d211f": {
          "model_module": "@jupyter-widgets/base",
          "model_name": "LayoutModel",
          "model_module_version": "1.2.0",
          "state": {
            "_model_module": "@jupyter-widgets/base",
            "_model_module_version": "1.2.0",
            "_model_name": "LayoutModel",
            "_view_count": null,
            "_view_module": "@jupyter-widgets/base",
            "_view_module_version": "1.2.0",
            "_view_name": "LayoutView",
            "align_content": null,
            "align_items": null,
            "align_self": null,
            "border": null,
            "bottom": null,
            "display": null,
            "flex": null,
            "flex_flow": null,
            "grid_area": null,
            "grid_auto_columns": null,
            "grid_auto_flow": null,
            "grid_auto_rows": null,
            "grid_column": null,
            "grid_gap": null,
            "grid_row": null,
            "grid_template_areas": null,
            "grid_template_columns": null,
            "grid_template_rows": null,
            "height": null,
            "justify_content": null,
            "justify_items": null,
            "left": null,
            "margin": null,
            "max_height": null,
            "max_width": null,
            "min_height": null,
            "min_width": null,
            "object_fit": null,
            "object_position": null,
            "order": null,
            "overflow": null,
            "overflow_x": null,
            "overflow_y": null,
            "padding": null,
            "right": null,
            "top": null,
            "visibility": null,
            "width": null
          }
        },
        "3f6a0781ed124b7086e2bd49f6a25086": {
          "model_module": "@jupyter-widgets/base",
          "model_name": "LayoutModel",
          "model_module_version": "1.2.0",
          "state": {
            "_model_module": "@jupyter-widgets/base",
            "_model_module_version": "1.2.0",
            "_model_name": "LayoutModel",
            "_view_count": null,
            "_view_module": "@jupyter-widgets/base",
            "_view_module_version": "1.2.0",
            "_view_name": "LayoutView",
            "align_content": null,
            "align_items": null,
            "align_self": null,
            "border": null,
            "bottom": null,
            "display": null,
            "flex": null,
            "flex_flow": null,
            "grid_area": null,
            "grid_auto_columns": null,
            "grid_auto_flow": null,
            "grid_auto_rows": null,
            "grid_column": null,
            "grid_gap": null,
            "grid_row": null,
            "grid_template_areas": null,
            "grid_template_columns": null,
            "grid_template_rows": null,
            "height": null,
            "justify_content": null,
            "justify_items": null,
            "left": null,
            "margin": null,
            "max_height": null,
            "max_width": null,
            "min_height": null,
            "min_width": null,
            "object_fit": null,
            "object_position": null,
            "order": null,
            "overflow": null,
            "overflow_x": null,
            "overflow_y": null,
            "padding": null,
            "right": null,
            "top": null,
            "visibility": null,
            "width": null
          }
        },
        "a240098359a04792ab3c33ba69b7ad63": {
          "model_module": "@jupyter-widgets/controls",
          "model_name": "DescriptionStyleModel",
          "model_module_version": "1.5.0",
          "state": {
            "_model_module": "@jupyter-widgets/controls",
            "_model_module_version": "1.5.0",
            "_model_name": "DescriptionStyleModel",
            "_view_count": null,
            "_view_module": "@jupyter-widgets/base",
            "_view_module_version": "1.2.0",
            "_view_name": "StyleView",
            "description_width": ""
          }
        },
        "29bdfe12b58948e88dada1de56a953f1": {
          "model_module": "@jupyter-widgets/base",
          "model_name": "LayoutModel",
          "model_module_version": "1.2.0",
          "state": {
            "_model_module": "@jupyter-widgets/base",
            "_model_module_version": "1.2.0",
            "_model_name": "LayoutModel",
            "_view_count": null,
            "_view_module": "@jupyter-widgets/base",
            "_view_module_version": "1.2.0",
            "_view_name": "LayoutView",
            "align_content": null,
            "align_items": null,
            "align_self": null,
            "border": null,
            "bottom": null,
            "display": null,
            "flex": null,
            "flex_flow": null,
            "grid_area": null,
            "grid_auto_columns": null,
            "grid_auto_flow": null,
            "grid_auto_rows": null,
            "grid_column": null,
            "grid_gap": null,
            "grid_row": null,
            "grid_template_areas": null,
            "grid_template_columns": null,
            "grid_template_rows": null,
            "height": null,
            "justify_content": null,
            "justify_items": null,
            "left": null,
            "margin": null,
            "max_height": null,
            "max_width": null,
            "min_height": null,
            "min_width": null,
            "object_fit": null,
            "object_position": null,
            "order": null,
            "overflow": null,
            "overflow_x": null,
            "overflow_y": null,
            "padding": null,
            "right": null,
            "top": null,
            "visibility": null,
            "width": null
          }
        },
        "f6543f6e7d0d44628400ad8d24653926": {
          "model_module": "@jupyter-widgets/controls",
          "model_name": "ProgressStyleModel",
          "model_module_version": "1.5.0",
          "state": {
            "_model_module": "@jupyter-widgets/controls",
            "_model_module_version": "1.5.0",
            "_model_name": "ProgressStyleModel",
            "_view_count": null,
            "_view_module": "@jupyter-widgets/base",
            "_view_module_version": "1.2.0",
            "_view_name": "StyleView",
            "bar_color": null,
            "description_width": ""
          }
        },
        "db5694e2845647e18217bd1332d92985": {
          "model_module": "@jupyter-widgets/base",
          "model_name": "LayoutModel",
          "model_module_version": "1.2.0",
          "state": {
            "_model_module": "@jupyter-widgets/base",
            "_model_module_version": "1.2.0",
            "_model_name": "LayoutModel",
            "_view_count": null,
            "_view_module": "@jupyter-widgets/base",
            "_view_module_version": "1.2.0",
            "_view_name": "LayoutView",
            "align_content": null,
            "align_items": null,
            "align_self": null,
            "border": null,
            "bottom": null,
            "display": null,
            "flex": null,
            "flex_flow": null,
            "grid_area": null,
            "grid_auto_columns": null,
            "grid_auto_flow": null,
            "grid_auto_rows": null,
            "grid_column": null,
            "grid_gap": null,
            "grid_row": null,
            "grid_template_areas": null,
            "grid_template_columns": null,
            "grid_template_rows": null,
            "height": null,
            "justify_content": null,
            "justify_items": null,
            "left": null,
            "margin": null,
            "max_height": null,
            "max_width": null,
            "min_height": null,
            "min_width": null,
            "object_fit": null,
            "object_position": null,
            "order": null,
            "overflow": null,
            "overflow_x": null,
            "overflow_y": null,
            "padding": null,
            "right": null,
            "top": null,
            "visibility": null,
            "width": null
          }
        },
        "8957381ff3a74c53adf08b6291009e14": {
          "model_module": "@jupyter-widgets/controls",
          "model_name": "DescriptionStyleModel",
          "model_module_version": "1.5.0",
          "state": {
            "_model_module": "@jupyter-widgets/controls",
            "_model_module_version": "1.5.0",
            "_model_name": "DescriptionStyleModel",
            "_view_count": null,
            "_view_module": "@jupyter-widgets/base",
            "_view_module_version": "1.2.0",
            "_view_name": "StyleView",
            "description_width": ""
          }
        },
        "5b4c575405414550ae425e9e765de234": {
          "model_module": "@jupyter-widgets/controls",
          "model_name": "HBoxModel",
          "model_module_version": "1.5.0",
          "state": {
            "_dom_classes": [],
            "_model_module": "@jupyter-widgets/controls",
            "_model_module_version": "1.5.0",
            "_model_name": "HBoxModel",
            "_view_count": null,
            "_view_module": "@jupyter-widgets/controls",
            "_view_module_version": "1.5.0",
            "_view_name": "HBoxView",
            "box_style": "",
            "children": [
              "IPY_MODEL_0f28e978bae44d51b566122699b8c483",
              "IPY_MODEL_00c5d6c3b4284b85ba778dfa2fc4169a",
              "IPY_MODEL_6d0cb031a63a468ea4ae21bbfb72aec4"
            ],
            "layout": "IPY_MODEL_ff2c10c050374e37b7ee821b5de80a20"
          }
        },
        "0f28e978bae44d51b566122699b8c483": {
          "model_module": "@jupyter-widgets/controls",
          "model_name": "HTMLModel",
          "model_module_version": "1.5.0",
          "state": {
            "_dom_classes": [],
            "_model_module": "@jupyter-widgets/controls",
            "_model_module_version": "1.5.0",
            "_model_name": "HTMLModel",
            "_view_count": null,
            "_view_module": "@jupyter-widgets/controls",
            "_view_module_version": "1.5.0",
            "_view_name": "HTMLView",
            "description": "",
            "description_tooltip": null,
            "layout": "IPY_MODEL_886ee67ef98049ebbf6199fb429b8c3c",
            "placeholder": "​",
            "style": "IPY_MODEL_20cca919750c480fab03ccc8608f7588",
            "value": "Downloading (…)cial_tokens_map.json: 100%"
          }
        },
        "00c5d6c3b4284b85ba778dfa2fc4169a": {
          "model_module": "@jupyter-widgets/controls",
          "model_name": "FloatProgressModel",
          "model_module_version": "1.5.0",
          "state": {
            "_dom_classes": [],
            "_model_module": "@jupyter-widgets/controls",
            "_model_module_version": "1.5.0",
            "_model_name": "FloatProgressModel",
            "_view_count": null,
            "_view_module": "@jupyter-widgets/controls",
            "_view_module_version": "1.5.0",
            "_view_name": "ProgressView",
            "bar_style": "success",
            "description": "",
            "description_tooltip": null,
            "layout": "IPY_MODEL_74e40e3c4b504434a7401717529af978",
            "max": 239,
            "min": 0,
            "orientation": "horizontal",
            "style": "IPY_MODEL_b48b59b716344eef912b02ae64ba00c6",
            "value": 239
          }
        },
        "6d0cb031a63a468ea4ae21bbfb72aec4": {
          "model_module": "@jupyter-widgets/controls",
          "model_name": "HTMLModel",
          "model_module_version": "1.5.0",
          "state": {
            "_dom_classes": [],
            "_model_module": "@jupyter-widgets/controls",
            "_model_module_version": "1.5.0",
            "_model_name": "HTMLModel",
            "_view_count": null,
            "_view_module": "@jupyter-widgets/controls",
            "_view_module_version": "1.5.0",
            "_view_name": "HTMLView",
            "description": "",
            "description_tooltip": null,
            "layout": "IPY_MODEL_c53ff471f1ba43f09e0f31c1121d3bf0",
            "placeholder": "​",
            "style": "IPY_MODEL_26c586e03a94407a9489fca44eb169b4",
            "value": " 239/239 [00:00&lt;00:00, 10.6kB/s]"
          }
        },
        "ff2c10c050374e37b7ee821b5de80a20": {
          "model_module": "@jupyter-widgets/base",
          "model_name": "LayoutModel",
          "model_module_version": "1.2.0",
          "state": {
            "_model_module": "@jupyter-widgets/base",
            "_model_module_version": "1.2.0",
            "_model_name": "LayoutModel",
            "_view_count": null,
            "_view_module": "@jupyter-widgets/base",
            "_view_module_version": "1.2.0",
            "_view_name": "LayoutView",
            "align_content": null,
            "align_items": null,
            "align_self": null,
            "border": null,
            "bottom": null,
            "display": null,
            "flex": null,
            "flex_flow": null,
            "grid_area": null,
            "grid_auto_columns": null,
            "grid_auto_flow": null,
            "grid_auto_rows": null,
            "grid_column": null,
            "grid_gap": null,
            "grid_row": null,
            "grid_template_areas": null,
            "grid_template_columns": null,
            "grid_template_rows": null,
            "height": null,
            "justify_content": null,
            "justify_items": null,
            "left": null,
            "margin": null,
            "max_height": null,
            "max_width": null,
            "min_height": null,
            "min_width": null,
            "object_fit": null,
            "object_position": null,
            "order": null,
            "overflow": null,
            "overflow_x": null,
            "overflow_y": null,
            "padding": null,
            "right": null,
            "top": null,
            "visibility": null,
            "width": null
          }
        },
        "886ee67ef98049ebbf6199fb429b8c3c": {
          "model_module": "@jupyter-widgets/base",
          "model_name": "LayoutModel",
          "model_module_version": "1.2.0",
          "state": {
            "_model_module": "@jupyter-widgets/base",
            "_model_module_version": "1.2.0",
            "_model_name": "LayoutModel",
            "_view_count": null,
            "_view_module": "@jupyter-widgets/base",
            "_view_module_version": "1.2.0",
            "_view_name": "LayoutView",
            "align_content": null,
            "align_items": null,
            "align_self": null,
            "border": null,
            "bottom": null,
            "display": null,
            "flex": null,
            "flex_flow": null,
            "grid_area": null,
            "grid_auto_columns": null,
            "grid_auto_flow": null,
            "grid_auto_rows": null,
            "grid_column": null,
            "grid_gap": null,
            "grid_row": null,
            "grid_template_areas": null,
            "grid_template_columns": null,
            "grid_template_rows": null,
            "height": null,
            "justify_content": null,
            "justify_items": null,
            "left": null,
            "margin": null,
            "max_height": null,
            "max_width": null,
            "min_height": null,
            "min_width": null,
            "object_fit": null,
            "object_position": null,
            "order": null,
            "overflow": null,
            "overflow_x": null,
            "overflow_y": null,
            "padding": null,
            "right": null,
            "top": null,
            "visibility": null,
            "width": null
          }
        },
        "20cca919750c480fab03ccc8608f7588": {
          "model_module": "@jupyter-widgets/controls",
          "model_name": "DescriptionStyleModel",
          "model_module_version": "1.5.0",
          "state": {
            "_model_module": "@jupyter-widgets/controls",
            "_model_module_version": "1.5.0",
            "_model_name": "DescriptionStyleModel",
            "_view_count": null,
            "_view_module": "@jupyter-widgets/base",
            "_view_module_version": "1.2.0",
            "_view_name": "StyleView",
            "description_width": ""
          }
        },
        "74e40e3c4b504434a7401717529af978": {
          "model_module": "@jupyter-widgets/base",
          "model_name": "LayoutModel",
          "model_module_version": "1.2.0",
          "state": {
            "_model_module": "@jupyter-widgets/base",
            "_model_module_version": "1.2.0",
            "_model_name": "LayoutModel",
            "_view_count": null,
            "_view_module": "@jupyter-widgets/base",
            "_view_module_version": "1.2.0",
            "_view_name": "LayoutView",
            "align_content": null,
            "align_items": null,
            "align_self": null,
            "border": null,
            "bottom": null,
            "display": null,
            "flex": null,
            "flex_flow": null,
            "grid_area": null,
            "grid_auto_columns": null,
            "grid_auto_flow": null,
            "grid_auto_rows": null,
            "grid_column": null,
            "grid_gap": null,
            "grid_row": null,
            "grid_template_areas": null,
            "grid_template_columns": null,
            "grid_template_rows": null,
            "height": null,
            "justify_content": null,
            "justify_items": null,
            "left": null,
            "margin": null,
            "max_height": null,
            "max_width": null,
            "min_height": null,
            "min_width": null,
            "object_fit": null,
            "object_position": null,
            "order": null,
            "overflow": null,
            "overflow_x": null,
            "overflow_y": null,
            "padding": null,
            "right": null,
            "top": null,
            "visibility": null,
            "width": null
          }
        },
        "b48b59b716344eef912b02ae64ba00c6": {
          "model_module": "@jupyter-widgets/controls",
          "model_name": "ProgressStyleModel",
          "model_module_version": "1.5.0",
          "state": {
            "_model_module": "@jupyter-widgets/controls",
            "_model_module_version": "1.5.0",
            "_model_name": "ProgressStyleModel",
            "_view_count": null,
            "_view_module": "@jupyter-widgets/base",
            "_view_module_version": "1.2.0",
            "_view_name": "StyleView",
            "bar_color": null,
            "description_width": ""
          }
        },
        "c53ff471f1ba43f09e0f31c1121d3bf0": {
          "model_module": "@jupyter-widgets/base",
          "model_name": "LayoutModel",
          "model_module_version": "1.2.0",
          "state": {
            "_model_module": "@jupyter-widgets/base",
            "_model_module_version": "1.2.0",
            "_model_name": "LayoutModel",
            "_view_count": null,
            "_view_module": "@jupyter-widgets/base",
            "_view_module_version": "1.2.0",
            "_view_name": "LayoutView",
            "align_content": null,
            "align_items": null,
            "align_self": null,
            "border": null,
            "bottom": null,
            "display": null,
            "flex": null,
            "flex_flow": null,
            "grid_area": null,
            "grid_auto_columns": null,
            "grid_auto_flow": null,
            "grid_auto_rows": null,
            "grid_column": null,
            "grid_gap": null,
            "grid_row": null,
            "grid_template_areas": null,
            "grid_template_columns": null,
            "grid_template_rows": null,
            "height": null,
            "justify_content": null,
            "justify_items": null,
            "left": null,
            "margin": null,
            "max_height": null,
            "max_width": null,
            "min_height": null,
            "min_width": null,
            "object_fit": null,
            "object_position": null,
            "order": null,
            "overflow": null,
            "overflow_x": null,
            "overflow_y": null,
            "padding": null,
            "right": null,
            "top": null,
            "visibility": null,
            "width": null
          }
        },
        "26c586e03a94407a9489fca44eb169b4": {
          "model_module": "@jupyter-widgets/controls",
          "model_name": "DescriptionStyleModel",
          "model_module_version": "1.5.0",
          "state": {
            "_model_module": "@jupyter-widgets/controls",
            "_model_module_version": "1.5.0",
            "_model_name": "DescriptionStyleModel",
            "_view_count": null,
            "_view_module": "@jupyter-widgets/base",
            "_view_module_version": "1.2.0",
            "_view_name": "StyleView",
            "description_width": ""
          }
        },
        "1c09cf03c5a544af9905cb8b526453ff": {
          "model_module": "@jupyter-widgets/controls",
          "model_name": "HBoxModel",
          "model_module_version": "1.5.0",
          "state": {
            "_dom_classes": [],
            "_model_module": "@jupyter-widgets/controls",
            "_model_module_version": "1.5.0",
            "_model_name": "HBoxModel",
            "_view_count": null,
            "_view_module": "@jupyter-widgets/controls",
            "_view_module_version": "1.5.0",
            "_view_name": "HBoxView",
            "box_style": "",
            "children": [
              "IPY_MODEL_11d205ccd0ea48a6afc69439c433fea1",
              "IPY_MODEL_bb4989e796d44eeea88909763d049de9",
              "IPY_MODEL_882cc48cf1274ba6b8360d9b003aef3e"
            ],
            "layout": "IPY_MODEL_45da5a28bcab41c888d4c3c63c543940"
          }
        },
        "11d205ccd0ea48a6afc69439c433fea1": {
          "model_module": "@jupyter-widgets/controls",
          "model_name": "HTMLModel",
          "model_module_version": "1.5.0",
          "state": {
            "_dom_classes": [],
            "_model_module": "@jupyter-widgets/controls",
            "_model_module_version": "1.5.0",
            "_model_name": "HTMLModel",
            "_view_count": null,
            "_view_module": "@jupyter-widgets/controls",
            "_view_module_version": "1.5.0",
            "_view_name": "HTMLView",
            "description": "",
            "description_tooltip": null,
            "layout": "IPY_MODEL_9c5eb34859da43198ccd1ebd3416d9b0",
            "placeholder": "​",
            "style": "IPY_MODEL_545469fcea824ce89d924b7e254fe2de",
            "value": "Downloading (…)9e268/tokenizer.json: 100%"
          }
        },
        "bb4989e796d44eeea88909763d049de9": {
          "model_module": "@jupyter-widgets/controls",
          "model_name": "FloatProgressModel",
          "model_module_version": "1.5.0",
          "state": {
            "_dom_classes": [],
            "_model_module": "@jupyter-widgets/controls",
            "_model_module_version": "1.5.0",
            "_model_name": "FloatProgressModel",
            "_view_count": null,
            "_view_module": "@jupyter-widgets/controls",
            "_view_module_version": "1.5.0",
            "_view_name": "ProgressView",
            "bar_style": "success",
            "description": "",
            "description_tooltip": null,
            "layout": "IPY_MODEL_a2e07ca2320d4fb0b3585b9fb6f81a0f",
            "max": 9081518,
            "min": 0,
            "orientation": "horizontal",
            "style": "IPY_MODEL_78b6ba3106a043229eda0c24e62ab897",
            "value": 9081518
          }
        },
        "882cc48cf1274ba6b8360d9b003aef3e": {
          "model_module": "@jupyter-widgets/controls",
          "model_name": "HTMLModel",
          "model_module_version": "1.5.0",
          "state": {
            "_dom_classes": [],
            "_model_module": "@jupyter-widgets/controls",
            "_model_module_version": "1.5.0",
            "_model_name": "HTMLModel",
            "_view_count": null,
            "_view_module": "@jupyter-widgets/controls",
            "_view_module_version": "1.5.0",
            "_view_name": "HTMLView",
            "description": "",
            "description_tooltip": null,
            "layout": "IPY_MODEL_6679dd0867e641089b5c14da06e90a6e",
            "placeholder": "​",
            "style": "IPY_MODEL_9633b50246f1442faddba0f10b0defae",
            "value": " 9.08M/9.08M [00:00&lt;00:00, 49.9MB/s]"
          }
        },
        "45da5a28bcab41c888d4c3c63c543940": {
          "model_module": "@jupyter-widgets/base",
          "model_name": "LayoutModel",
          "model_module_version": "1.2.0",
          "state": {
            "_model_module": "@jupyter-widgets/base",
            "_model_module_version": "1.2.0",
            "_model_name": "LayoutModel",
            "_view_count": null,
            "_view_module": "@jupyter-widgets/base",
            "_view_module_version": "1.2.0",
            "_view_name": "LayoutView",
            "align_content": null,
            "align_items": null,
            "align_self": null,
            "border": null,
            "bottom": null,
            "display": null,
            "flex": null,
            "flex_flow": null,
            "grid_area": null,
            "grid_auto_columns": null,
            "grid_auto_flow": null,
            "grid_auto_rows": null,
            "grid_column": null,
            "grid_gap": null,
            "grid_row": null,
            "grid_template_areas": null,
            "grid_template_columns": null,
            "grid_template_rows": null,
            "height": null,
            "justify_content": null,
            "justify_items": null,
            "left": null,
            "margin": null,
            "max_height": null,
            "max_width": null,
            "min_height": null,
            "min_width": null,
            "object_fit": null,
            "object_position": null,
            "order": null,
            "overflow": null,
            "overflow_x": null,
            "overflow_y": null,
            "padding": null,
            "right": null,
            "top": null,
            "visibility": null,
            "width": null
          }
        },
        "9c5eb34859da43198ccd1ebd3416d9b0": {
          "model_module": "@jupyter-widgets/base",
          "model_name": "LayoutModel",
          "model_module_version": "1.2.0",
          "state": {
            "_model_module": "@jupyter-widgets/base",
            "_model_module_version": "1.2.0",
            "_model_name": "LayoutModel",
            "_view_count": null,
            "_view_module": "@jupyter-widgets/base",
            "_view_module_version": "1.2.0",
            "_view_name": "LayoutView",
            "align_content": null,
            "align_items": null,
            "align_self": null,
            "border": null,
            "bottom": null,
            "display": null,
            "flex": null,
            "flex_flow": null,
            "grid_area": null,
            "grid_auto_columns": null,
            "grid_auto_flow": null,
            "grid_auto_rows": null,
            "grid_column": null,
            "grid_gap": null,
            "grid_row": null,
            "grid_template_areas": null,
            "grid_template_columns": null,
            "grid_template_rows": null,
            "height": null,
            "justify_content": null,
            "justify_items": null,
            "left": null,
            "margin": null,
            "max_height": null,
            "max_width": null,
            "min_height": null,
            "min_width": null,
            "object_fit": null,
            "object_position": null,
            "order": null,
            "overflow": null,
            "overflow_x": null,
            "overflow_y": null,
            "padding": null,
            "right": null,
            "top": null,
            "visibility": null,
            "width": null
          }
        },
        "545469fcea824ce89d924b7e254fe2de": {
          "model_module": "@jupyter-widgets/controls",
          "model_name": "DescriptionStyleModel",
          "model_module_version": "1.5.0",
          "state": {
            "_model_module": "@jupyter-widgets/controls",
            "_model_module_version": "1.5.0",
            "_model_name": "DescriptionStyleModel",
            "_view_count": null,
            "_view_module": "@jupyter-widgets/base",
            "_view_module_version": "1.2.0",
            "_view_name": "StyleView",
            "description_width": ""
          }
        },
        "a2e07ca2320d4fb0b3585b9fb6f81a0f": {
          "model_module": "@jupyter-widgets/base",
          "model_name": "LayoutModel",
          "model_module_version": "1.2.0",
          "state": {
            "_model_module": "@jupyter-widgets/base",
            "_model_module_version": "1.2.0",
            "_model_name": "LayoutModel",
            "_view_count": null,
            "_view_module": "@jupyter-widgets/base",
            "_view_module_version": "1.2.0",
            "_view_name": "LayoutView",
            "align_content": null,
            "align_items": null,
            "align_self": null,
            "border": null,
            "bottom": null,
            "display": null,
            "flex": null,
            "flex_flow": null,
            "grid_area": null,
            "grid_auto_columns": null,
            "grid_auto_flow": null,
            "grid_auto_rows": null,
            "grid_column": null,
            "grid_gap": null,
            "grid_row": null,
            "grid_template_areas": null,
            "grid_template_columns": null,
            "grid_template_rows": null,
            "height": null,
            "justify_content": null,
            "justify_items": null,
            "left": null,
            "margin": null,
            "max_height": null,
            "max_width": null,
            "min_height": null,
            "min_width": null,
            "object_fit": null,
            "object_position": null,
            "order": null,
            "overflow": null,
            "overflow_x": null,
            "overflow_y": null,
            "padding": null,
            "right": null,
            "top": null,
            "visibility": null,
            "width": null
          }
        },
        "78b6ba3106a043229eda0c24e62ab897": {
          "model_module": "@jupyter-widgets/controls",
          "model_name": "ProgressStyleModel",
          "model_module_version": "1.5.0",
          "state": {
            "_model_module": "@jupyter-widgets/controls",
            "_model_module_version": "1.5.0",
            "_model_name": "ProgressStyleModel",
            "_view_count": null,
            "_view_module": "@jupyter-widgets/base",
            "_view_module_version": "1.2.0",
            "_view_name": "StyleView",
            "bar_color": null,
            "description_width": ""
          }
        },
        "6679dd0867e641089b5c14da06e90a6e": {
          "model_module": "@jupyter-widgets/base",
          "model_name": "LayoutModel",
          "model_module_version": "1.2.0",
          "state": {
            "_model_module": "@jupyter-widgets/base",
            "_model_module_version": "1.2.0",
            "_model_name": "LayoutModel",
            "_view_count": null,
            "_view_module": "@jupyter-widgets/base",
            "_view_module_version": "1.2.0",
            "_view_name": "LayoutView",
            "align_content": null,
            "align_items": null,
            "align_self": null,
            "border": null,
            "bottom": null,
            "display": null,
            "flex": null,
            "flex_flow": null,
            "grid_area": null,
            "grid_auto_columns": null,
            "grid_auto_flow": null,
            "grid_auto_rows": null,
            "grid_column": null,
            "grid_gap": null,
            "grid_row": null,
            "grid_template_areas": null,
            "grid_template_columns": null,
            "grid_template_rows": null,
            "height": null,
            "justify_content": null,
            "justify_items": null,
            "left": null,
            "margin": null,
            "max_height": null,
            "max_width": null,
            "min_height": null,
            "min_width": null,
            "object_fit": null,
            "object_position": null,
            "order": null,
            "overflow": null,
            "overflow_x": null,
            "overflow_y": null,
            "padding": null,
            "right": null,
            "top": null,
            "visibility": null,
            "width": null
          }
        },
        "9633b50246f1442faddba0f10b0defae": {
          "model_module": "@jupyter-widgets/controls",
          "model_name": "DescriptionStyleModel",
          "model_module_version": "1.5.0",
          "state": {
            "_model_module": "@jupyter-widgets/controls",
            "_model_module_version": "1.5.0",
            "_model_name": "DescriptionStyleModel",
            "_view_count": null,
            "_view_module": "@jupyter-widgets/base",
            "_view_module_version": "1.2.0",
            "_view_name": "StyleView",
            "description_width": ""
          }
        },
        "171d0ffcc656435abf868b362d2654f9": {
          "model_module": "@jupyter-widgets/controls",
          "model_name": "HBoxModel",
          "model_module_version": "1.5.0",
          "state": {
            "_dom_classes": [],
            "_model_module": "@jupyter-widgets/controls",
            "_model_module_version": "1.5.0",
            "_model_name": "HBoxModel",
            "_view_count": null,
            "_view_module": "@jupyter-widgets/controls",
            "_view_module_version": "1.5.0",
            "_view_name": "HBoxView",
            "box_style": "",
            "children": [
              "IPY_MODEL_e34d87ebec964a23aa99b11dd55478c4",
              "IPY_MODEL_9b42ef1682c34fcb8dea8cea7de484d1",
              "IPY_MODEL_3147c799dcb6448e9c861cba6cce0b19"
            ],
            "layout": "IPY_MODEL_675259ef7bd3411493d6a594d9d451c8"
          }
        },
        "e34d87ebec964a23aa99b11dd55478c4": {
          "model_module": "@jupyter-widgets/controls",
          "model_name": "HTMLModel",
          "model_module_version": "1.5.0",
          "state": {
            "_dom_classes": [],
            "_model_module": "@jupyter-widgets/controls",
            "_model_module_version": "1.5.0",
            "_model_name": "HTMLModel",
            "_view_count": null,
            "_view_module": "@jupyter-widgets/controls",
            "_view_module_version": "1.5.0",
            "_view_name": "HTMLView",
            "description": "",
            "description_tooltip": null,
            "layout": "IPY_MODEL_cc02fe5faf2045be9c6e37a04c507cac",
            "placeholder": "​",
            "style": "IPY_MODEL_c0257855dcc6456abbf491b7c8d2fc22",
            "value": "Downloading (…)okenizer_config.json: 100%"
          }
        },
        "9b42ef1682c34fcb8dea8cea7de484d1": {
          "model_module": "@jupyter-widgets/controls",
          "model_name": "FloatProgressModel",
          "model_module_version": "1.5.0",
          "state": {
            "_dom_classes": [],
            "_model_module": "@jupyter-widgets/controls",
            "_model_module_version": "1.5.0",
            "_model_name": "FloatProgressModel",
            "_view_count": null,
            "_view_module": "@jupyter-widgets/controls",
            "_view_module_version": "1.5.0",
            "_view_name": "ProgressView",
            "bar_style": "success",
            "description": "",
            "description_tooltip": null,
            "layout": "IPY_MODEL_2e64c40a9a8143f282ed344dcd99363e",
            "max": 402,
            "min": 0,
            "orientation": "horizontal",
            "style": "IPY_MODEL_671edc7122414fcdb220b79bc2c29e61",
            "value": 402
          }
        },
        "3147c799dcb6448e9c861cba6cce0b19": {
          "model_module": "@jupyter-widgets/controls",
          "model_name": "HTMLModel",
          "model_module_version": "1.5.0",
          "state": {
            "_dom_classes": [],
            "_model_module": "@jupyter-widgets/controls",
            "_model_module_version": "1.5.0",
            "_model_name": "HTMLModel",
            "_view_count": null,
            "_view_module": "@jupyter-widgets/controls",
            "_view_module_version": "1.5.0",
            "_view_name": "HTMLView",
            "description": "",
            "description_tooltip": null,
            "layout": "IPY_MODEL_855b06547d784ea19654708f516a8ba3",
            "placeholder": "​",
            "style": "IPY_MODEL_a1bc8d83ce0040ceb50ae7a0523e4a54",
            "value": " 402/402 [00:00&lt;00:00, 15.0kB/s]"
          }
        },
        "675259ef7bd3411493d6a594d9d451c8": {
          "model_module": "@jupyter-widgets/base",
          "model_name": "LayoutModel",
          "model_module_version": "1.2.0",
          "state": {
            "_model_module": "@jupyter-widgets/base",
            "_model_module_version": "1.2.0",
            "_model_name": "LayoutModel",
            "_view_count": null,
            "_view_module": "@jupyter-widgets/base",
            "_view_module_version": "1.2.0",
            "_view_name": "LayoutView",
            "align_content": null,
            "align_items": null,
            "align_self": null,
            "border": null,
            "bottom": null,
            "display": null,
            "flex": null,
            "flex_flow": null,
            "grid_area": null,
            "grid_auto_columns": null,
            "grid_auto_flow": null,
            "grid_auto_rows": null,
            "grid_column": null,
            "grid_gap": null,
            "grid_row": null,
            "grid_template_areas": null,
            "grid_template_columns": null,
            "grid_template_rows": null,
            "height": null,
            "justify_content": null,
            "justify_items": null,
            "left": null,
            "margin": null,
            "max_height": null,
            "max_width": null,
            "min_height": null,
            "min_width": null,
            "object_fit": null,
            "object_position": null,
            "order": null,
            "overflow": null,
            "overflow_x": null,
            "overflow_y": null,
            "padding": null,
            "right": null,
            "top": null,
            "visibility": null,
            "width": null
          }
        },
        "cc02fe5faf2045be9c6e37a04c507cac": {
          "model_module": "@jupyter-widgets/base",
          "model_name": "LayoutModel",
          "model_module_version": "1.2.0",
          "state": {
            "_model_module": "@jupyter-widgets/base",
            "_model_module_version": "1.2.0",
            "_model_name": "LayoutModel",
            "_view_count": null,
            "_view_module": "@jupyter-widgets/base",
            "_view_module_version": "1.2.0",
            "_view_name": "LayoutView",
            "align_content": null,
            "align_items": null,
            "align_self": null,
            "border": null,
            "bottom": null,
            "display": null,
            "flex": null,
            "flex_flow": null,
            "grid_area": null,
            "grid_auto_columns": null,
            "grid_auto_flow": null,
            "grid_auto_rows": null,
            "grid_column": null,
            "grid_gap": null,
            "grid_row": null,
            "grid_template_areas": null,
            "grid_template_columns": null,
            "grid_template_rows": null,
            "height": null,
            "justify_content": null,
            "justify_items": null,
            "left": null,
            "margin": null,
            "max_height": null,
            "max_width": null,
            "min_height": null,
            "min_width": null,
            "object_fit": null,
            "object_position": null,
            "order": null,
            "overflow": null,
            "overflow_x": null,
            "overflow_y": null,
            "padding": null,
            "right": null,
            "top": null,
            "visibility": null,
            "width": null
          }
        },
        "c0257855dcc6456abbf491b7c8d2fc22": {
          "model_module": "@jupyter-widgets/controls",
          "model_name": "DescriptionStyleModel",
          "model_module_version": "1.5.0",
          "state": {
            "_model_module": "@jupyter-widgets/controls",
            "_model_module_version": "1.5.0",
            "_model_name": "DescriptionStyleModel",
            "_view_count": null,
            "_view_module": "@jupyter-widgets/base",
            "_view_module_version": "1.2.0",
            "_view_name": "StyleView",
            "description_width": ""
          }
        },
        "2e64c40a9a8143f282ed344dcd99363e": {
          "model_module": "@jupyter-widgets/base",
          "model_name": "LayoutModel",
          "model_module_version": "1.2.0",
          "state": {
            "_model_module": "@jupyter-widgets/base",
            "_model_module_version": "1.2.0",
            "_model_name": "LayoutModel",
            "_view_count": null,
            "_view_module": "@jupyter-widgets/base",
            "_view_module_version": "1.2.0",
            "_view_name": "LayoutView",
            "align_content": null,
            "align_items": null,
            "align_self": null,
            "border": null,
            "bottom": null,
            "display": null,
            "flex": null,
            "flex_flow": null,
            "grid_area": null,
            "grid_auto_columns": null,
            "grid_auto_flow": null,
            "grid_auto_rows": null,
            "grid_column": null,
            "grid_gap": null,
            "grid_row": null,
            "grid_template_areas": null,
            "grid_template_columns": null,
            "grid_template_rows": null,
            "height": null,
            "justify_content": null,
            "justify_items": null,
            "left": null,
            "margin": null,
            "max_height": null,
            "max_width": null,
            "min_height": null,
            "min_width": null,
            "object_fit": null,
            "object_position": null,
            "order": null,
            "overflow": null,
            "overflow_x": null,
            "overflow_y": null,
            "padding": null,
            "right": null,
            "top": null,
            "visibility": null,
            "width": null
          }
        },
        "671edc7122414fcdb220b79bc2c29e61": {
          "model_module": "@jupyter-widgets/controls",
          "model_name": "ProgressStyleModel",
          "model_module_version": "1.5.0",
          "state": {
            "_model_module": "@jupyter-widgets/controls",
            "_model_module_version": "1.5.0",
            "_model_name": "ProgressStyleModel",
            "_view_count": null,
            "_view_module": "@jupyter-widgets/base",
            "_view_module_version": "1.2.0",
            "_view_name": "StyleView",
            "bar_color": null,
            "description_width": ""
          }
        },
        "855b06547d784ea19654708f516a8ba3": {
          "model_module": "@jupyter-widgets/base",
          "model_name": "LayoutModel",
          "model_module_version": "1.2.0",
          "state": {
            "_model_module": "@jupyter-widgets/base",
            "_model_module_version": "1.2.0",
            "_model_name": "LayoutModel",
            "_view_count": null,
            "_view_module": "@jupyter-widgets/base",
            "_view_module_version": "1.2.0",
            "_view_name": "LayoutView",
            "align_content": null,
            "align_items": null,
            "align_self": null,
            "border": null,
            "bottom": null,
            "display": null,
            "flex": null,
            "flex_flow": null,
            "grid_area": null,
            "grid_auto_columns": null,
            "grid_auto_flow": null,
            "grid_auto_rows": null,
            "grid_column": null,
            "grid_gap": null,
            "grid_row": null,
            "grid_template_areas": null,
            "grid_template_columns": null,
            "grid_template_rows": null,
            "height": null,
            "justify_content": null,
            "justify_items": null,
            "left": null,
            "margin": null,
            "max_height": null,
            "max_width": null,
            "min_height": null,
            "min_width": null,
            "object_fit": null,
            "object_position": null,
            "order": null,
            "overflow": null,
            "overflow_x": null,
            "overflow_y": null,
            "padding": null,
            "right": null,
            "top": null,
            "visibility": null,
            "width": null
          }
        },
        "a1bc8d83ce0040ceb50ae7a0523e4a54": {
          "model_module": "@jupyter-widgets/controls",
          "model_name": "DescriptionStyleModel",
          "model_module_version": "1.5.0",
          "state": {
            "_model_module": "@jupyter-widgets/controls",
            "_model_module_version": "1.5.0",
            "_model_name": "DescriptionStyleModel",
            "_view_count": null,
            "_view_module": "@jupyter-widgets/base",
            "_view_module_version": "1.2.0",
            "_view_name": "StyleView",
            "description_width": ""
          }
        },
        "ff3dd4acfdb640f2af118f63cdcf10f2": {
          "model_module": "@jupyter-widgets/controls",
          "model_name": "HBoxModel",
          "model_module_version": "1.5.0",
          "state": {
            "_dom_classes": [],
            "_model_module": "@jupyter-widgets/controls",
            "_model_module_version": "1.5.0",
            "_model_name": "HBoxModel",
            "_view_count": null,
            "_view_module": "@jupyter-widgets/controls",
            "_view_module_version": "1.5.0",
            "_view_name": "HBoxView",
            "box_style": "",
            "children": [
              "IPY_MODEL_f1aad24e0acb41e28a7318f4bc38d0fe",
              "IPY_MODEL_be7a7c88d0b24036b2d1617ea63d596c",
              "IPY_MODEL_26f0aa819f6146d781f8c76e40a068b4"
            ],
            "layout": "IPY_MODEL_2d095ef674f44f8d8aa6a34b144edd95"
          }
        },
        "f1aad24e0acb41e28a7318f4bc38d0fe": {
          "model_module": "@jupyter-widgets/controls",
          "model_name": "HTMLModel",
          "model_module_version": "1.5.0",
          "state": {
            "_dom_classes": [],
            "_model_module": "@jupyter-widgets/controls",
            "_model_module_version": "1.5.0",
            "_model_name": "HTMLModel",
            "_view_count": null,
            "_view_module": "@jupyter-widgets/controls",
            "_view_module_version": "1.5.0",
            "_view_name": "HTMLView",
            "description": "",
            "description_tooltip": null,
            "layout": "IPY_MODEL_eac8cefdd230472080006c5e682f0437",
            "placeholder": "​",
            "style": "IPY_MODEL_887d39c1510a487982b408726c7d1293",
            "value": "Downloading (…)d19e268/modules.json: 100%"
          }
        },
        "be7a7c88d0b24036b2d1617ea63d596c": {
          "model_module": "@jupyter-widgets/controls",
          "model_name": "FloatProgressModel",
          "model_module_version": "1.5.0",
          "state": {
            "_dom_classes": [],
            "_model_module": "@jupyter-widgets/controls",
            "_model_module_version": "1.5.0",
            "_model_name": "FloatProgressModel",
            "_view_count": null,
            "_view_module": "@jupyter-widgets/controls",
            "_view_module_version": "1.5.0",
            "_view_name": "ProgressView",
            "bar_style": "success",
            "description": "",
            "description_tooltip": null,
            "layout": "IPY_MODEL_7de7ffdc5cd349e98c69af53d85e7a27",
            "max": 229,
            "min": 0,
            "orientation": "horizontal",
            "style": "IPY_MODEL_17425ebfc9404148815435face0ea0d4",
            "value": 229
          }
        },
        "26f0aa819f6146d781f8c76e40a068b4": {
          "model_module": "@jupyter-widgets/controls",
          "model_name": "HTMLModel",
          "model_module_version": "1.5.0",
          "state": {
            "_dom_classes": [],
            "_model_module": "@jupyter-widgets/controls",
            "_model_module_version": "1.5.0",
            "_model_name": "HTMLModel",
            "_view_count": null,
            "_view_module": "@jupyter-widgets/controls",
            "_view_module_version": "1.5.0",
            "_view_name": "HTMLView",
            "description": "",
            "description_tooltip": null,
            "layout": "IPY_MODEL_e77a70db7a7c4cca8afa0a9611ca06a2",
            "placeholder": "​",
            "style": "IPY_MODEL_0e41a747ba7841d78414d1de0398a40e",
            "value": " 229/229 [00:00&lt;00:00, 9.30kB/s]"
          }
        },
        "2d095ef674f44f8d8aa6a34b144edd95": {
          "model_module": "@jupyter-widgets/base",
          "model_name": "LayoutModel",
          "model_module_version": "1.2.0",
          "state": {
            "_model_module": "@jupyter-widgets/base",
            "_model_module_version": "1.2.0",
            "_model_name": "LayoutModel",
            "_view_count": null,
            "_view_module": "@jupyter-widgets/base",
            "_view_module_version": "1.2.0",
            "_view_name": "LayoutView",
            "align_content": null,
            "align_items": null,
            "align_self": null,
            "border": null,
            "bottom": null,
            "display": null,
            "flex": null,
            "flex_flow": null,
            "grid_area": null,
            "grid_auto_columns": null,
            "grid_auto_flow": null,
            "grid_auto_rows": null,
            "grid_column": null,
            "grid_gap": null,
            "grid_row": null,
            "grid_template_areas": null,
            "grid_template_columns": null,
            "grid_template_rows": null,
            "height": null,
            "justify_content": null,
            "justify_items": null,
            "left": null,
            "margin": null,
            "max_height": null,
            "max_width": null,
            "min_height": null,
            "min_width": null,
            "object_fit": null,
            "object_position": null,
            "order": null,
            "overflow": null,
            "overflow_x": null,
            "overflow_y": null,
            "padding": null,
            "right": null,
            "top": null,
            "visibility": null,
            "width": null
          }
        },
        "eac8cefdd230472080006c5e682f0437": {
          "model_module": "@jupyter-widgets/base",
          "model_name": "LayoutModel",
          "model_module_version": "1.2.0",
          "state": {
            "_model_module": "@jupyter-widgets/base",
            "_model_module_version": "1.2.0",
            "_model_name": "LayoutModel",
            "_view_count": null,
            "_view_module": "@jupyter-widgets/base",
            "_view_module_version": "1.2.0",
            "_view_name": "LayoutView",
            "align_content": null,
            "align_items": null,
            "align_self": null,
            "border": null,
            "bottom": null,
            "display": null,
            "flex": null,
            "flex_flow": null,
            "grid_area": null,
            "grid_auto_columns": null,
            "grid_auto_flow": null,
            "grid_auto_rows": null,
            "grid_column": null,
            "grid_gap": null,
            "grid_row": null,
            "grid_template_areas": null,
            "grid_template_columns": null,
            "grid_template_rows": null,
            "height": null,
            "justify_content": null,
            "justify_items": null,
            "left": null,
            "margin": null,
            "max_height": null,
            "max_width": null,
            "min_height": null,
            "min_width": null,
            "object_fit": null,
            "object_position": null,
            "order": null,
            "overflow": null,
            "overflow_x": null,
            "overflow_y": null,
            "padding": null,
            "right": null,
            "top": null,
            "visibility": null,
            "width": null
          }
        },
        "887d39c1510a487982b408726c7d1293": {
          "model_module": "@jupyter-widgets/controls",
          "model_name": "DescriptionStyleModel",
          "model_module_version": "1.5.0",
          "state": {
            "_model_module": "@jupyter-widgets/controls",
            "_model_module_version": "1.5.0",
            "_model_name": "DescriptionStyleModel",
            "_view_count": null,
            "_view_module": "@jupyter-widgets/base",
            "_view_module_version": "1.2.0",
            "_view_name": "StyleView",
            "description_width": ""
          }
        },
        "7de7ffdc5cd349e98c69af53d85e7a27": {
          "model_module": "@jupyter-widgets/base",
          "model_name": "LayoutModel",
          "model_module_version": "1.2.0",
          "state": {
            "_model_module": "@jupyter-widgets/base",
            "_model_module_version": "1.2.0",
            "_model_name": "LayoutModel",
            "_view_count": null,
            "_view_module": "@jupyter-widgets/base",
            "_view_module_version": "1.2.0",
            "_view_name": "LayoutView",
            "align_content": null,
            "align_items": null,
            "align_self": null,
            "border": null,
            "bottom": null,
            "display": null,
            "flex": null,
            "flex_flow": null,
            "grid_area": null,
            "grid_auto_columns": null,
            "grid_auto_flow": null,
            "grid_auto_rows": null,
            "grid_column": null,
            "grid_gap": null,
            "grid_row": null,
            "grid_template_areas": null,
            "grid_template_columns": null,
            "grid_template_rows": null,
            "height": null,
            "justify_content": null,
            "justify_items": null,
            "left": null,
            "margin": null,
            "max_height": null,
            "max_width": null,
            "min_height": null,
            "min_width": null,
            "object_fit": null,
            "object_position": null,
            "order": null,
            "overflow": null,
            "overflow_x": null,
            "overflow_y": null,
            "padding": null,
            "right": null,
            "top": null,
            "visibility": null,
            "width": null
          }
        },
        "17425ebfc9404148815435face0ea0d4": {
          "model_module": "@jupyter-widgets/controls",
          "model_name": "ProgressStyleModel",
          "model_module_version": "1.5.0",
          "state": {
            "_model_module": "@jupyter-widgets/controls",
            "_model_module_version": "1.5.0",
            "_model_name": "ProgressStyleModel",
            "_view_count": null,
            "_view_module": "@jupyter-widgets/base",
            "_view_module_version": "1.2.0",
            "_view_name": "StyleView",
            "bar_color": null,
            "description_width": ""
          }
        },
        "e77a70db7a7c4cca8afa0a9611ca06a2": {
          "model_module": "@jupyter-widgets/base",
          "model_name": "LayoutModel",
          "model_module_version": "1.2.0",
          "state": {
            "_model_module": "@jupyter-widgets/base",
            "_model_module_version": "1.2.0",
            "_model_name": "LayoutModel",
            "_view_count": null,
            "_view_module": "@jupyter-widgets/base",
            "_view_module_version": "1.2.0",
            "_view_name": "LayoutView",
            "align_content": null,
            "align_items": null,
            "align_self": null,
            "border": null,
            "bottom": null,
            "display": null,
            "flex": null,
            "flex_flow": null,
            "grid_area": null,
            "grid_auto_columns": null,
            "grid_auto_flow": null,
            "grid_auto_rows": null,
            "grid_column": null,
            "grid_gap": null,
            "grid_row": null,
            "grid_template_areas": null,
            "grid_template_columns": null,
            "grid_template_rows": null,
            "height": null,
            "justify_content": null,
            "justify_items": null,
            "left": null,
            "margin": null,
            "max_height": null,
            "max_width": null,
            "min_height": null,
            "min_width": null,
            "object_fit": null,
            "object_position": null,
            "order": null,
            "overflow": null,
            "overflow_x": null,
            "overflow_y": null,
            "padding": null,
            "right": null,
            "top": null,
            "visibility": null,
            "width": null
          }
        },
        "0e41a747ba7841d78414d1de0398a40e": {
          "model_module": "@jupyter-widgets/controls",
          "model_name": "DescriptionStyleModel",
          "model_module_version": "1.5.0",
          "state": {
            "_model_module": "@jupyter-widgets/controls",
            "_model_module_version": "1.5.0",
            "_model_name": "DescriptionStyleModel",
            "_view_count": null,
            "_view_module": "@jupyter-widgets/base",
            "_view_module_version": "1.2.0",
            "_view_name": "StyleView",
            "description_width": ""
          }
        }
      }
    }
  },
  "nbformat": 4,
  "nbformat_minor": 0
}